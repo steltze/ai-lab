{
  "cells": [
    {
      "cell_type": "markdown",
      "metadata": {
        "id": "CCcGFAb8nULW"
      },
      "source": [
        "# Τεχνητή Νοημοσύνη: Εργαστηριακή Άσκηση 1\n",
        "\n",
        "    \n",
        "\n",
        "---\n",
        "\n",
        "\n",
        "\n",
        "Ο στόχος της εργασίας είναι η εφαρμογή αλγορίθμων αναζήτησης και εύρεσης καλύτερου μονοπατιού σε λαβύρινθο διαστάσεων $N\\times N$\n"
      ]
    },
    {
      "cell_type": "markdown",
      "metadata": {
        "id": "PPcLy1P7naLP"
      },
      "source": [
        "# Εκφώνηση\n",
        "\n",
        "## Μέρος 1\n",
        "Ο στόχος του πρώτου μέρους είναι η κατασκευή **λαβυρίνθων**. [Σε αυτό το άρθρο της Wikipedia](https://en.wikipedia.org/wiki/Maze_generation_algorithm) μπορείτε να βρείτε διάφορους αλγορίθμους για αυτό το σκοπό, συμπεριλαμβανομένου κι αυτού που χρησιμοποιείται παρακάτω. Προσέξτε ότι οι αλγόριθμοι του παραπάνω άρθρου κατασκευάζουν ένα μόνο μονοπάτι από κάθε σημείο του λαβυρίνθου προς οποιοδήποτε άλλο (η δομή του λαβυρίνθου έχει μορφή συνεκτικού δέντρου). Καλείστε να συμπληρώσετε τον κώδικα στα σημεία που λείπει ώστε οι λαβύρινθοι που κατασκευάζει τυχαία να έχουν μεταβλητή πυκνότητα εμποδίων/τοίχων (καθορίζεται από την παράμετρο threshold). Όλοι οι χάρτες θα πρέπει να έχουν τουλάχιστον ένα μονοπάτι μεταξύ ενός σημείου αφετηρίας (S) και ενός σημείου τερματισμού (F). \n",
        "\n",
        "Σε όλα τα ερωτήματα φροντίστε να χρησιμοποιήσετε **δομημένο** κώδικα, με **σχόλια** που επισημαίνουν τη λογική του.\n",
        "\n",
        "\n",
        "### Παραδείγματα λαβυρίνθων\n",
        "![index1.png](data:image/png;base64,iVBORw0KGgoAAAANSUhEUgAAAOsAAADrCAYAAACICmHVAAAABHNCSVQICAgIfAhkiAAAAAlwSFlzAAALEgAACxIB0t1+/AAAADh0RVh0U29mdHdhcmUAbWF0cGxvdGxpYiB2ZXJzaW9uMy4yLjIsIGh0dHA6Ly9tYXRwbG90bGliLm9yZy+WH4yJAAADhUlEQVR4nO3dwW0UMQCGURvRB0VsBXRBi+mCCuiBOz0MlxyDYJF3x9/se8ckGo3W+uRIkf7M4zgGsL9PZ78A8G/EChFihQixQoRYIUKsEPH5nh+ec/o7DzzYcRzzo6+7WSFCrBAhVogQK0SIFSLEChFihQixQoRYIUKsECFWiBArRIgVIsQKEWKFCLFChFghQqwQcdesy2o7/zeA29vXpc/78e370uft/Nm9mjk/XGFZzs0KEWKFCLFChFghQqwQIVaIECtEiBUixAoRYoUIsUKEWCFCrBAhVogQK0SIFSLEChFihQixQsSpG0yrPWsL54pe6bOr7le5WSFCrBAhVogQK0SIFSLEChFihQixQoRYIUKsECFWiBArRIgVIsQKEWKFCLFChFghQqwQcalZl53nOl5pNmWMvc+iys0KEWKFCLFChFghQqwQIVaIECtEiBUixAoRYoUIsUKEWCFCrBAhVogQK0SIFSLEChFihQixQsSlNphW7hzZENqLs3WzQoZYIUKsECFWiBArRIgVIsQKEWKFCLFChFghQqwQIVaIECtEiBUixAoRYoUIsUKEWCFCrBBxqQ2mnbd1dn63Ap+fmxUyxAoRYoUIsUKEWCFCrBAhVogQK0SIFSLEChFihQixQoRYIUKsECFWiBArRIgVIsQKEWKFiEttMM05z34FHmTl2Vb3nNysECFWiBArRIgVIsQKEWKFCLFChFghQqwQIVaIECtEiBUixAoRYoUIsUKEWCFCrBAhVogQK0RcaoOpuq3D360827fbbdmznsnNChFihQixQoRYIUKsECFWiBArRIgVIsQKEWKFCLFChFghQqwQIVaIECtEiBUixAoRYoUIsULEpTaY5pxnvwLvVu9hOVs3K2SIFSLEChFihQixQoRYIUKsECFWiBArRIgVIsQKEWKFCLFChFghQqwQIVaIECtEiBUiLjXrsnpKhH3sfLbPmpxxs0KEWCFCrBAhVogQK0SIFSLEChFihQixQoRYIUKsECFWiBArRIgVIsQKEWKFCLFChFghQqwQceoG07O2a+AK3KwQIVaIECtEiBUixAoRYoUIsUKEWCFCrBAhVogQK0SIFSLEChFihQixQoRYIUKsECFWiBArRNy7wfRrjPHzES8CjDHG+PKnb8zjOJ75IsB/8mswRIgVIsQKEWKFCLFChFghQqwQIVaIECtE/AZROUHZqFYHAAAAAABJRU5ErkJggg==)\n",
        "![index2.png](data:image/png;base64,iVBORw0KGgoAAAANSUhEUgAAAOsAAADrCAYAAACICmHVAAAABHNCSVQICAgIfAhkiAAAAAlwSFlzAAALEgAACxIB0t1+/AAAADh0RVh0U29mdHdhcmUAbWF0cGxvdGxpYiB2ZXJzaW9uMy4yLjIsIGh0dHA6Ly9tYXRwbG90bGliLm9yZy+WH4yJAAAEvklEQVR4nO3d0W0bRxRA0WWQPlKEKkgXadFduAL3kP/0wPwKiBQu7eHwXeqcz9iIhyNfjIE3u7xcr9cDmO+3Zy8AOEesECFWiBArRIgVIsQKEb/f85svl4s5DzzY9Xq9fPTfnawQIVaIECtEiBUixAoRYoUIsULEXXPWMzxyB5+7XD4coZ7iZIUIsUKEWCFCrBAhVogQK0SIFSKWz1lvOTNnOjOr/ZV51Ve2am9v/X++6s/nkfcMnKwQIVaIECtEiBUixAoRYoUIsUKEWCFi+6WInVYMqN++/Xnz9/z46/vD13FW6TLCrgsaqzx7b52sECFWiBArRIgVIsQKEWKFCLFChFghYuSliF3D52cPud+bNPx/Na+yt05WiBArRIgVIsQKEWKFCLFChFghQqwQsf1SRGH4/N6ur/JYtS9T9nfKOl6JkxUixAoRYoUIsUKEWCFCrBAhVohYPmed9ED3FKv2ZNfM9ww/5/2crBAhVogQK0SIFSLEChFihQixQoRYIWL5pQgPHf/XpD2ZtBbu42SFCLFChFghQqwQIVaIECtEiBUixAoR29/Iv/MNA7cuAEx624G1cIuTFSLEChFihQixQoRYIUKsECFWiMh+8/muWeCkh7Wt5ee8ytzYyQoRYoUIsUKEWCFCrBAhVogQK0SIFSKWX4pYMYAuDdyPY9bQfcpazqzjzM95yueZwMkKEWKFCLFChFghQqwQIVaIECtEiBUill+KqF1o2GHSnkxayxkr1rvqYsWz987JChFihQixQoRYIUKsECFWiBArRIgVIrZ/fcaqNwiUTBrKT3rzwivuyyP/7jpZIUKsECFWiBArRIgVIsQKEWKFiO1z1kl2zXMnzY0nrWWSwr44WSFCrBAhVogQK0SIFSLEChFihQixQsSXvhTxig9irzBpLZM8e1+crBAhVogQK0SIFSLEChFihQixQoRYIWL7pYhJT+RPWssZpTdbfMVvXjiO25/pVy5WOFkhQqwQIVaIECtEiBUixAoRYoUIsULE9ksRz37a/r1Ja1ll12fadaFhxeWKV7mg4WSFCLFChFghQqwQIVaIECtEiBUiRr6Rv/SQ9SqvNh9dZcV6a5/5M05WiBArRIgVIsQKEWKFCLFChFghQqwQMfJSxBmTLhHcWsuqofyuzzzpofxJa3k2JytEiBUixAoRYoUIsUKEWCFCrBAhVojYfili51P7j/zK+NUmXZyovVmhtt6f5WSFCLFChFghQqwQIVaIECtEiBUivvQ3n++y6jOvmCfuWsvObxuf9HfqkTNfJytEiBUixAoRYoUIsUKEWCFCrBAhVogY+Ub+XQ8Tr/pzSpcVanbtbWHfnKwQIVaIECtEiBUixAoRYoUIsUKEWCFi5KWISW8z2LGOsya9EWGF2kWQZ1+ucLJChFghQqwQIVaIECtEiBUixAoRYoWI7ZciJj2RP+mywqR9qfn29va/v/4qe+tkhQixQoRYIUKsECFWiBArRIgVIi73zKAul8trDKxgsOv1+uHg3skKEWKFCLFChFghQqwQIVaIECtEiBUi7n34/J/jOP5+xEKA4ziO44/PfuGuG0zA8/hnMESIFSLEChFihQixQoRYIUKsECFWiBArRPwLUNQF44aEdWwAAAAASUVORK5CYII=)\n",
        "![index3.png](data:image/png;base64,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)"
      ]
    },
    {
      "cell_type": "markdown",
      "metadata": {
        "id": "hrKnkVsr61N-"
      },
      "source": [
        "## Μέρος 2\n",
        "\n",
        "Στο δεύτερο μέρος της εργασίας καλείστε να υλοποιήσετε διάφορους αλγορίθμους εύρεσης συντομότερων μονοπατιών μεταξύ δυο κόμβων για τους λαβυρίνθους που παράγονται από τον κώδικα του πρώτου μέρους. Παράλληλα καλείστε να κατασκευάσετε και διάφορες συναρτήσεις κόστους τόσο για την μέτρηση των πραγματικών αποστάσεων όσο και για την εκτίμηση των αποστάσεων από έναν κόμβο στον κόμβο στόχο (heuristic). Επίσης μπορείτε να πειραματιστείτε με οποιαδήποτε από τις παραμέτρους κάθε αλγορίθμου με σκοπό να μελετήσετε το πώς οι αλλαγές αυτές επηρεάζουν την πολυπλοκότητα, τον χρόνο καθώς και βέλτιστο μονοπάτι. Οι παραπάνω αλγόριθμοι καθώς και οι παραλλαγές τους θα τρέξουν σε λαβυρίνθους με διαφορετικά μεγέθη. Υλοποιήστε τους αλγορίθμους στο κελί κώδικα του Μέρους 2.<br>\n",
        "\n",
        "Η γενική μορφή της συνάρτησης κόστους στον αλγόριθμο Α* είναι:\n",
        "$$f(n)=g(n)+h(n)$$\n",
        "Παραπάνω, η συνάρτηση $g(n)$ δίνει την πραγματική απόσταση από το σημείο εκκίνησης μέχρι τον κόμβο $n$, και η συνάρτηση $h(n)$ αποτελεί μια ευριστική της απόστασης από τον κόμβο $n$ μέχρι τον στόχο. Σας ζητείται να πειραματιστείτε με τις εξής επιλογές για τις δύο συναρτήσεις:\n",
        "* $g(n)=0$ και $h(n)=\\{\\text{manhattan}(n),\\text{euclidean}(n)\\}$. Ποιος αλγόριθμος αναζήτησης προκύπτει; Μπορεί να βρει πάντα το βέλτιστο μονοπάτι;\n",
        "* $g(n)=1$ και $h(n)=0$. Ποιος αλγόριθμος αναζήτησης προκύπτει; Μπορεί να βρει πάντα το βέλτιστο μονοπάτι;\n",
        "* $g(n)=1$ και $h(n)=\\{\\text{manhattan}(n),\\text{euclidean}(n)\\}$. Ποιος αλγόριθμος αναζήτησης προκύπτει; Μπορεί να βρει πάντα το βέλτιστο μονοπάτι;\n",
        "\n",
        "Μπορείτε να προτείνετε και άλλες ευριστικές συναρτήσεις εκτός από τις αποστάσεις manhattan και euclidean;"
      ]
    },
    {
      "cell_type": "markdown",
      "metadata": {
        "id": "obCdoIovIytR"
      },
      "source": []
    },
    {
      "cell_type": "markdown",
      "metadata": {
        "id": "HBVzpYPF9WC_"
      },
      "source": [
        "## Μέρος 3\n",
        "\n",
        "Στο τρίτο μέρος καλείστε να υλοποιήσετε μια συγκριτική μελέτη των αλγορίθμων που κατασκευάσατε στο Μέρος 2 με σκοπό να καταλήξετε σε ορισμένα συμπεράσματα. Οι αλγόριθμοι θα συγκρίνονται με βάση την πολυπλοκότητά τους και το κατά πόσο μπορούν να βρούν το βέλτιστο μονοπάτι. \n",
        " \n",
        "Για να κρίνουμε τον τρόπο με τον οποίο το μέγεθος του λαβύρινθου επηρεάζει τους αλγορίθμους, κατασκευάζουμε χάρτες με διάσταση $N=[10,20,\\ldots,100]$. Για κάθε παραμετροποίηση προτείνεται να κατασκευάζετε 100 διαφορετικούς χάρτες, στους οποίους θα εκτελείτε τους παραπάνω αλγορίθμους.\n",
        " \n",
        "Έπειτα, ζητείται να συλλέξετε τα εξής χαρακτηριστικά:\n",
        " * το μήκος του ελάχιστου μονοπατιού που εξάγει ο εκάστοτε αλγόριθμος.\n",
        " * το πλήθος των επεκτεταμένων κόμβων (expanded nodes) του κάθε αλγορίθμου, που αποτελεί μέτρο της πολυπλοκότητάς του.\n",
        " \n",
        " Για να σας είναι εύκολο να εξάγετε συμπεράσματα από τις παραπάνω παραμετροποιήσεις, ζητείται να κατασκευάσετε δύο γραφικές παραστάσεις:\n",
        " * το μήκος του ελάχιστου μονοπατιού συναρτήσει του μεγέθους του χάρτη\n",
        " * το πλήθος των expanded nodes συναρτήσει του μεγέθους του χάρτη\n",
        "\n",
        "\n",
        "\n",
        " Σας ζητείται σχολιάσετε τις παραπάνω γραφικές παραστάσεις, και συγκεκριμένα το πώς μεταβάλλεται η συμπεριφορά των αλγορίθμων συναρτήσει του $N$.\n",
        " \n",
        " Σημειώνουμε τα παρακάτω:\n",
        " \n",
        " * Σε όλα τα παραπάνω πειράματα μπορείτε να λάβετε σαν σημείο εκκίνησης το $(1,1)$ και σαν σημείο τερματισμού το $(N-2,N-2)$. Εναλλακτικά, μπορείτε να πειραματισθείτε με τυχαία σημεία εκκινησης και τερματισμού.\n",
        " * Αν και οι χάρτες παράγονται τυχαία, η εκτέλεση αλγορίθμων σε διαφορετικούς χάρτες παράγει μη συγκρίσιμα αποτελέσματα.\n",
        " * Για λόγους ευκολίας σύγκρισης, προτείνεται να τοποθετήσετε πολλαπλές γραφικές παραστάσεις στο ίδιο σύστημα αξόνων, όπου αυτό είναι εφικτό.\n",
        "\n",
        "**Visualization**: Παράλληλα με τα παραπάνω σάς δίνεται έτοιμη και μια κλάση η όποια κατασκευάζει ένα animation της αναζήτησης το οποίο υλοποιεί κάθε αλγόριθμος. Για την χρήση της κλάσης αυτής πρέπει να κάνετε τα εξής 4 βήματα:\n",
        "\n",
        "1.\tΔημιουργία ενός instance της κλάσης εκτελώντας την παρακάτω εντολή: `visualization(Start, Goal)`. Η εντολή αυτή δημιουργεί ένα αντικείμενο τύπου visualization. \n",
        "2.\tΤο βίντεο που παράγεται κάθε φορά ουσιαστικά αποτελείται από stacked frames. Συνεπώς σε κάθε βήμα εκτέλεσης όπου δηλαδή θέλουμε να προσθέσουμε ένα frame στο βίντεο πρέπει να καλέσουμε την μέθοδο της κλάσης: `draw_step(grid, frontier, expanded_nodes)` όπου το πρώτο όρισμα είναι ένας χάρτης (τύπου Maze) το δεύτερο μια λίστα με το μέτωπο της αναζήτηση ενώ το τρίτο μια λίστα με τους κόμβους οι όποιοι έχουν ήδη επεκταθεί από τον αλγόριθμο. \n",
        "3.\t(Προαιρετικό) Αν θέλουμε να προσθέσουμε στο animation και το βέλτιστο μονοπάτι που βρήκε ο αλγόριθμός μας μπορούμε να καλέσουμε την μέθοδο add_path(path) η οποία δέχεται σαν όρισμα μια λίστα με όλους τους κόμβους που ανήκουν στο βέλτιστο μονοπάτι (συμπεριλαμβανομένων και των κόμβων αρχής και τέλους).\n",
        "4.\tΤέλος καλούμε την συνάρτηση `show_gif()` η όποια εμφανίζει το animation. Επίσης μπορούμε και να αποθηκεύσουμε το gif καλώντας την συνάρτηση `save_gif (filename)` (το αρχείο πρέπει να έχει κατάληξη .gif) καθώς επίσης μπορούμε να εμφανίσουμε μόνο το τελευταίο frame καλώντας την συνάρτηση `show_last_frame()` στο όποιο (αν έχουν γίνει όλα όπως παραπάνω) θα φαίνονται όλοι οι κόμβοι οι οποίοι έχουν επεκταθεί από τον αλγόριθμο, το τελευταίο μέτωπο και (προαιρετικά) και το βέλτιστο μονοπάτι.\n",
        "\n",
        "Μπορείτε να καταλήξετε στα ίδια συμπεράσματα όσον αφορά την πολυπλοκότητα των αλγορίθμων παρατηρώντας το visualization; \n"
      ]
    },
    {
      "cell_type": "markdown",
      "metadata": {
        "id": "8QaZkm0nPnR6"
      },
      "source": [
        "## Μέρος 4\n",
        "\n",
        "Στο τέταρτο μέρος της εργασίας στο λαβύρινθο υπάρχει ένα φάντασμα 👻! Ο στόχος είναι να φτάσουμε στο σημείο τερματισμού αποφεύγοντας το φάντασμα, το οποίο μας κυνηγάει τρέχοντας σε κάθε βήμα τον δικό του Α*. Ο κώδικας που τρέχει το φάντασμα ''Agent'' σας δίνεται έτοιμος.\n",
        "\n",
        "Για την αποφυγή του φαντάσματος θα υλοποιήσουμε τον αλγόριθμο ΑΒ. Συγκεκριμένα, σας δίνεται η κλάση ''ΑΒagent'' στην οποία καλείστε να συμπληρώσετε τις κινήσεις του minimizing_player (όπως διδαχθήκατε στο μάθημα), δεδομένων των αντίστοιχων κινήσεων του maximizing_player. Στα πλαίσια του αλγορίθμου αυτού θα χρειαστεί να ορίσετε μια ευριστική συνάρτηση η οποία εκτιμά το κόστος της επόμενης κατάστασης συνυπολογίζοντας την απόσταση τόσο από το στόχο και από το φάντασμα. \n",
        "\n",
        "Περιγράψτε στο κατάλληλο markdown κελί τη συλλογιστική πορεία για τις επιλογές σας όσον αφορά την ευριστική. Πώς υπολογίσατε τις αποστάσεις (με εκτίμηση/πραγματική μετρική); Αναφέρετε αναλυτικά τα αποτέλεσματα και τις παρατηρήσεις σας σχετικά με τις παραπάνω επιλογές. Μεγαλύτερη σημασία έχει ο πειραματισμός και η αναφορά των αποτελεσμάτων, όσον αφορά αφορά την ευριστική, παρά η αναζήτηση της καλύτερης συνάρτησης. Ως αποτελέσματα ζητείται να παραθέσετε: χαρακτηριστικά gifs και χρόνους εκτέλεσης. Δικαιολογείστε γιατί ο αλγόριθμός σας δουλεύει ορθά. \n",
        "\n",
        "**ΠΡΟΣΟΧΗ!** Στο 4ο μέρος οι λαβύρινθοι που θα χρησιμοποιήσετε πρέπει να είναι αραιοί ως προς τα εμπόδια. Αν τα υπάρχοντα μονοπάτια προς το στόχο είναι λίγα, θα είναι δύσκολο να ξεφύγετε από το φάντασμα ανεξαρτήτως υλοποίησης."
      ]
    },
    {
      "cell_type": "markdown",
      "metadata": {
        "id": "nqTnPBPM_RrH"
      },
      "source": [
        "## Μέρος 5 (bonus)\n",
        "\n",
        "Στο πέμπτο και τελευταίο μέρος της εργασίας σάς δίνεται η δυνατότητα να κατασκευάσετε λαβυρίνθους με το χέρι, ζωγραφίζοντας. Για το σκοπό αυτό σας δίνεται η συνάρτηση draw(filename='filename.png') η οποία παράγει ένα interactive grid ώστε να σχηματίσετε το λαβύρινθο. Θεωρήστε ως μαύρο το χρώμα του εμποδίου, πράσινο την αφετηρία και κόκκινο το στόχο, και πατήστε finish για να ολοκληρωθεί η εκτέλεση του τρέχοντος κελιού. Σε περίπτωση που θέλετε να παράξετε νέο λαβύρινθο, απλά ξανατρέξτε το κελί, επιλέξτε τα τετράγωνα και πατήστε finish. Κάθε εκτέλεση αποθηκεύει την εικόνα σε μορφή png σε όνομα που μπορείτε να καθορίσετε μέσω του filename (τοποθετώντας και την κατάληξη .png) κατά την κλήση της συνάρτησης.  \n",
        "\n",
        "Καλείστε λοιπόν να **κατασκευάσετε** και να **σχολιάσετε** τους παρακάτω 5 λαβυρίνθους, οι οποίοι θα ικανοποιούν τις παρακάτω συνθήκες:\n",
        "\n",
        "\n",
        "*   **Λαβύρινθος 1**: Ο Hill-climbing δεν βρίσκει μονοπάτι από την αφετηρία στο στόχο.\n",
        "*   **Λαβύρινθος 2**: Ο Α* αργεί όσο το δυνατόν περισσότερο να βρει το βέλτιστο μονοπάτι ανεξαρτήτως της μετρικής απόστασης που χρησιμοποιείται ως ευριστική. Σε τι είδους μονοπάτι η επιλογή διαφορετικής μετρικής απόστασης (Ευκλίδεια/Manhattan) ως ευριστικής οδηγεί τον Α* να βρίσκει το μονοπάτι πιο γρήγορα;\n",
        "*   **Λαβύρινθος 3**: Ο αλγόριθμος άπληστης αναζήτησης πρώτα στο καλύτερο (greedy best first) αργεί σημαντικά περισσότερο από τον Α* για να καταλήξει στο στόχο. Σε ποια περίπτωση οι δύο αλγόριθμοι θα συμπεριφέρονταν με τον ίδιο τρόπο;\n",
        "*   **Λαβύρινθος 4**: Ο Α* καταφέρνει να βρει το μονοπάτι προς το στόχο σημαντικά πιο γρήγορα από τον Dijkstra. Ο χώρος πρέπει αναγκαστικά να περιέχει εμπόδια. Πώς επηρεάζει το μέγεθος/είδος του εμποδίου τον αριθμό βημάτων που χρειάζεται ο Dijsktra και πώς τον αριθμό βημάτων του Α*;\n",
        "*   **Λαβύρινθος 5**: Ο Α* και ο Dijkstra φτάνουν στο στόχο πραγματοποιώντας τον ίδιο ακριβώς αριθμό βημάτων για την προσέγγιση της βέλτιστης διαδρομής. Σημείωση: **αγνοήστε** την τετριμμένη περίπτωση όπου ο Α* συμπεριφέρεται όπως ο Dijkstra (h(n)=0). \n",
        "\n",
        "\n",
        "Ο Α* σε όλες τις περιπτώσεις πραγματοποιεί τη βέλτιστη δυνατή αναζήτηση.   \n",
        "\n",
        "\n",
        "Για κάθε λαβύρινθο που σχηματίζετε, δώστε μια σύντομη εξήγηση για την επιλογή σας.  \n",
        "\n",
        "**ΠΡΟΣΟΧΗ:** το output των κελιών που σχηματίζετε διατηρείται για περιορισμένο χρονικό διάστημα στο notebook, γι αυτό καλείστε να αποθηκεύσετε τη φωτογραφία (το πραγματοποιεί η συνάρτηση draw()) και να τη μεταφέρετε στο ανάλογο markdown ώστε να μπορέσουμε να την αξιολογήσουμε.\n",
        "\n",
        "\n",
        "Στη συνέχεια, καλείστε να τρέξετε τους αλγορίθμους pathfinding πάνω στους χάρτες που σχηματίσατε. Για το σκοπό αυτό, μετά την εκτέλεση της draw() καλείτε τη συνάρτηση draw_grid() που μετατρέπει την εικόνα που σχηματίσατε σε χάρτη πάνω στον οποίο μπορούν να τρέξουν οι αλγόριθμοι με χρήση της συνάρτησης pathfinder(). Χρειάζεται να επιλέξετε κατάλληλα τα ορίσματα της pathfinder ώστε να καλέσετε το σωστό αλγόριθμο αναζήτησης σε κάθε ερώτημα. Εκτελέστε τα αντίστοιχα κελιά με τον κώδικα που σας δίνεται και παρουσιάστε την έξοδο αυτών. Φυσικά, εάν ένα ερώτημα περιλαμβάνει την εκτέλεση περισσότερων του ενός αλγορίθμου, αντιγράφετε τα αντίστοιχα κελιά για κάθε αλγόριθμο και τοποθετείτε τα σωστά ορίσματα. Τέλος, η show_gif() σάς παρουσιάζει το animation, όπως και στο Μέρος 3.\n",
        "**Παρατήρηση:** εφόσον δε σας δίνεται/δεν έχετε υλοποιήσει τον Hill climbing, δε σας ζητείται να τον τρέξετε στο χάρτη που θα σχηματίσετε."
      ]
    },
    {
      "cell_type": "markdown",
      "metadata": {
        "id": "k4B8EEBhClt2"
      },
      "source": [
        "## Κώδικας visualization\n"
      ]
    },
    {
      "cell_type": "code",
      "execution_count": 1,
      "metadata": {
        "id": "fH9jHuU-Chps"
      },
      "outputs": [],
      "source": [
        "import numpy as np\n",
        "import matplotlib.pyplot as plt\n",
        "import matplotlib.animation as animation\n",
        "from matplotlib.animation import PillowWriter\n",
        "from IPython.display import HTML\n",
        "\n",
        "class visualization:\n",
        "    def __init__(self, S, F):\n",
        "        '''\n",
        "          Η μέθοδος αυτή αρχικοποιεί ένα αντικείμενο τύπου visualization.\n",
        "          Είσοδος: \n",
        "          -> S: το σημείο εκκίνσης της αναζήτησης\n",
        "          -> F: το σημείο τερματισμού\n",
        "        '''\n",
        "        self.S = S\n",
        "        self.F = F\n",
        "        self.images = []\n",
        "    \n",
        "    def draw_step(self, grid, frontier, expanded_nodes):\n",
        "        '''\n",
        "          Η συνάρτηση αυτή καλείται για να σχεδιαστεί ένα frame στο animation (πρακτικά έπειτα από την επέκταση κάθε κόμβου)\n",
        "          Είσοδος: \n",
        "          -> grid: Ένα χάρτης τύπου grid\n",
        "          -> frontier: Μια λίστα με τους κόμβους που ανήκουν στο μέτωπο της αναζήτησης\n",
        "          -> expanded_nodes: Μια λίστα με τους κόμβους που έχουν ήδη επεκταθεί\n",
        "          Επιστρέφει: None\n",
        "          Η συνάρτηση αυτή πρέπει να καλεστεί τουλάχιστον μια φορά για να μπορέσει να σχεδιαστει ένα animation (πρεπεί το animation να έχει τουλάχιστον ένα frame).\n",
        "        '''\n",
        "        image = np.zeros((grid.N, grid.N, 3), dtype=int)\n",
        "        image[~grid.grid] = [0, 0, 0]\n",
        "        image[grid.grid] = [255, 255, 255]\n",
        "        # Use this to treat 1/True as obstacles\n",
        "        # image[grid.grid] = [0, 0, 0]\n",
        "        # image[~grid.grid] = [255, 255, 255]\n",
        "        \n",
        "        for node in expanded_nodes:\n",
        "            image[node] = [0, 0, 128]\n",
        "\n",
        "        for node in frontier:\n",
        "            image[node] = [0, 225, 0]\n",
        "\n",
        "        image[self.S] = [50, 168, 64]\n",
        "        image[self.F] = [168, 50, 50]\n",
        "        self.images.append(image)\n",
        "    \n",
        "    def add_path(self, path):\n",
        "        '''\n",
        "          Η συνάρτηση αυτή προσθέτει στο τελευταίο frame το βέλτιστο μονοπάτι.\n",
        "          Είσοδος:\n",
        "          -> path: Μια λίστα η όποια περιέχει το βέλτιστο μονοπάτι (η οποία πρέπει να περιέχει και τον κόμβο αρχή και τον κόμβο στόχο)\n",
        "          Έξοδος: None\n",
        "        '''\n",
        "        for n in path[1:-1]:\n",
        "            image = np.copy(self.images[-1])\n",
        "            image[n] = [66, 221, 245]\n",
        "            self.images.append(image)\n",
        "        for _ in range (100):\n",
        "            self.images.append(image)\n",
        "        \n",
        "    def create_gif(self, fps = 30, repeat_delay = 2000):\n",
        "        if len(self.images) == 0:\n",
        "            raise EmptyStackOfImages(\"Error! You have to call 'draw_step' at  first.\")\n",
        "        fig = plt.figure()\n",
        "        plt.axis('off')\n",
        "        ims = []\n",
        "        for img in self.images:\n",
        "            img = plt.imshow(img)\n",
        "            ims.append([img])\n",
        "        ani = animation.ArtistAnimation(fig, ims, interval=1000//fps, blit=True, repeat_delay= repeat_delay)\n",
        "        plt.close(fig)\n",
        "        return ani\n",
        "        \n",
        "    def save_gif(self, filename, fps = 30):\n",
        "        '''\n",
        "            Η συνάρτηση αυτή ξαναδημιουργεί και αποθηκεύει το animation σε ένα αρχείο.\n",
        "            Είσοδος:\n",
        "            -> Το όνομα του αρχείου με κατάληξη .gif\n",
        "            Έξοδος: (None)\n",
        "        '''\n",
        "        ani = self.create_gif(fps)\n",
        "        writer = PillowWriter(fps= fps)\n",
        "        ani.save(filename, writer=writer)\n",
        "\n",
        "    def show_gif(self, fps= 30, repeat_delay = 2000):\n",
        "        '''\n",
        "            Η συνάρτηση αυτή εμφανίζει inline το animation.\n",
        "            Είσοδος:\n",
        "            -> fps: τα frames per second\n",
        "            Έξοδος: Το αντικείμενο που παίζει το animation\n",
        "            Exceptions: EmptyStackOfImages αν το animation δεν έχει ούτε ένα frame, δηλαδή αν η draw_step δεν έχει καλεστεί ποτέ.\n",
        "        '''\n",
        "        ani = self.create_gif(fps, repeat_delay)\n",
        "        # return HTML(ani.to_html5_video())\n",
        "        return HTML(ani.to_jshtml())\n",
        "\n",
        "    def show_last_frame(self):\n",
        "        '''\n",
        "            Η μέθοδος αυτή εμφανίζει inline το τελευταίο frame που έχει δημιουργήθει.\n",
        "            Είσοδος:\n",
        "            Έξοδος: Το αντικείμενο που εμφανίζει την εικόνα.\n",
        "            Exceptions: EmptyStackOfImages αν το animation δεν έχει ούτε ένα frame, δηλαδή αν η draw_step δεν έχει καλεστεί ποτέ.\n",
        "        '''\n",
        "        if len(self.images) == 0:\n",
        "            raise EmptyStackOfImages(\"Error! You have to call 'draw_step' at  first.\")\n",
        "        else:\n",
        "            plt.imshow(self.images[-1])\n",
        "\n",
        "\n",
        "class EmptyStackOfImages(Exception):\n",
        "    pass"
      ]
    },
    {
      "cell_type": "markdown",
      "metadata": {
        "id": "HTjP864PLeRW"
      },
      "source": [
        "## Μέρος 1"
      ]
    },
    {
      "cell_type": "code",
      "execution_count": 2,
      "metadata": {
        "id": "t-BBg2eWAFN4"
      },
      "outputs": [],
      "source": [
        "%matplotlib inline\n",
        "import numpy as np\n",
        "from queue import LifoQueue\n",
        "import  random \n",
        "import matplotlib.pyplot as plt\n",
        "\n",
        "\n",
        "class Maze:\n",
        "    def __init__(self, N, S, F, threshold=0.02):\n",
        "\n",
        "      \"\"\"\n",
        "      N: integer that indicates the size of the NxN grid of the maze\n",
        "      S: pair of integers that indicates the coordinates of the starting point (S)\n",
        "      F: pair of integers that indicates the coordinates of the finish point (F)\n",
        "      You can add any other parameters you want to customize maze creation (e.g. variables that\n",
        "      control the creation of additional paths)\n",
        "      \"\"\"\n",
        "\n",
        "      assert N > 2\n",
        "\n",
        "      ## Make sure start and end are within the grid\n",
        "\n",
        "      assert S < (N-1, N-1)\n",
        "      assert F < (N-1, N-1)\n",
        "\n",
        "      assert S > (0, 0)\n",
        "      assert F > (0, 0)\n",
        "\n",
        "      # Add here any additional constraints your implementation may have\n",
        "      \n",
        "      assert N % 2 == 1\n",
        "      assert S[0] % 2 == 1\n",
        "      assert S[1] % 2 == 1\n",
        "      assert F[0] % 2 == 1\n",
        "      assert F[1] % 2 == 1\n",
        "\n",
        "      self.N = N\n",
        "      self.S = S\n",
        "      self.F = F\n",
        "\n",
        "      # Keep track of the agents in the Maze\n",
        "      self.agents=[]\n",
        "\n",
        "      ## Initialize grid \n",
        "\n",
        "      self.grid = np.zeros((N, N), dtype=bool)\n",
        "\n",
        "      def neighbors(node, N, visited, threshold):\n",
        "        \"\"\" \n",
        "        Returns all neighbors of a node that are either unvisited, or they are visited but\n",
        "        there is a wall between the node and the neighbor and the neighbor passes a random test.\n",
        "        \"\"\"\n",
        "\n",
        "        l = []\n",
        "        x, y = node\n",
        "\n",
        "        # first condition in all checks is for boundaries\n",
        "        # neighbors are +-2 in x or y\n",
        "        # walls are +-1\n",
        "\n",
        "        if (x > 2) and (not visited[x-2, y] or (not visited[x-1,y] and random.uniform(0,1) <= threshold)):\n",
        "            l.append((x-2, y))\n",
        "        ### YOUR CODE HERE \\/\n",
        "        if (y > 2) and (not visited[x, y-2] or (not visited[x,y-1] and random.uniform(0,1) <= threshold)):\n",
        "            l.append((x, y-2))\n",
        "        if (x < N-2) and (not visited[x+2, y] or (not visited[x+1,y] and random.uniform(0,1) <= threshold)):\n",
        "            l.append((x+2, y))\n",
        "        if (y < N-2) and (not visited[x, y+2] or (not visited[x,y+1] and random.uniform(0,1) <= threshold)):\n",
        "            l.append((x, y+2))\n",
        "        ### YOUR CODE HERE /\\\n",
        "        return l\n",
        "\n",
        "      stack = []\n",
        "      stack.append(self.S)\n",
        "      self.grid[self.S] = True\n",
        "\n",
        "      while stack:\n",
        "          current_node = stack.pop()\n",
        "          # get all unvisited neighbors (and some visited ones with a random chance)\n",
        "          n = neighbors(current_node, self.N, self.grid, threshold)\n",
        "          if len(n):\n",
        "              stack.append(current_node)\n",
        "              \n",
        "              ### YOUR CODE HERE \\/\n",
        "              # select a random neighbor\n",
        "              next_node = n[random.randint(0, len(n)-1)]\n",
        "              ### YOUR CODE HERE /\\\n",
        "              \n",
        "              ### YOUR CODE HERE \\/\n",
        "              # break the wall between current and next node\n",
        "              self.grid[(current_node[0]+next_node[0])//2, (current_node[1]+next_node[1])//2] = True\n",
        "              ### YOUR CODE HERE /\\\n",
        "\n",
        "              # mark next node as visited and add it to the stack\n",
        "              self.grid[next_node] = True\n",
        "              stack.append(next_node)\n",
        "             \n",
        "      \n",
        "\n",
        "    def adjacent_no_walls(self, node):\n",
        "      x, y = node\n",
        "      ret = []\n",
        "      if x - 1 > -1 and self.grid[x-1,y]:\n",
        "        ret.append((x-1,y))\n",
        "      if x + 1 < self.N and self.grid[x+1,y]:\n",
        "        ret.append((x+1,y))\n",
        "      if y - 1 > -1 and self.grid[x,y-1]:\n",
        "        ret.append((x,y-1))\n",
        "      if y + 1 < self.N and self.grid[x,y+1]:\n",
        "        ret.append((x,y+1))\n",
        "      return ret\n",
        "\n",
        "\n",
        "\n",
        "    def draw_map(self, path=None,return_image=False):\n",
        "        \"\"\" \n",
        "        Draws the maze as an image. Considers grid values of 0/False to represent obstacles and\n",
        "        values of 1/True to represent empty cells, but this can be customized. Obstacles are painted\n",
        "        black and empty cells are painted white. Starting point is painted green and finish point red.\n",
        "        Optionally accepts as a parameter a path within the maze which is painted blue. \n",
        "        \"\"\"\n",
        "        image = np.zeros((self.N, self.N, 3), dtype=int)\n",
        "        image[~self.grid] = [0, 0, 0]\n",
        "        image[self.grid] = [255, 255, 255]\n",
        "        # Use this to treat 1/True as obstacles\n",
        "        # image[self.grid] = [0, 0, 0]\n",
        "        # image[~self.grid] = [255, 255, 255]\n",
        "\n",
        "        image[self.S] = [50, 168, 64]\n",
        "        image[self.F] = [168, 50, 50]\n",
        "        if path:\n",
        "            for n in path[1:-1]:\n",
        "                image[n] = [66, 221, 245]\n",
        "\n",
        "        if len(self.agents)>0:\n",
        "          for a in self.agents:\n",
        "            image[a.location]=a.color\n",
        "\n",
        "        if return_image:\n",
        "          return image\n",
        "        else:\n",
        "          plt.imshow(image)\n",
        "          plt.xticks([])\n",
        "          plt.yticks([])\n",
        "          plt.show()\n",
        "        "
      ]
    },
    {
      "cell_type": "code",
      "execution_count": 3,
      "metadata": {
        "id": "9LK61zuVBCi2"
      },
      "outputs": [
        {
          "data": {
            "image/png": "[encoded data removed]",
            "text/plain": [
              "<Figure size 432x288 with 1 Axes>"
            ]
          },
          "metadata": {},
          "output_type": "display_data"
        },
        {
          "data": {
            "image/png": "[encoded data removed]",
            "text/plain": [
              "<Figure size 432x288 with 1 Axes>"
            ]
          },
          "metadata": {},
          "output_type": "display_data"
        },
        {
          "data": {
            "image/png": "[encoded data removed]",
            "text/plain": [
              "<Figure size 432x288 with 1 Axes>"
            ]
          },
          "metadata": {},
          "output_type": "display_data"
        }
      ],
      "source": [
        "for N, S, F in (11, (1, 3), (7, 9)), (25, (3, 7), (23, 19)), (51, (9, 3), (41, 41)):\n",
        "    map = Maze(N, S, F, threshold=2/(N*np.log(N)))\n",
        "    map.draw_map()"
      ]
    },
    {
      "cell_type": "markdown",
      "metadata": {
        "id": "7XhekogLCJ1i"
      },
      "source": [
        "## Μέρος 2\n"
      ]
    },
    {
      "cell_type": "code",
      "execution_count": 4,
      "metadata": {
        "id": "dXgXz9ZbCR2y"
      },
      "outputs": [],
      "source": [
        "from queue import PriorityQueue\n",
        "\n",
        "class pathfinder:\n",
        "    def __init__(self, S, F, grid, c, h,visualize=True):\n",
        "        self.S = S\n",
        "        self.F = F\n",
        "        self.grid = grid\n",
        "        self.cost = c\n",
        "        self.heuristic = h\n",
        "        self.no_expanded_nodes = 0\n",
        "\n",
        "        #for visualization \n",
        "        self.visualize=visualize\n",
        "        self.vis = visualization(S, F)\n",
        "        self.find_path()\n",
        "\n",
        "\n",
        "    def find_path(self):\n",
        "        frontier = PriorityQueue()\n",
        "        frontier.put((0, self.S))\n",
        "        came_from = {}\n",
        "        cost_so_far = {}\n",
        "        came_from[self.S] = None\n",
        "        cost_so_far[self.S] = 0\n",
        "        self.no_expanded_nodes = 0\n",
        "        \n",
        "        while not frontier.empty():\n",
        "            current = frontier.get()[1]\n",
        "            if current == self.F:\n",
        "                break\n",
        "            self.no_expanded_nodes += 1\n",
        "\n",
        "            for next in  self.grid.adjacent_no_walls(current):\n",
        "                ### YOUR CODE HERE \\/ (cost so far+cost to next)\n",
        "                new_cost = cost_so_far[current]+self.cost(next[0], next[1])\n",
        "                ### YOUR CODE HERE /\\\n",
        "\n",
        "                if next not in cost_so_far or new_cost < cost_so_far[next]:\n",
        "                    cost_so_far[next] = new_cost\n",
        "\n",
        "                    ### YOUR CODE HERE \\/ (c+h)\n",
        "                    priority = cost_so_far[next]+self.heuristic(current, next)\n",
        "                    ### YOUR CODE HERE /\\\n",
        "                    frontier.put((priority, next))\n",
        "                    came_from[next] = current\n",
        "                #for animation\n",
        "                #find frontier and expanded nodes\n",
        "                restore = []\n",
        "                while not frontier.empty(): \n",
        "                    node = frontier.get()\n",
        "                    restore.append(node) \n",
        "                for node in restore:\n",
        "                    frontier.put(node)\n",
        "                exp = []\n",
        "                #find expanded nodes\n",
        "                for v in came_from:\n",
        "                    if v:\n",
        "                        exp.append(v)\n",
        "                if self.visualize:\n",
        "                  self.vis.draw_step(self.grid, [r[1] for r in restore], exp)\n",
        "                    \n",
        "\n",
        "        # follow backlinks to build path\n",
        "        # current = self.F\n",
        "        path = []\n",
        "        while current != self.S:\n",
        "            path.append(current)\n",
        "            if current not in came_from:\n",
        "              self.grid.draw_map()\n",
        "            current = came_from[current]\n",
        "        path.append(self.S)\n",
        "        path.reverse()\n",
        "\n",
        "        self.path = path\n",
        "        \n",
        "    def get_path(self):\n",
        "        return self.path\n",
        "\n",
        "    def get_complexity(self):\n",
        "        return self.no_expanded_nodes\n"
      ]
    },
    {
      "cell_type": "code",
      "execution_count": 5,
      "metadata": {
        "id": "Xmmp_4lAOERH"
      },
      "outputs": [],
      "source": [
        "import math\n",
        "\n",
        "## A heuristic\n",
        "def euclidean(a, b):\n",
        "    return math.sqrt((a[0] - b[0])**2 + (a[1] - b[1])**2)\n",
        "\n",
        "# Add more heuristics here\n",
        "\n",
        "### YOUR CODE HERE \\/\n",
        "def manhattan(a, b):\n",
        "  return abs(a[0] - b[0]) + abs(a[1] - b[1])\n",
        "\n",
        "### YOUR CODE HERE /\\"
      ]
    },
    {
      "cell_type": "code",
      "execution_count": 6,
      "metadata": {
        "id": "fwcVPbRACUIz"
      },
      "outputs": [],
      "source": [
        "## Create a 41x41 maze\n",
        "N = 41\n",
        "S = (5, 9)\n",
        "F = (37, 37)\n",
        "\n",
        "map = Maze(N, S, F)"
      ]
    },
    {
      "cell_type": "code",
      "execution_count": 7,
      "metadata": {
        "id": "YOCQHk9M1Yrl"
      },
      "outputs": [
        {
          "data": {
            "image/png": "[encoded data removed]",
            "text/plain": [
              "<Figure size 432x288 with 1 Axes>"
            ]
          },
          "metadata": {},
          "output_type": "display_data"
        },
        {
          "name": "stdout",
          "output_type": "stream",
          "text": [
            "CPU times: user 527 ms, sys: 19.7 ms, total: 547 ms\n",
            "Wall time: 546 ms\n"
          ]
        }
      ],
      "source": [
        "%%time\n",
        "## Find and visualize the path\n",
        "pf = pathfinder(S, F, map, lambda x, y: 1, lambda x, y: 0)\n",
        "map.draw_map(pf.get_path())"
      ]
    },
    {
      "cell_type": "code",
      "execution_count": 8,
      "metadata": {
        "id": "_K4xHgp7olwp"
      },
      "outputs": [
        {
          "name": "stdout",
          "output_type": "stream",
          "text": [
            "Number of expanded nodes: 671\n"
          ]
        }
      ],
      "source": [
        "expanded_nodes = pf.get_complexity()\n",
        "print('Number of expanded nodes:', expanded_nodes)"
      ]
    },
    {
      "cell_type": "code",
      "execution_count": 9,
      "metadata": {
        "id": "--yjHv6503F_"
      },
      "outputs": [
        {
          "data": {
            "image/png": "[encoded data removed]",
            "text/plain": [
              "<Figure size 432x288 with 1 Axes>"
            ]
          },
          "metadata": {},
          "output_type": "display_data"
        },
        {
          "name": "stdout",
          "output_type": "stream",
          "text": [
            "CPU times: user 484 ms, sys: 15.2 ms, total: 499 ms\n",
            "Wall time: 498 ms\n"
          ]
        }
      ],
      "source": [
        "%%time\n",
        "pf = pathfinder(S, F, map, lambda x, y: 1, euclidean)\n",
        "map.draw_map(pf.get_path())"
      ]
    },
    {
      "cell_type": "code",
      "execution_count": 10,
      "metadata": {
        "id": "BFF5rMAHooqz"
      },
      "outputs": [
        {
          "name": "stdout",
          "output_type": "stream",
          "text": [
            "Number of expanded nodes: 671\n"
          ]
        }
      ],
      "source": [
        "expanded_nodes = pf.get_complexity()\n",
        "print('Number of expanded nodes:', expanded_nodes)"
      ]
    },
    {
      "cell_type": "code",
      "execution_count": 11,
      "metadata": {
        "id": "WQSXlPPO07cN"
      },
      "outputs": [
        {
          "data": {
            "image/png": "[encoded data removed]",
            "text/plain": [
              "<Figure size 432x288 with 1 Axes>"
            ]
          },
          "metadata": {},
          "output_type": "display_data"
        },
        {
          "name": "stdout",
          "output_type": "stream",
          "text": [
            "CPU times: user 543 ms, sys: 7.85 ms, total: 551 ms\n",
            "Wall time: 562 ms\n"
          ]
        }
      ],
      "source": [
        "%%time\n",
        "pf = pathfinder(S, F, map, lambda x, y: 0, euclidean)\n",
        "map.draw_map(pf.get_path())"
      ]
    },
    {
      "cell_type": "code",
      "execution_count": 12,
      "metadata": {
        "id": "f-0DySwVoqwm"
      },
      "outputs": [
        {
          "name": "stdout",
          "output_type": "stream",
          "text": [
            "Number of expanded nodes: 727\n"
          ]
        }
      ],
      "source": [
        "expanded_nodes = pf.get_complexity()\n",
        "print('Number of expanded nodes:', expanded_nodes)"
      ]
    },
    {
      "cell_type": "code",
      "execution_count": 13,
      "metadata": {},
      "outputs": [
        {
          "data": {
            "image/png": "[encoded data removed]",
            "text/plain": [
              "<Figure size 432x288 with 1 Axes>"
            ]
          },
          "metadata": {},
          "output_type": "display_data"
        },
        {
          "name": "stdout",
          "output_type": "stream",
          "text": [
            "Number of expanded nodes: 727\n",
            "CPU times: user 547 ms, sys: 4.17 ms, total: 552 ms\n",
            "Wall time: 551 ms\n"
          ]
        }
      ],
      "source": [
        "%%time\n",
        "pf = pathfinder(S, F, map, lambda x, y: 0, manhattan)\n",
        "map.draw_map(pf.get_path())\n",
        "\n",
        "expanded_nodes = pf.get_complexity()\n",
        "print('Number of expanded nodes:', expanded_nodes)"
      ]
    },
    {
      "cell_type": "code",
      "execution_count": 14,
      "metadata": {},
      "outputs": [
        {
          "data": {
            "image/png": "[encoded data removed]",
            "text/plain": [
              "<Figure size 432x288 with 1 Axes>"
            ]
          },
          "metadata": {},
          "output_type": "display_data"
        },
        {
          "name": "stdout",
          "output_type": "stream",
          "text": [
            "Number of expanded nodes: 671\n",
            "CPU times: user 491 ms, sys: 0 ns, total: 491 ms\n",
            "Wall time: 490 ms\n"
          ]
        }
      ],
      "source": [
        "%%time\n",
        "pf = pathfinder(S, F, map, lambda x, y: 1, manhattan)\n",
        "map.draw_map(pf.get_path())\n",
        "\n",
        "expanded_nodes = pf.get_complexity()\n",
        "print('Number of expanded nodes:', expanded_nodes)"
      ]
    },
    {
      "cell_type": "markdown",
      "metadata": {
        "id": "XmmqhRLfEjKj"
      },
      "source": [
        "## Μέρος 3\n",
        "\n",
        "Στο παρακάτω κελί σάς δίνεται ένα παράδειγμα για την κατασκευή γραφικών παραστάσεων. Θα πρέπει να κατασκευάσετε τις δύο γραφικές παραστάσεις σύμφωνα με τα ζητούμενα της άσκησης."
      ]
    },
    {
      "cell_type": "code",
      "execution_count": 15,
      "metadata": {
        "id": "j_wp8ZuWtwEw"
      },
      "outputs": [
        {
          "data": {
            "image/png": "[encoded data removed]",
            "text/plain": [
              "<Figure size 432x288 with 1 Axes>"
            ]
          },
          "metadata": {
            "needs_background": "light"
          },
          "output_type": "display_data"
        }
      ],
      "source": [
        "path_lengths_a = [1,2,3,4,5,6,7,8,9]\n",
        "path_lengths_b = [1,1,2,3,5,8,13,21,34]\n",
        "map_sizes = [10,20,30,40,50,60,70,80,90]\n",
        "plt.plot(map_sizes, path_lengths_a)\n",
        "\n",
        "plt.plot(map_sizes, path_lengths_b )\n",
        "plt.legend(['algorithm A', 'algorithm B'])\n",
        "plt.title('Path length vs map size')\n",
        "plt.show()"
      ]
    },
    {
      "cell_type": "code",
      "execution_count": 16,
      "metadata": {
        "id": "U2JL2snN-pEL"
      },
      "outputs": [
        {
          "data": {
            "image/png": "[encoded data removed]",
            "text/plain": [
              "<Figure size 432x288 with 1 Axes>"
            ]
          },
          "metadata": {
            "needs_background": "light"
          },
          "output_type": "display_data"
        }
      ],
      "source": [
        "### YOUR CODE HERE \\/\n",
        "# sizes = [10, 20, 30, 40, 50, 60, 70, 80, 90, 100]\n",
        "sizes = [10, 20, 30, 40]\n",
        "methods = [0, 1, 2, 3, 4]\n",
        "results = np.zeros((len(methods), len(sizes)), dtype=float)\n",
        "for index, N in enumerate(sizes):\n",
        "    S = (1,1)\n",
        "    F = (N-3, N-3)\n",
        "\n",
        "    map = Maze(N-1, S, F)\n",
        "    for method in range(2):\n",
        "        numberOfIterations = 2\n",
        "        for runCount in range(numberOfIterations):\n",
        "\n",
        "            pf = pathfinder(S, F, map, lambda x, y: 1, lambda x, y: 0)\n",
        "            results[method, index] += len(pf.get_path())\n",
        "        results[method, index] = results[method, index] / numberOfIterations\n",
        "        \n",
        "\n",
        "for method in range(5):\n",
        "    plt.plot(sizes, results[method])\n",
        "plt.show()\n",
        "\n",
        "### YOUR CODE HERE /\\"
      ]
    },
    {
      "cell_type": "markdown",
      "metadata": {
        "id": "ohQLtf7cN9nk"
      },
      "source": [
        "## Μερος 4"
      ]
    },
    {
      "cell_type": "markdown",
      "metadata": {
        "id": "eVNusFgt6wW7"
      },
      "source": [
        "Πρώτα, σας δίνεται αυτούσιος ο κώδικας του φαντάσματος. Το φάντασμα μας κυνηγάει τρέχοντας Α* με στόχο τη θέση μας."
      ]
    },
    {
      "cell_type": "code",
      "execution_count": 17,
      "metadata": {
        "id": "X0xzy3gpOYAr"
      },
      "outputs": [],
      "source": [
        "class Agent:\n",
        "  def __init__(self,S,grid,color, name = \"\"):\n",
        "    self.agent_name = name\n",
        "    self.location = S\n",
        "    self.color=color\n",
        "    self.maze = grid\n",
        "    self.maze.agents.append(self)\n",
        "    self.maze.grid[S]=1\n",
        "    self.path=[]\n",
        "\n",
        "  def find_path(self,F):\n",
        "    c = lambda x,y: 1 \n",
        "    h = euclidean\n",
        "    pf = pathfinder(self.location, F, self.maze, c, h, visualize=False)\n",
        "    self.path = pf.path\n",
        "\n",
        "\n",
        "  def move(self):\n",
        "    if len(self.path)<1:\n",
        "      return\n",
        "    if self.location==self.path[0] and len(self.path)>1:\n",
        "      self.location=self.path[1]\n",
        "      self.path = self.path[2:]\n",
        "    else:\n",
        "      self.location=self.path[0]\n",
        "      self.path=self.path[1:]\n",
        "\n",
        "  def move_to(self, loc):\n",
        "    self.location = loc"
      ]
    },
    {
      "cell_type": "markdown",
      "metadata": {
        "id": "WwwV4mcF6-i7"
      },
      "source": [
        "Στη συνέχεια, δίνεται ο κώδικας για τον agent που τρέχει να ξεφύγει. Ο ABagent τρέχει ΑΒ με σκοπό να φτάσει στον τερματισμό χωρίς να τον πιάσει το φάντασμα. Καλείστε να συμπληρώσετε τα σημεία που παραλείπονται. Δώστε ιδιαίτερη προσοχή στην ευριστική συνάρτηση. Εξηγείστε τις επιλογές σας, όπως περιγράφεται παραπάνω."
      ]
    },
    {
      "cell_type": "code",
      "execution_count": 18,
      "metadata": {
        "id": "BcdukaOPNXg1"
      },
      "outputs": [],
      "source": [
        "class ABagent:\n",
        "  def __init__(self, S, grid, color, name = \"\"):\n",
        "    self.agent_name = name\n",
        "    self.location = S\n",
        "    self.color=color\n",
        "    self.maze = grid\n",
        "    self.maze.agents.append(self)\n",
        "    self.maze.grid[S]=1\n",
        "    self.path=[]\n",
        "\n",
        "  def get_best_action(self, ghosts, depth = 3):\n",
        "      best_action = None\n",
        "      best_score = float(\"-inf\") #you can use this for debugging\n",
        "      alpha = float(\"-inf\")\n",
        "      beta = float(\"inf\")\n",
        "\n",
        "      best_score, best_action = self.alpha_beta_agent(self.maze, self.location, ghosts, depth, alpha, beta, True)\n",
        "\n",
        "      return best_action\n",
        "\n",
        "  def alpha_beta_agent(self, maze, agent_pos, ghost_positions, depth, alpha, beta, maximizing_player=True):\n",
        "      if depth == 0 or self.is_win(maze, agent_pos) or self.is_lose(agent_pos, ghost_positions):\n",
        "          # Return the heuristic value if we've reached the maximum depth or the game is over\n",
        "          return self.heuristic_AB(maze, agent_pos, ghost_positions), agent_pos\n",
        "\n",
        "      if maximizing_player:\n",
        "          # Agent is the maximizing player\n",
        "          best_score = float(\"-inf\")\n",
        "          best_action = None\n",
        "          for successor_state in maze.adjacent_no_walls(agent_pos):\n",
        "              score, _ = self.alpha_beta_agent(maze, successor_state, ghost_positions, depth - 1, alpha, beta, False)\n",
        "              if score > best_score:\n",
        "                  best_score = score\n",
        "                  best_action = successor_state\n",
        "              alpha = max(alpha, score)\n",
        "              if beta <= alpha:\n",
        "                  break\n",
        "          return best_score, best_action\n",
        "      else:\n",
        "          # Ghosts are the minimizing players\n",
        "          ### YOUR CODE HERE \\/\n",
        "        best_score = float(\"inf\")\n",
        "        best_action = None\n",
        "        for successor_state in maze.adjacent_no_walls(agent_pos):\n",
        "            score, _ = self.alpha_beta_agent(maze, successor_state, ghost_positions, depth - 1, alpha, beta, True)\n",
        "            if score < best_score:\n",
        "                best_score = score\n",
        "                best_action = successor_state\n",
        "            beta = min(beta, score)\n",
        "            if beta <= alpha:\n",
        "                break\n",
        "        return best_score, best_action\n",
        "          ### YOUR CODE HERE /\\\n",
        "\n",
        "  \n",
        "  def is_win(self, maze, agent):\n",
        "      ### YOUR CODE HERE \\/\n",
        "      return (agent == maze.F)\n",
        "      ### YOUR CODE HERE /\\\n",
        "\n",
        "  def is_lose(self, agent, ghosts):\n",
        "      ### YOUR CODE HERE \\/\n",
        "      return (ghosts == agent)\n",
        "      ### YOUR CODE HERE /\\\n",
        "\n",
        "  def heuristic_AB(self, maze, agent_pos, ghost_positions):\n",
        "      ### YOUR CODE HERE \\/\n",
        "      distanceFromEnd = euclidean(agent_pos, (31,31))\n",
        "      distanceFromGhost = euclidean(agent_pos, ghost_positions)\n",
        "      if distanceFromGhost > 3:\n",
        "        return -distanceFromEnd*2\n",
        "      else:\n",
        "          return -distanceFromEnd+distanceFromGhost*2  \n",
        "      ### YOUR CODE HERE /\\\n",
        "\n",
        "  def move_to(self, loc):\n",
        "    self.location = loc"
      ]
    },
    {
      "cell_type": "markdown",
      "metadata": {
        "id": "ZcvY0Qt48F_A"
      },
      "source": [
        "Φτιάχνουμε αραιό χάρτη και ορίζουμε τους agents."
      ]
    },
    {
      "cell_type": "code",
      "execution_count": 19,
      "metadata": {
        "colab": {
          "base_uri": "https://localhost:8080/",
          "height": 248
        },
        "id": "QKsDcfnOO2wv",
        "outputId": "3f394440-76d9-49fa-9596-98b36a863340"
      },
      "outputs": [
        {
          "data": {
            "image/png": "[encoded data removed]",
            "text/plain": [
              "<Figure size 432x288 with 1 Axes>"
            ]
          },
          "metadata": {},
          "output_type": "display_data"
        }
      ],
      "source": [
        "#create a sparse map with many paths, like the one below\n",
        "map = Maze(33, (1,1), (31,31), threshold=0.4)\n",
        "map.draw_map()"
      ]
    },
    {
      "cell_type": "code",
      "execution_count": 20,
      "metadata": {
        "id": "-UwdSvWaO2ww"
      },
      "outputs": [
        {
          "data": {
            "image/png": "[encoded data removed]",
            "text/plain": [
              "<Figure size 432x288 with 1 Axes>"
            ]
          },
          "metadata": {},
          "output_type": "display_data"
        }
      ],
      "source": [
        "x, y = np.random.choice(range(1, 31)), np.random.choice(range(1, 31))\n",
        "ghost = (Agent((x, y), map, [255,30,10], \"ghost\"))\n",
        "                  \n",
        "a1 = ABagent((2,1), map,[30,10,255], \"agentAB\")\n",
        "\n",
        "map.draw_map()"
      ]
    },
    {
      "cell_type": "markdown",
      "metadata": {
        "id": "kLq7O7mU8MWK"
      },
      "source": [
        "Παρακάτω, υλοποιείται το κυνηγητό. Ενδεικτικά ορίζουμε την παράμετρο depth του ΑΒ ίση με 5. \n",
        "\n",
        "Προσοχή: όπως σημειώνεται, μπορούμε να κάνουμε τους παίκτες να τρέχουν με διαφορετικές ταχύτητες. Είναι προτιμητέο να κρατήσετε την ταχύτητα ίση (όπως παρακάτω). Διαφορετικά, θα χρειαστεί να τροποποιήσετε τον αλγόριθμο ΑΒ.\n",
        "\n",
        "Μετρείστε το χρόνο εκτέλεσης και παρουσιάστε παραδείγματα. Γιατί ο αλγόριθμος σας δουλεύει;"
      ]
    },
    {
      "cell_type": "code",
      "execution_count": 21,
      "metadata": {
        "id": "V2UHHj_7O2ww"
      },
      "outputs": [
        {
          "name": "stdout",
          "output_type": "stream",
          "text": [
            "Lose\n"
          ]
        }
      ],
      "source": [
        "vis=visualization((1,1),(31,30))\n",
        "\n",
        "visited = [a1.location] #HINT: this might be helpful to you\n",
        "\n",
        "for i in range(100):\n",
        "  if a1.location==(31,31):\n",
        "    print(\"Win\")\n",
        "    break\n",
        "\n",
        "  if a1.location == ghost.location:\n",
        "    print(\"Lose\")\n",
        "    break\n",
        "\n",
        "  if i%1==0: #controls agent speed\n",
        "    best_move = a1.get_best_action(ghost.location, 3)\n",
        "    a1.move_to(best_move)\n",
        "    visited.append(a1.location)\n",
        "\n",
        "  if i%1==0: #controls ghost speed\n",
        "    ghost.find_path(a1.location)\n",
        "    ghost.move()\n",
        "\n",
        "  im = map.draw_map(return_image=True)\n",
        "  vis.images.append(im)"
      ]
    },
    {
      "cell_type": "code",
      "execution_count": 22,
      "metadata": {
        "id": "BwWXUxSFZKLc"
      },
      "outputs": [
        {
          "data": {
            "text/html": [
              "\n",
              "<link rel=\"stylesheet\"\n",
              "href=\"https://maxcdn.bootstrapcdn.com/font-awesome/4.4.0/css/font-awesome.min.css\">\n",
              "<script language=\"javascript\">\n",
              "  function isInternetExplorer() {\n",
              "    ua = navigator.userAgent;\n",
              "    /* MSIE used to detect old browsers and Trident used to newer ones*/\n",
              "    return ua.indexOf(\"MSIE \") > -1 || ua.indexOf(\"Trident/\") > -1;\n",
              "  }\n",
              "\n",
              "  /* Define the Animation class */\n",
              "  function Animation(frames, img_id, slider_id, interval, loop_select_id){\n",
              "    this.img_id = img_id;\n",
              "    this.slider_id = slider_id;\n",
              "    this.loop_select_id = loop_select_id;\n",
              "    this.interval = interval;\n",
              "    this.current_frame = 0;\n",
              "    this.direction = 0;\n",
              "    this.timer = null;\n",
              "    this.frames = new Array(frames.length);\n",
              "\n",
              "    for (var i=0; i<frames.length; i++)\n",
              "    {\n",
              "     this.frames[i] = new Image();\n",
              "     this.frames[i].src = frames[i];\n",
              "    }\n",
              "    var slider = document.getElementById(this.slider_id);\n",
              "    slider.max = this.frames.length - 1;\n",
              "    if (isInternetExplorer()) {\n",
              "        // switch from oninput to onchange because IE <= 11 does not conform\n",
              "        // with W3C specification. It ignores oninput and onchange behaves\n",
              "        // like oninput. In contrast, Microsoft Edge behaves correctly.\n",
              "        slider.setAttribute('onchange', slider.getAttribute('oninput'));\n",
              "        slider.setAttribute('oninput', null);\n",
              "    }\n",
              "    this.set_frame(this.current_frame);\n",
              "  }\n",
              "\n",
              "  Animation.prototype.get_loop_state = function(){\n",
              "    var button_group = document[this.loop_select_id].state;\n",
              "    for (var i = 0; i < button_group.length; i++) {\n",
              "        var button = button_group[i];\n",
              "        if (button.checked) {\n",
              "            return button.value;\n",
              "        }\n",
              "    }\n",
              "    return undefined;\n",
              "  }\n",
              "\n",
              "  Animation.prototype.set_frame = function(frame){\n",
              "    this.current_frame = frame;\n",
              "    document.getElementById(this.img_id).src =\n",
              "            this.frames[this.current_frame].src;\n",
              "    document.getElementById(this.slider_id).value = this.current_frame;\n",
              "  }\n",
              "\n",
              "  Animation.prototype.next_frame = function()\n",
              "  {\n",
              "    this.set_frame(Math.min(this.frames.length - 1, this.current_frame + 1));\n",
              "  }\n",
              "\n",
              "  Animation.prototype.previous_frame = function()\n",
              "  {\n",
              "    this.set_frame(Math.max(0, this.current_frame - 1));\n",
              "  }\n",
              "\n",
              "  Animation.prototype.first_frame = function()\n",
              "  {\n",
              "    this.set_frame(0);\n",
              "  }\n",
              "\n",
              "  Animation.prototype.last_frame = function()\n",
              "  {\n",
              "    this.set_frame(this.frames.length - 1);\n",
              "  }\n",
              "\n",
              "  Animation.prototype.slower = function()\n",
              "  {\n",
              "    this.interval /= 0.7;\n",
              "    if(this.direction > 0){this.play_animation();}\n",
              "    else if(this.direction < 0){this.reverse_animation();}\n",
              "  }\n",
              "\n",
              "  Animation.prototype.faster = function()\n",
              "  {\n",
              "    this.interval *= 0.7;\n",
              "    if(this.direction > 0){this.play_animation();}\n",
              "    else if(this.direction < 0){this.reverse_animation();}\n",
              "  }\n",
              "\n",
              "  Animation.prototype.anim_step_forward = function()\n",
              "  {\n",
              "    this.current_frame += 1;\n",
              "    if(this.current_frame < this.frames.length){\n",
              "      this.set_frame(this.current_frame);\n",
              "    }else{\n",
              "      var loop_state = this.get_loop_state();\n",
              "      if(loop_state == \"loop\"){\n",
              "        this.first_frame();\n",
              "      }else if(loop_state == \"reflect\"){\n",
              "        this.last_frame();\n",
              "        this.reverse_animation();\n",
              "      }else{\n",
              "        this.pause_animation();\n",
              "        this.last_frame();\n",
              "      }\n",
              "    }\n",
              "  }\n",
              "\n",
              "  Animation.prototype.anim_step_reverse = function()\n",
              "  {\n",
              "    this.current_frame -= 1;\n",
              "    if(this.current_frame >= 0){\n",
              "      this.set_frame(this.current_frame);\n",
              "    }else{\n",
              "      var loop_state = this.get_loop_state();\n",
              "      if(loop_state == \"loop\"){\n",
              "        this.last_frame();\n",
              "      }else if(loop_state == \"reflect\"){\n",
              "        this.first_frame();\n",
              "        this.play_animation();\n",
              "      }else{\n",
              "        this.pause_animation();\n",
              "        this.first_frame();\n",
              "      }\n",
              "    }\n",
              "  }\n",
              "\n",
              "  Animation.prototype.pause_animation = function()\n",
              "  {\n",
              "    this.direction = 0;\n",
              "    if (this.timer){\n",
              "      clearInterval(this.timer);\n",
              "      this.timer = null;\n",
              "    }\n",
              "  }\n",
              "\n",
              "  Animation.prototype.play_animation = function()\n",
              "  {\n",
              "    this.pause_animation();\n",
              "    this.direction = 1;\n",
              "    var t = this;\n",
              "    if (!this.timer) this.timer = setInterval(function() {\n",
              "        t.anim_step_forward();\n",
              "    }, this.interval);\n",
              "  }\n",
              "\n",
              "  Animation.prototype.reverse_animation = function()\n",
              "  {\n",
              "    this.pause_animation();\n",
              "    this.direction = -1;\n",
              "    var t = this;\n",
              "    if (!this.timer) this.timer = setInterval(function() {\n",
              "        t.anim_step_reverse();\n",
              "    }, this.interval);\n",
              "  }\n",
              "</script>\n",
              "\n",
              "<style>\n",
              ".animation {\n",
              "    display: inline-block;\n",
              "    text-align: center;\n",
              "}\n",
              "input[type=range].anim-slider {\n",
              "    width: 374px;\n",
              "    margin-left: auto;\n",
              "    margin-right: auto;\n",
              "}\n",
              ".anim-buttons {\n",
              "    margin: 8px 0px;\n",
              "}\n",
              ".anim-buttons button {\n",
              "    padding: 0;\n",
              "    width: 36px;\n",
              "}\n",
              ".anim-state label {\n",
              "    margin-right: 8px;\n",
              "}\n",
              ".anim-state input {\n",
              "    margin: 0;\n",
              "    vertical-align: middle;\n",
              "}\n",
              "</style>\n",
              "\n",
              "<div class=\"animation\">\n",
              "  <img id=\"_anim_img86a3311f8a364a8f9f73802a262ffdf8\">\n",
              "  <div class=\"anim-controls\">\n",
              "    <input id=\"_anim_slider86a3311f8a364a8f9f73802a262ffdf8\" type=\"range\" class=\"anim-slider\"\n",
              "           name=\"points\" min=\"0\" max=\"1\" step=\"1\" value=\"0\"\n",
              "           oninput=\"anim86a3311f8a364a8f9f73802a262ffdf8.set_frame(parseInt(this.value));\"></input>\n",
              "    <div class=\"anim-buttons\">\n",
              "      <button title=\"Decrease speed\" aria-label=\"Decrease speed\" onclick=\"anim86a3311f8a364a8f9f73802a262ffdf8.slower()\">\n",
              "          <i class=\"fa fa-minus\"></i></button>\n",
              "      <button title=\"First frame\" aria-label=\"First frame\" onclick=\"anim86a3311f8a364a8f9f73802a262ffdf8.first_frame()\">\n",
              "        <i class=\"fa fa-fast-backward\"></i></button>\n",
              "      <button title=\"Previous frame\" aria-label=\"Previous frame\" onclick=\"anim86a3311f8a364a8f9f73802a262ffdf8.previous_frame()\">\n",
              "          <i class=\"fa fa-step-backward\"></i></button>\n",
              "      <button title=\"Play backwards\" aria-label=\"Play backwards\" onclick=\"anim86a3311f8a364a8f9f73802a262ffdf8.reverse_animation()\">\n",
              "          <i class=\"fa fa-play fa-flip-horizontal\"></i></button>\n",
              "      <button title=\"Pause\" aria-label=\"Pause\" onclick=\"anim86a3311f8a364a8f9f73802a262ffdf8.pause_animation()\">\n",
              "          <i class=\"fa fa-pause\"></i></button>\n",
              "      <button title=\"Play\" aria-label=\"Play\" onclick=\"anim86a3311f8a364a8f9f73802a262ffdf8.play_animation()\">\n",
              "          <i class=\"fa fa-play\"></i></button>\n",
              "      <button title=\"Next frame\" aria-label=\"Next frame\" onclick=\"anim86a3311f8a364a8f9f73802a262ffdf8.next_frame()\">\n",
              "          <i class=\"fa fa-step-forward\"></i></button>\n",
              "      <button title=\"Last frame\" aria-label=\"Last frame\" onclick=\"anim86a3311f8a364a8f9f73802a262ffdf8.last_frame()\">\n",
              "          <i class=\"fa fa-fast-forward\"></i></button>\n",
              "      <button title=\"Increase speed\" aria-label=\"Increase speed\" onclick=\"anim86a3311f8a364a8f9f73802a262ffdf8.faster()\">\n",
              "          <i class=\"fa fa-plus\"></i></button>\n",
              "    </div>\n",
              "    <form title=\"Repetition mode\" aria-label=\"Repetition mode\" action=\"#n\" name=\"_anim_loop_select86a3311f8a364a8f9f73802a262ffdf8\"\n",
              "          class=\"anim-state\">\n",
              "      <input type=\"radio\" name=\"state\" value=\"once\" id=\"_anim_radio1_86a3311f8a364a8f9f73802a262ffdf8\"\n",
              "             >\n",
              "      <label for=\"_anim_radio1_86a3311f8a364a8f9f73802a262ffdf8\">Once</label>\n",
              "      <input type=\"radio\" name=\"state\" value=\"loop\" id=\"_anim_radio2_86a3311f8a364a8f9f73802a262ffdf8\"\n",
              "             checked>\n",
              "      <label for=\"_anim_radio2_86a3311f8a364a8f9f73802a262ffdf8\">Loop</label>\n",
              "      <input type=\"radio\" name=\"state\" value=\"reflect\" id=\"_anim_radio3_86a3311f8a364a8f9f73802a262ffdf8\"\n",
              "             >\n",
              "      <label for=\"_anim_radio3_86a3311f8a364a8f9f73802a262ffdf8\">Reflect</label>\n",
              "    </form>\n",
              "  </div>\n",
              "</div>\n",
              "\n",
              "\n",
              "<script language=\"javascript\">\n",
              "  /* Instantiate the Animation class. */\n",
              "  /* The IDs given should match those used in the template above. */\n",
              "  (function() {\n",
              "    var img_id = \"_anim_img86a3311f8a364a8f9f73802a262ffdf8\";\n",
              "    var slider_id = \"_anim_slider86a3311f8a364a8f9f73802a262ffdf8\";\n",
              "    var loop_select_id = \"_anim_loop_select86a3311f8a364a8f9f73802a262ffdf8\";\n",
              "    var frames = new Array(20);\n",
              "    \n",
              "  frames[0] = \"data:image/png;base64,iVBORw0KGgoAAAANSUhEUgAAAbAAAAEgCAYAAADVKCZpAAAAOXRFWHRTb2Z0d2FyZQBNYXRwbG90\\\n",
              "bGliIHZlcnNpb24zLjUuMSwgaHR0cHM6Ly9tYXRwbG90bGliLm9yZy/YYfK9AAAACXBIWXMAAAsT\\\n",
              "AAALEwEAmpwYAAAG8ElEQVR4nO3cQXLbRhBAUSHlVXKH+BA+ta+VQ2TLLLRyWQSpETKcD7y3H5Eg\\\n",
              "Fr+mqtXb7XZ7A4CaP179BQBghIABkCRgACQJGABJAgZAkoABkCRgACQJGABJAgZAkoABkCRgACQJ\\\n",
              "GABJAgZAkoABkCRgACQJGABJAgZAkoABkCRgACQJGABJAgZAkoABkCRgACQJGABJAgZAkoABkCRg\\\n",
              "ACQJGABJAgZAkoABkCRgACQJGABJAgZAkoABkPTt1V+Ar9u27fbq7wBnd7vdtld/B37lBgZAkoAB\\\n",
              "kCRgACQJGABJAgZAkinEk/v7z48HFP/59/5A1e32+qHGbfv4+6383d7e1vh+I874TCP2fgfW4wYG\\\n",
              "QJKAAZAkYAAkCRgASQIGQNJ2pQmjs9rbhXjv/Y5MnY1Oqo1MFB55Zu9c9XfYO1d9ppm/wwi7ENfj\\\n",
              "BgZAkoABkCRgACQJGABJAgZAkoABkGSM/gRGxuiB3z0Y1zdGvxg3MACSBAyAJAEDIEnAAEgSMACS\\\n",
              "vr36C/AaFr7OPbN3zjN9zdHPRIcbGABJAgZAkoABkCRgACQJGABJAgZAkjH6ixoZIx4dPZ71WSuf\\\n",
              "2T33/a+hv/fpzzn4zOzPWvVzeB03MACSBAyAJAEDIEnAAEgSMACSBAyAJGP0F1XdWH61ze1vA5vb\\\n",
              "V3+mFd4t5+AGBkCSgAGQJGAAJAkYAEkCBkDSZuFl37Ztd1+i9wvPezDtaKxxMW5gACQJGABJAgZA\\\n",
              "koABkCRgACQJGABJlvlelIWvc8/snfNM42f2zo0+Ex1uYAAkCRgASQIGQJKAAZAkYAAkWeZ7Aqsv\\\n",
              "8x2ZOlvZzIk95rLMt8UNDIAkAQMgScAASBIwAJIEDIAkAQMgyTLfi1phOere3xv5nBWe6WiW+e6f\\\n",
              "2Tu3+rvl69zAAEgSMACSBAyAJAEDIEnAAEgSMACSbKM/gZFt9EaM57ONfn220be4gQGQJGAAJAkY\\\n",
              "AEkCBkCSgAGQZJkvT1th4euoFRbfjrDMd//M3jmTtufnBgZAkoABkCRgACQJGABJAgZAkoABkGSZ\\\n",
              "7wmMLPOlYdYouJHzd5b5triBAZAkYAAkCRgASQIGQJKAAZBkme9FrbDwdcQKC19nLr4dcfQi5JHP\\\n",
              "ssyXGdzAAEgSMACSBAyAJAEDIEnAAEgSMACSjNHztKNHj1f4e7POzPys1UfE/Q4cxQ0MgCQBAyBJ\\\n",
              "wABIEjAAkgQMgCQBAyDJGD1Pm7nd++iN6tVt9DM3y98z693aRs9nuYEBkCRgACQJGABJAgZAkoAB\\\n",
              "kLSZxunbtu3uS/R+eYaJvXcPfofXj4TyCzcwAJIEDIAkAQMgScAASBIwAJIEDIAky3wvqrrEdoWF\\\n",
              "ryv8Dnvnjh6JH1kofMbfgfW4gQGQJGAAJAkYAEkCBkCSgAGQJGAAJNlGfwK20fMqIyPxK7ONvsUN\\\n",
              "DIAkAQMgScAASBIwAJIEDIAky3wvqrrEdoWFryv8DnvnVl98u/LvQIsbGABJAgZAkoABkCRgACQJ\\\n",
              "GABJAgZAkmW+J2CZL/zufxi9t8x3MW5gACQJGABJAgZAkoABkCRgACRZ5ntR1SW2Kyx83TszYvVn\\\n",
              "qr5bzs8NDIAkAQMgScAASBIwAJIEDIAkAQMgyTLfE7DMl7ObNUZvmW+LGxgASQIGQJKAAZAkYAAk\\\n",
              "CRgASQIGQJJt9BdlY/ncM3vnRp9pxKxnGnH0v3zYYH9+bmAAJAkYAEkCBkCSgAGQJGAAJJlCvKiR\\\n",
              "KazRya1Zn7XymZmfNTIZOPOZjp6s5LrcwABIEjAAkgQMgCQBAyBJwABIEjAAkozRX1R1ie3qy3xn\\\n",
              "OnIh7cx3u4JV3iFf4wYGQJKAAZAkYAAkCRgASQIGQNK2+rQQj23bdvcler/wvAfTmEYXF+MGBkCS\\\n",
              "gAGQJGAAJAkYAEkCBkCSgAGQZJnvRVnmO/fM3jnPNH5m79zoM9HhBgZAkoABkCRgACQJGABJAgZA\\\n",
              "koABkGQb/QnYRv/O2DRfZRt9ixsYAEkCBkCSgAGQJGAAJAkYAEmW+V7UGRe+jjj6dxixwhLb1d+t\\\n",
              "Zb58xA0MgCQBAyBJwABIEjAAkgQMgCQBAyDJGP1FjYwRj44ez/qslc+MWv2ZVv5+e2d+/vjx6b/H\\\n",
              "etzAAEgSMACSBAyAJAEDIEnAAEgyhXhyRy+eBViFGxgASQIGQJKAAZAkYAAkCRgASQIGQNI2czEp\\\n",
              "ABzFDQyAJAEDIEnAAEgSMACSBAyAJAEDIEnAAEgSMACSBAyAJAEDIEnAAEgSMACSBAyAJAEDIEnA\\\n",
              "AEgSMACSBAyAJAEDIEnAAEgSMACSBAyAJAEDIEnAAEgSMACSBAyAJAEDIEnAAEgSMACSBAyAJAED\\\n",
              "IEnAAEgSMACSBAyAJAEDIEnAAEj6D4FbhRpIwo8hAAAAAElFTkSuQmCC\\\n",
              "\"\n",
              "  frames[1] = \"data:image/png;base64,iVBORw0KGgoAAAANSUhEUgAAAbAAAAEgCAYAAADVKCZpAAAAOXRFWHRTb2Z0d2FyZQBNYXRwbG90\\\n",
              "bGliIHZlcnNpb24zLjUuMSwgaHR0cHM6Ly9tYXRwbG90bGliLm9yZy/YYfK9AAAACXBIWXMAAAsT\\\n",
              "AAALEwEAmpwYAAAG9UlEQVR4nO3cwXHcRhBAUcKlk4JQEFYCDkMhylk4AgehIHRdHXhSmQSXQ3h2\\\n",
              "PvDeUa7hLhaHX1PV7u12uz0BQM0fj/4CADBCwABIEjAAkgQMgCQBAyBJwABIEjAAkgQMgCQBAyBJ\\\n",
              "wABIEjAAkgQMgCQBAyBJwABIEjAAkgQMgCQBAyBJwABIEjAAkgQMgCQBAyBJwABIEjAAkgQMgCQB\\\n",
              "AyBJwABIEjAAkgQMgCQBAyBJwABIEjAAkgQMgCQBAyBJwABI+vToL8DHbdt2e/R3gLO73W7bo78D\\\n",
              "v3MDAyBJwABIEjAAkgQMgCQBAyDJFOLJ/fn9rxf//d9v/7x65nZ7/FDjtr088LXyd3t6WuP7jTjj\\\n",
              "M43Y+x1YjxsYAEkCBkCSgAGQJGAAJAkYAEnblSaMzmpvF+KXzy//px8/3z91NjqpNjJReOSZvXOz\\\n",
              "zuyd80zjZ/bOHT1RaBfietzAAEgSMACSBAyAJAEDIEnAAEgSMACSjNGfwN4YvfcL93tjXN8Y/WLc\\\n",
              "wABIEjAAkgQMgCQBAyBJwABI+vToL8BjWPg698zeuduXz6+f+fHz3Z+1xDMNvqcRRz8THW5gACQJ\\\n",
              "GABJAgZAkoABkCRgACQJGABJlvmegGW+52UUfC7LfFvcwABIEjAAkgQMgCQBAyBJwABIEjAAkmyj\\\n",
              "v6jqxvJTbqM/eBx+9Wda4d1yDm5gACQJGABJAgZAkoABkCRgACRZ5nsClvnCMSzzbXEDAyBJwABI\\\n",
              "EjAAkgQMgCQBAyBJwABIssz3oix8nXtm75xnGj+zd270mehwAwMgScAASBIwAJIEDIAkAQMgyTLf\\\n",
              "E1h9me/I1NnKZk7sMZdlvi1uYAAkCRgASQIGQJKAAZAkYAAkCRgASZb5XtQKy1H3/t7I56zwTEez\\\n",
              "zHf/zN651d8tH+cGBkCSgAGQJGAAJAkYAEkCBkCSgAGQZBv9CYxsozdiPJ9t9Ouzjb7FDQyAJAED\\\n",
              "IEnAAEgSMACSBAyAJMt8udsKC19HrbD4doRlvvtn9s6ZtD0/NzAAkgQMgCQBAyBJwABIEjAAkgQM\\\n",
              "gCTLfE9gZJkvDbNGwY2cP7PMt8UNDIAkAQMgScAASBIwAJIEDIAky3wvaoWFryNWWPg6c/HtiKMX\\\n",
              "IY98lmW+zOAGBkCSgAGQJGAAJAkYAEkCBkCSgAGQZIyeux09erzC35t1ZuZnrT4i7nfgKG5gACQJ\\\n",
              "GABJAgZAkoABkCRgACQJGABJxui528zt3kdvVK9uo5+5Wf41s96tbfS8lxsYAEkCBkCSgAGQJGAA\\\n",
              "JAkYAEmbaZy+bdtefYneL/cwsffsjd/h8SOh/MYNDIAkAQMgScAASBIwAJIEDIAkAQMgyTLfi6ou\\\n",
              "sV1h4esKv8PeuaNH4kcWCp/xd2A9bmAAJAkYAEkCBkCSgAGQJGAAJAkYAEm20Z+AbfQ8yshI/Mps\\\n",
              "o29xAwMgScAASBIwAJIEDIAkAQMgyTLfi6ousV1h4esKv8PeudUX3678O9DiBgZAkoABkCRgACQJ\\\n",
              "GABJAgZAkoABkGSZ7wlY5gv/9T+M3lvmuxg3MACSBAyAJAEDIEnAAEgSMACSLPO9qOoS2xUWvu6d\\\n",
              "GbH6M1XfLefnBgZAkoABkCRgACQJGABJAgZAkoABkGSZ7wlY5svZzRqjt8y3xQ0MgCQBAyBJwABI\\\n",
              "EjAAkgQMgCQBAyDJNvqLsrF87pm9c6PPNGLWM404+n/5sMH+/NzAAEgSMACSBAyAJAEDIEnAAEgy\\\n",
              "hXhRI1NYo5Nbsz5r5TMzP2tkMnDmMx09Wcl1uYEBkCRgACQJGABJAgZAkoABkCRgACQZo7+o6hLb\\\n",
              "1Zf5znTkQtqZ73YFq7xDPsYNDIAkAQMgScAASBIwAJIEDICkbfVpId62bdurL9H7hfu9MY1pdHEx\\\n",
              "bmAAJAkYAEkCBkCSgAGQJGAAJAkYAEmW+V6UZb5zz+yd80zjZ/bOjT4THW5gACQJGABJAgZAkoAB\\\n",
              "kCRgACQJGABJttGfgG30z4xN81G20be4gQGQJGAAJAkYAEkCBkCSgAGQZJnvRZ1x4euIo3+HESss\\\n",
              "sV393Vrmy0vcwABIEjAAkgQMgCQBAyBJwABIEjAAkozRX9TIGPHo6PGsz1r5zKjVn2nl77d35u+v\\\n",
              "X9/991iPGxgASQIGQJKAAZAkYAAkCRgASaYQT+7oxbMAq3ADAyBJwABIEjAAkgQMgCQBAyBJwABI\\\n",
              "2mYuJgWAo7iBAZAkYAAkCRgASQIGQJKAAZAkYAAkCRgASQIGQJKAAZAkYAAkCRgASQIGQJKAAZAk\\\n",
              "YAAkCRgASQIGQJKAAZAkYAAkCRgASQIGQJKAAZAkYAAkCRgASQIGQJKAAZAkYAAkCRgASQIGQJKA\\\n",
              "AZAkYAAkCRgASQIGQJKAAZAkYAAkCRgASb8An4xrD7cydt4AAAAASUVORK5CYII=\\\n",
              "\"\n",
              "  frames[2] = \"data:image/png;base64,iVBORw0KGgoAAAANSUhEUgAAAbAAAAEgCAYAAADVKCZpAAAAOXRFWHRTb2Z0d2FyZQBNYXRwbG90\\\n",
              "bGliIHZlcnNpb24zLjUuMSwgaHR0cHM6Ly9tYXRwbG90bGliLm9yZy/YYfK9AAAACXBIWXMAAAsT\\\n",
              "AAALEwEAmpwYAAAG5UlEQVR4nO3cMXIjNxBAUcHlyL6DfYg9ta/lQzilg422LI600BjEn3kvh8jh\\\n",
              "BL9Q1erxeDzeAKDml1d/AQCYIWAAJAkYAEkCBkCSgAGQJGAAJAkYAEkCBkCSgAGQJGAAJAkYAEkC\\\n",
              "BkCSgAGQJGAAJAkYAEkCBkCSgAGQJGAAJAkYAEkCBkCSgAGQJGAAJAkYAEkCBkCSgAGQJGAAJAkY\\\n",
              "AEkCBkCSgAGQJGAAJAkYAEkCBkCSgAGQJGAAJP366i/A140xHq/+DnB1j8djvPo78CM3MACSBAyA\\\n",
              "JAEDIEnAAEgSMACSTCFe3B+/vT+g+Pc/zweqHo/XDzWO8f732/m7vb3t8f1mXPGZZhz9DuzHDQyA\\\n",
              "JAEDIEnAAEgSMACSBAyApHGnCaOrOtqF+Oz9zkydzU6qzUwUnnnm6Fz1dzg6V32mlb/DDLsQ9+MG\\\n",
              "BkCSgAGQJGAAJAkYAEkCBkCSgAGQZJnvTc38+8Tsv1ys+qydzxye+/P3Uz9ri2eKnrHMt8UNDIAk\\\n",
              "AQMgScAASBIwAJIEDIAkU4g3ZeHr2jNH5zzT15z9THS4gQGQJGAAJAkYAEkCBkCSgAGQJGAAJA3j\\\n",
              "pH1jjKcv0fttMwq+1ge/t02/m3EDAyBJwABIEjAAkgQMgCQBAyBJwABIso3+pqoby++2uX3G7s+0\\\n",
              "w7vlGtzAAEgSMACSBAyAJAEDIEnAAEiyzPcCLPOFc1jm2+IGBkCSgAGQJGAAJAkYAEkCBkCSgAGQ\\\n",
              "ZJnvTVn4uvbM0TnPNH/m6NzsM9HhBgZAkoABkCRgACQJGABJAgZAkmW+F7D7Mt+ZqbOdrZzYYy3L\\\n",
              "fFvcwABIEjAAkgQMgCQBAyBJwABIEjAAkizzvakdlqMe/b2Zz9nhmc5mme/xmaNzu79bvs4NDIAk\\\n",
              "AQMgScAASBIwAJIEDIAkAQMgyTb6C5jZRm/EeD3b6PdnG32LGxgASQIGQJKAAZAkYAAkCRgASZb5\\\n",
              "8mk7LHydtcPi2xmW+R6fOTpn0vb63MAASBIwAJIEDIAkAQMgScAASBIwAJIs872AmWW+NKwaBTdy\\\n",
              "/p1lvi1uYAAkCRgASQIGQJKAAZAkYAAkWeZ7UzssfJ2xw8LXlYtvZ5y9CHnmsyzzZQU3MACSBAyA\\\n",
              "JAEDIEnAAEgSMACSBAyAJGP0fNrZo8c7/L1VZ1Z+1u4j4n4HzuIGBkCSgAGQJGAAJAkYAEkCBkCS\\\n",
              "gAGQZIyeT1u53fvsjerVbfQrN8s/s+rd2kbPz3IDAyBJwABIEjAAkgQMgCQBAyBpmMbpG2M8fYne\\\n",
              "L59hYu+7D36H14+E8gM3MACSBAyAJAEDIEnAAEgSMACSBAyAJMt8b6q6xHaHha87/A5H584eiZ9Z\\\n",
              "KHzF34H9uIEBkCRgACQJGABJAgZAkoABkCRgACTZRn8BttHzKjMj8Tuzjb7FDQyAJAEDIEnAAEgS\\\n",
              "MACSBAyAJMt8b6q6xHaHha87/A5H53ZffLvz70CLGxgASQIGQJKAAZAkYAAkCRgASQIGQJJlvhdg\\\n",
              "mS/81/8wem+Z72bcwABIEjAAkgQMgCQBAyBJwABIssz3pqpLbHdY+Hp0Zsbuz1R9t1yfGxgASQIG\\\n",
              "QJKAAZAkYAAkCRgASQIGQJJlvhdgmS9Xt2qM3jLfFjcwAJIEDIAkAQMgScAASBIwAJIEDIAk2+hv\\\n",
              "ysbytWeOzs0+04xVzzTj7H/5sMH++tzAAEgSMACSBAyAJAEDIEnAAEgyhXhTM1NYs5Nbqz5r5zMr\\\n",
              "P2tmMnDlM509Wcl9uYEBkCRgACQJGABJAgZAkoABkCRgACQZo7+p6hLb3Zf5rnTmQtqV73YHu7xD\\\n",
              "vsYNDIAkAQMgScAASBIwAJIEDICksfu0EB8bYzx9id4vfN4H05hGFzfjBgZAkoABkCRgACQJGABJ\\\n",
              "AgZAkoABkGSZ701Z5rv2zNE5zzR/5ujc7DPR4QYGQJKAAZAkYAAkCRgASQIGQJKAAZBkG/0F2Eb/\\\n",
              "nbFpvso2+hY3MACSBAyAJAEDIEnAAEgSMACSLPO9qSsufJ1x9u8wY4cltru/W8t8eY8bGABJAgZA\\\n",
              "koABkCRgACQJGABJAgZAkjH6m5oZI54dPV71WTufmbX7M+38/Y7O/PXt20//PfbjBgZAkoABkCRg\\\n",
              "ACQJGABJAgZAkinEizt78SzALtzAAEgSMACSBAyAJAEDIEnAAEgSMACSxsrFpABwFjcwAJIEDIAk\\\n",
              "AQMgScAASBIwAJIEDIAkAQMgScAASBIwAJIEDIAkAQMgScAASBIwAJIEDIAkAQMgScAASBIwAJIE\\\n",
              "DIAkAQMgScAASBIwAJIEDIAkAQMgScAASBIwAJIEDIAkAQMgScAASBIwAJIEDIAkAQMgScAASBIw\\\n",
              "AJIEDIAkAQMg6V8KrY4VgYUN4gAAAABJRU5ErkJggg==\\\n",
              "\"\n",
              "  frames[3] = \"data:image/png;base64,iVBORw0KGgoAAAANSUhEUgAAAbAAAAEgCAYAAADVKCZpAAAAOXRFWHRTb2Z0d2FyZQBNYXRwbG90\\\n",
              "bGliIHZlcnNpb24zLjUuMSwgaHR0cHM6Ly9tYXRwbG90bGliLm9yZy/YYfK9AAAACXBIWXMAAAsT\\\n",
              "AAALEwEAmpwYAAAG90lEQVR4nO3cwZEcRRBAUTWhE/gAPiAHMAMTwQsswAfwAa7DQSeC3daqtqmp\\\n",
              "X/3eUUTtTE8fflREksfj8fgAADXfPPsLAMAIAQMgScAASBIwAJIEDIAkAQMgScAASBIwAJIEDIAk\\\n",
              "AQMgScAASBIwAJIEDIAkAQMgScAASBIwAJIEDIAkAQMgScAASBIwAJIEDIAkAQMgScAASBIwAJIE\\\n",
              "DIAkAQMgScAASBIwAJIEDIAkAQMgScAASBIwAJIEDIAkAQMg6eOzvwDvdxzH49nfAXb3eDyOZ38H\\\n",
              "/s0NDIAkAQMgScAASBIwAJIEDIAkU4ib+/GXn178999//u3VM4/H84caj+Plga+Vv9uHD2t8vxE7\\\n",
              "PtOIs9+B9biBAZAkYAAkCRgASQIGQJKAAZB03GnCaFdnuxC///bl//Tn318/dTY6qTYyUXjlmbNz\\\n",
              "s86cnfNM42fOzl09UWgX4nrcwABIEjAAkgQMgCQBAyBJwABIEjAAkozRb+BsjN77XcgP373873/8\\\n",
              "Nfd78KovjOsbo1+MGxgASQIGQJKAAZAkYAAkCRgASaYQNzAyhWjh69wzZ+c80/tM/B1MIS7GDQyA\\\n",
              "JAEDIEnAAEgSMACSBAyAJAEDIMkY/QYs893X6Hg7Y4zRt7iBAZAkYAAkCRgASQIGQJKAAZAkYAAk\\\n",
              "fXz2F+A5qhvL77a5fcTqz7TCu2UPbmAAJAkYAEkCBkCSgAGQJGAAJFnmuwHLfOEalvm2uIEBkCRg\\\n",
              "ACQJGABJAgZAkoABkCRgACRZ5ntTFr7OPXN2zjONnzk7N/pMdLiBAZAkYAAkCRgASQIGQJKAAZBk\\\n",
              "me8GVl/mOzJ1trKZE3vMZZlvixsYAEkCBkCSgAGQJGAAJAkYAEkCBkCSZb43tcJy1LO/N/I5KzzT\\\n",
              "1SzzPT9zdm71d8v7uYEBkCRgACQJGABJAgZAkoABkCRgACTZRr+BkW30Rozns41+fbbRt7iBAZAk\\\n",
              "YAAkCRgASQIGQJKAAZBkmS9vtsLC11ErLL4dYZnv+ZmzcyZt9+cGBkCSgAGQJGAAJAkYAEkCBkCS\\\n",
              "gAGQZJnvBkaW+dIwaxTcyPlnlvm2uIEBkCRgACQJGABJAgZAkoABkGSZ702tsPB1xAoLX2cuvh1x\\\n",
              "9SLkkc+yzJcZ3MAASBIwAJIEDIAkAQMgScAASBIwAJKM0fNmV48er/D3Zp2Z+Vmrj4j7HbiKGxgA\\\n",
              "SQIGQJKAAZAkYAAkCRgASQIGQJIxet5s5nbvqzeqV7fRz9ws/5pZ79Y2er6WGxgASQIGQJKAAZAk\\\n",
              "YAAkCRgASYdpnL7jOF59id4vb2Fi77Mv/A7PHwnlX9zAAEgSMACSBAyAJAEDIEnAAEgSMACSLPO9\\\n",
              "qeoS2xUWvq7wO5ydu3okfmSh8I6/A+txAwMgScAASBIwAJIEDIAkAQMgScAASLKNfgO20fMsIyPx\\\n",
              "K7ONvsUNDIAkAQMgScAASBIwAJIEDIAky3xvqrrEdoWFryv8DmfnVl98u/LvQIsbGABJAgZAkoAB\\\n",
              "kCRgACQJGABJAgZAkmW+G7DMF/7rfxi9t8x3MW5gACQJGABJAgZAkoABkCRgACRZ5ntT1SW2Kyx8\\\n",
              "PTszYvVnqr5b9ucGBkCSgAGQJGAAJAkYAEkCBkCSgAGQZJnvBizzZXezxugt821xAwMgScAASBIw\\\n",
              "AJIEDIAkAQMgScAASLKN/qZsLJ975uzc6DONmPVMI67+Xz5ssN+fGxgASQIGQJKAAZAkYAAkCRgA\\\n",
              "SaYQb2pkCmt0cmvWZ618ZuZnjUwGznymqycruS83MACSBAyAJAEDIEnAAEgSMACSBAyAJGP0N1Vd\\\n",
              "Yrv6Mt+ZrlxIO/PdrmCVd8j7uIEBkCRgACQJGABJAgZAkoABkHSsPi3Elx3H8epL9H7h7b4wjWl0\\\n",
              "cTFuYAAkCRgASQIGQJKAAZAkYAAkCRgASZb53pRlvnPPnJ3zTONnzs6NPhMdbmAAJAkYAEkCBkCS\\\n",
              "gAGQJGAAJAkYAEm20W/ANvrPjE3zXrbRt7iBAZAkYAAkCRgASQIGQJKAAZBkme9N7bjwdcTVv8OI\\\n",
              "FZbYrv5uLfPlJW5gACQJGABJAgZAkoABkCRgACQJGABJxuhvamSMeHT0eNZnrXxm1OrPtPL3Ozvz\\\n",
              "66dPX/33WI8bGABJAgZAkoABkCRgACQJGABJphA3d/XiWYBVuIEBkCRgACQJGABJAgZAkoABkCRg\\\n",
              "ACQdMxeTAsBV3MAASBIwAJIEDIAkAQMgScAASBIwAJIEDIAkAQMgScAASBIwAJIEDIAkAQMgScAA\\\n",
              "SBIwAJIEDIAkAQMgScAASBIwAJIEDIAkAQMgScAASBIwAJIEDIAkAQMgScAASBIwAJIEDIAkAQMg\\\n",
              "ScAASBIwAJIEDIAkAQMgScAASBIwAJIEDICkfwCpsHcJUVKvlQAAAABJRU5ErkJggg==\\\n",
              "\"\n",
              "  frames[4] = \"data:image/png;base64,iVBORw0KGgoAAAANSUhEUgAAAbAAAAEgCAYAAADVKCZpAAAAOXRFWHRTb2Z0d2FyZQBNYXRwbG90\\\n",
              "bGliIHZlcnNpb24zLjUuMSwgaHR0cHM6Ly9tYXRwbG90bGliLm9yZy/YYfK9AAAACXBIWXMAAAsT\\\n",
              "AAALEwEAmpwYAAAG5klEQVR4nO3cMXIjNxBAUcHlyL6DfYg9ta/lQzilg422LI600BjEn3kvh8jh\\\n",
              "BL9Q1erxeDzeAKDml1d/AQCYIWAAJAkYAEkCBkCSgAGQJGAAJAkYAEkCBkCSgAGQJGAAJAkYAEkC\\\n",
              "BkCSgAGQJGAAJAkYAEkCBkCSgAGQJGAAJAkYAEkCBkCSgAGQJGAAJAkYAEkCBkCSgAGQJGAAJAkY\\\n",
              "AEkCBkCSgAGQJGAAJAkYAEkCBkCSgAGQJGAAJP366i/A140xHq/+DnB1j8djvPo78CM3MACSBAyA\\\n",
              "JAEDIEnAAEgSMACSTCFe3B+/vT+g+Pc/zweqHo/XDzWO8f732/m7vb3t8f1mXPGZZhz9DuzHDQyA\\\n",
              "JAEDIEnAAEgSMACSBAyApHGnCaOrOtqF+Oz9zkydzU6qzUwUnnnm6Fz1dzg6V32mlb/DDLsQ9+MG\\\n",
              "BkCSgAGQJGAAJAkYAEkCBkCSgAGQZJnvTc38+8Tsv1ys+qwtzvz5+7rPevGZlZ+16oxlvi1uYAAk\\\n",
              "CRgASQIGQJKAAZAkYAAkmUK8KQtf1545OueZvubsZ6LDDQyAJAEDIEnAAEgSMACSBAyAJAEDIGkY\\\n",
              "J+0bYzx9id5vm1HwtT74vW363YwbGABJAgZAkoABkCRgACQJGABJAgZAkm30N1XdWH63ze0zdn+m\\\n",
              "Hd4t1+AGBkCSgAGQJGAAJAkYAEkCBkCSZb4XYJkvnMMy3xY3MACSBAyAJAEDIEnAAEgSMACSBAyA\\\n",
              "JMt8b8rC17Vnjs55pvkzR+dmn4kONzAAkgQMgCQBAyBJwABIEjAAkizzvYDdl/nOTJ3tbOXEHmtZ\\\n",
              "5tviBgZAkoABkCRgACQJGABJAgZAkoABkGSZ703tsBz16O/NfM4Oz3Q2y3yPzxyd2/3d8nVuYAAk\\\n",
              "CRgASQIGQJKAAZAkYAAkCRgASbbRX8DMNnojxuvZRr8/2+hb3MAASBIwAJIEDIAkAQMgScAASLLM\\\n",
              "l0/bYeHrrB0W386wzPf4zNE5k7bX5wYGQJKAAZAkYAAkCRgASQIGQJKAAZBkme8FzCzzpWHVKLiR\\\n",
              "8+8s821xAwMgScAASBIwAJIEDIAkAQMgyTLfm9ph4euMHRa+rlx8O+PsRcgzn2WZLyu4gQGQJGAA\\\n",
              "JAkYAEkCBkCSgAGQJGAAJBmj59POHj3e4e+tOrPys3YfEfc7cBY3MACSBAyAJAEDIEnAAEgSMACS\\\n",
              "BAyAJGP0fNrK7d5nb1SvbqNfuVn+mVXv1jZ6fpYbGABJAgZAkoABkCRgACQJGABJwzRO3xjj6Uv0\\\n",
              "fvkME3vfffA7vH4klB+4gQGQJGAAJAkYAEkCBkCSgAGQJGAAJFnme1PVJbY7LHzd4Xc4Onf2SPzM\\\n",
              "QuEr/g7sxw0MgCQBAyBJwABIEjAAkgQMgCQBAyDJNvoLsI2eV5kZid+ZbfQtbmAAJAkYAEkCBkCS\\\n",
              "gAGQJGAAJFnme1PVJbY7LHzd4Xc4Orf74tudfwda3MAASBIwAJIEDIAkAQMgScAASBIwAJIs870A\\\n",
              "y3zhv/6H0XvLfDfjBgZAkoABkCRgACQJGABJAgZAkmW+N1VdYrvDwtejMzN2f6bqu+X63MAASBIw\\\n",
              "AJIEDIAkAQMgScAASBIwAJIs870Ay3y5ulVj9Jb5triBAZAkYAAkCRgASQIGQJKAAZAkYAAk2UZ/\\\n",
              "UzaWrz1zdG72mWaseqYZZ//Lhw321+cGBkCSgAGQJGAAJAkYAEkCBkCSKcSbmpnCmp3cWvVZO59Z\\\n",
              "+Vkzk4Ern+nsyUruyw0MgCQBAyBJwABIEjAAkgQMgCQBAyDJGP1NVZfY7r7Md6UzF9KufLc72OUd\\\n",
              "8jVuYAAkCRgASQIGQJKAAZAkYAAkjd2nhfjYGOPpS/R+4fM+mMY0urgZNzAAkgQMgCQBAyBJwABI\\\n",
              "EjAAkgQMgCTLfG/KMt+1Z47Oeab5M0fnZp+JDjcwAJIEDIAkAQMgScAASBIwAJIEDIAk2+gvwDb6\\\n",
              "74xN81W20be4gQGQJGAAJAkYAEkCBkCSgAGQZJnvTV1x4euMs3+HGTsssd393Vrmy3vcwABIEjAA\\\n",
              "kgQMgCQBAyBJwABIEjAAkozR39TMGPHs6PGqz9r5zKzdn2nn73d05q9v337677EfNzAAkgQMgCQB\\\n",
              "AyBJwABIEjAAkkwhXtzZi2cBduEGBkCSgAGQJGAAJAkYAEkCBkCSgAGQNFYuJgWAs7iBAZAkYAAk\\\n",
              "CRgASQIGQJKAAZAkYAAkCRgASQIGQJKAAZAkYAAkCRgASQIGQJKAAZAkYAAkCRgASQIGQJKAAZAk\\\n",
              "YAAkCRgASQIGQJKAAZAkYAAkCRgASQIGQJKAAZAkYAAkCRgASQIGQJKAAZAkYAAkCRgASQIGQJKA\\\n",
              "AZAkYAAkCRgASf8CEzWOFYxM3mcAAAAASUVORK5CYII=\\\n",
              "\"\n",
              "  frames[5] = \"data:image/png;base64,iVBORw0KGgoAAAANSUhEUgAAAbAAAAEgCAYAAADVKCZpAAAAOXRFWHRTb2Z0d2FyZQBNYXRwbG90\\\n",
              "bGliIHZlcnNpb24zLjUuMSwgaHR0cHM6Ly9tYXRwbG90bGliLm9yZy/YYfK9AAAACXBIWXMAAAsT\\\n",
              "AAALEwEAmpwYAAAG+ElEQVR4nO3cwXEcRRSAYQ3lE+QAOdgJEAYhQhZEQA6Qg7kuB51cSCOpd9zb\\\n",
              "/8z3HXG1dmfn8FdXPd52u92eAKDmh0d/AQAYIWAAJAkYAEkCBkCSgAGQJGAAJAkYAEkCBkCSgAGQ\\\n",
              "JGAAJAkYAEkCBkCSgAGQJGAAJAkYAEkCBkCSgAGQJGAAJAkYAEkCBkCSgAGQJGAAJAkYAEkCBkCS\\\n",
              "gAGQJGAAJAkYAEkCBkCSgAGQJGAAJAkYAEkCBkCSgAGQJGAAJH169Bfgftu23R79HeDsbrfb9ujv\\\n",
              "wLfcwABIEjAAkgQMgCQBAyBJwABIMoV4cp9///XF//7Xb3++euZ2e/xQ47a9PPC18nd7elrj+404\\\n",
              "4zON2PsdWI8bGABJAgZAkoABkCRgACQJGABJ25UmjM5qbxfizz++/E///PvxqbPRSbWRicIjz+yd\\\n",
              "m3Vm75xnGj+zd+7oiUK7ENfjBgZAkoABkCRgACQJGABJAgZAkoABkGSM/gT2xui93+/gl59e/7e/\\\n",
              "v877HhzujXF9Y/SLcQMDIEnAAEgSMACSBAyAJAEDIMkU4gmMTCFa+Dr3zN45z3Sfib+DKcTFuIEB\\\n",
              "kCRgACQJGABJAgZAkoABkCRgACQZoz8By3zPa3S8nTHG6FvcwABIEjAAkgQMgCQBAyBJwABIEjAA\\\n",
              "kj49+gvwGNWN5Vfb3D5i9Wda4d1yDm5gACQJGABJAgZAkoABkCRgACRZ5nsClvnCMSzzbXEDAyBJ\\\n",
              "wABIEjAAkgQMgCQBAyBJwABIssz3oix8nXtm75xnGj+zd270mehwAwMgScAASBIwAJIEDIAkAQMg\\\n",
              "yTLfE1h9me/I1NnKZk7sMZdlvi1uYAAkCRgASQIGQJKAAZAkYAAkCRgASZb5XtQKy1H3/t7I56zw\\\n",
              "TEezzHf/zN651d8t93MDAyBJwABIEjAAkgQMgCQBAyBJwABIso3+BEa20Rsxns82+vXZRt/iBgZA\\\n",
              "koABkCRgACQJGABJAgZAkmW+vNsKC19HrbD4doRlvvtn9s6ZtD0/NzAAkgQMgCQBAyBJwABIEjAA\\\n",
              "kgQMgCTLfE9gZJkvDbNGwY2cP7PMt8UNDIAkAQMgScAASBIwAJIEDIAky3wvaoWFryNWWPg6c/Ht\\\n",
              "iKMXIY98lmW+zOAGBkCSgAGQJGAAJAkYAEkCBkCSgAGQZIyedzt69HiFvzfrzMzPWn1E3O/AUdzA\\\n",
              "AEgSMACSBAyAJAEDIEnAAEgSMACSjNHzbjO3ex+9Ub26jX7mZvnXzHq3ttHzUW5gACQJGABJAgZA\\\n",
              "koABkCRgACRtpnH6tm179SV6v7yHib1nb/wOjx8J5RtuYAAkCRgASQIGQJKAAZAkYAAkCRgASZb5\\\n",
              "XlR1ie0KC19X+B32zh09Ej+yUPiMvwPrcQMDIEnAAEgSMACSBAyAJAEDIEnAAEiyjf4EbKPnUUZG\\\n",
              "4ldmG32LGxgASQIGQJKAAZAkYAAkCRgASZb5XlR1ie0KC19X+B32zq2++Hbl34EWNzAAkgQMgCQB\\\n",
              "AyBJwABIEjAAkgQMgCTLfE/AMl/4v+8wem+Z72LcwABIEjAAkgQMgCQBAyBJwABIssz3oqpLbFdY\\\n",
              "+Lp3ZsTqz1R9t5yfGxgASQIGQJKAAZAkYAAkCRgASQIGQJJlvidgmS9nN2uM3jLfFjcwAJIEDIAk\\\n",
              "AQMgScAASBIwAJIEDIAk2+gvysbyuWf2zo0+04hZzzTi6P/lwwb783MDAyBJwABIEjAAkgQMgCQB\\\n",
              "AyDJFOJFjUxhjU5uzfqslc/M/KyRycCZz3T0ZCXX5QYGQJKAAZAkYAAkCRgASQIGQJKAAZBkjP6i\\\n",
              "qktsV1/mO9ORC2lnvtsVrPIOuY8bGABJAgZAkoABkCRgACQJGABJ2+rTQrxt27ZXX6L3C+/3xjSm\\\n",
              "0cXFuIEBkCRgACQJGABJAgZAkoABkCRgACRZ5ntRlvnOPbN3zjONn9k7N/pMdLiBAZAkYAAkCRgA\\\n",
              "SQIGQJKAAZAkYAAk2UZ/ArbRPzM2zb1so29xAwMgScAASBIwAJIEDIAkAQMgyTLfizrjwtcRR/8O\\\n",
              "I1ZYYrv6u7XMl5e4gQGQJGAAJAkYAEkCBkCSgAGQJGAAJBmjv6iRMeLR0eNZn7XymVGrP9PK32/v\\\n",
              "zB9fvnz477EeNzAAkgQMgCQBAyBJwABIEjAAkkwhntzRi2cBVuEGBkCSgAGQJGAAJAkYAEkCBkCS\\\n",
              "gAGQtM1cTAoAR3EDAyBJwABIEjAAkgQMgCQBAyBJwABIEjAAkgQMgCQBAyBJwABIEjAAkgQMgCQB\\\n",
              "AyBJwABIEjAAkgQMgCQBAyBJwABIEjAAkgQMgCQBAyBJwABIEjAAkgQMgCQBAyBJwABIEjAAkgQM\\\n",
              "gCQBAyBJwABIEjAAkgQMgCQBAyBJwABIEjAAkv4DEmd3CfXciCIAAAAASUVORK5CYII=\\\n",
              "\"\n",
              "  frames[6] = \"data:image/png;base64,iVBORw0KGgoAAAANSUhEUgAAAbAAAAEgCAYAAADVKCZpAAAAOXRFWHRTb2Z0d2FyZQBNYXRwbG90\\\n",
              "bGliIHZlcnNpb24zLjUuMSwgaHR0cHM6Ly9tYXRwbG90bGliLm9yZy/YYfK9AAAACXBIWXMAAAsT\\\n",
              "AAALEwEAmpwYAAAG6ElEQVR4nO3cMXIjNxBAUcHlyL6DfYg9ta/lQzilg422LI600BjEn3kvh8jh\\\n",
              "BL9Q1erxeDzeAKDml1d/AQCYIWAAJAkYAEkCBkCSgAGQJGAAJAkYAEkCBkCSgAGQJGAAJAkYAEkC\\\n",
              "BkCSgAGQJGAAJAkYAEkCBkCSgAGQJGAAJAkYAEkCBkCSgAGQJGAAJAkYAEkCBkCSgAGQJGAAJAkY\\\n",
              "AEkCBkCSgAGQJGAAJAkYAEkCBkCSgAGQJGAAJP366i/A140xHq/+DnB1j8djvPo78CM3MACSBAyA\\\n",
              "JAEDIEnAAEgSMACSTCFe3B+/vT+g+Pc/zweqHo/XDzWO8f732/m7vb3t8f1mXPGZZhz9DuzHDQyA\\\n",
              "JAEDIEnAAEgSMACSBAyApHGnCaOrOtqF+Oz9zkydzU6qzUwUnnnm6Fz1dzg6V32mlb/DDLsQ9+MG\\\n",
              "BkCSgAGQJGAAJAkYAEkCBkCSgAGQZJnvTc38+8Tsv1ys+qzTz/z5+2mfM3tu5zMrP2vVGct8W9zA\\\n",
              "AEgSMACSBAyAJAEDIEnAAEgyhXhTFr6uPXN0zjN9zdnPRIcbGABJAgZAkoABkCRgACQJGABJAgZA\\\n",
              "0jBO2jfGePoSvd82o+BrffB72/S7GTcwAJIEDIAkAQMgScAASBIwAJIEDIAk2+hvqrqx/G6b22fs\\\n",
              "/kw7vFuuwQ0MgCQBAyBJwABIEjAAkgQMgCTLfC/AMl84h2W+LW5gACQJGABJAgZAkoABkCRgACQJ\\\n",
              "GABJlvnelIWva88cnfNM82eOzs0+Ex1uYAAkCRgASQIGQJKAAZAkYAAkWeZ7Absv852ZOtvZyok9\\\n",
              "1rLMt8UNDIAkAQMgScAASBIwAJIEDIAkAQMgyTLfm9phOerR35v5nB2e6WyW+R6fOTq3+7vl69zA\\\n",
              "AEgSMACSBAyAJAEDIEnAAEgSMACSbKO/gJlt9EaM17ONfn+20be4gQGQJGAAJAkYAEkCBkCSgAGQ\\\n",
              "ZJkvn7bDwtdZOyy+nWGZ7/GZo3Mmba/PDQyAJAEDIEnAAEgSMACSBAyAJAEDIMky3wuYWeZLw6pR\\\n",
              "cCPn31nm2+IGBkCSgAGQJGAAJAkYAEkCBkCSZb43tcPC1xk7LHxdufh2xtmLkGc+yzJfVnADAyBJ\\\n",
              "wABIEjAAkgQMgCQBAyBJwABIMkbPp509erzD31t1ZuVn7T4i7nfgLG5gACQJGABJAgZAkoABkCRg\\\n",
              "ACQJGABJxuj5tJXbvc/eqF7dRr9ys/wzq96tbfT8LDcwAJIEDIAkAQMgScAASBIwAJKGaZy+McbT\\\n",
              "l+j98hkm9r774Hd4/UgoP3ADAyBJwABIEjAAkgQMgCQBAyBJwABIssz3pqpLbHdY+LrD73B07uyR\\\n",
              "+JmFwlf8HdiPGxgASQIGQJKAAZAkYAAkCRgASQIGQJJt9BdgGz2vMjMSvzPb6FvcwABIEjAAkgQM\\\n",
              "gCQBAyBJwABIssz3pqpLbHdY+LrD73B0bvfFtzv/DrS4gQGQJGAAJAkYAEkCBkCSgAGQJGAAJFnm\\\n",
              "ewGW+cJ//Q+j95b5bsYNDIAkAQMgScAASBIwAJIEDIAky3xvqrrEdoeFr0dnZuz+TNV3y/W5gQGQ\\\n",
              "JGAAJAkYAEkCBkCSgAGQJGAAJFnmewGW+XJ1q8boLfNtcQMDIEnAAEgSMACSBAyAJAEDIEnAAEiy\\\n",
              "jf6mbCxfe+bo3OwzzVj1TDPO/pcPG+yvzw0MgCQBAyBJwABIEjAAkgQMgCRTiDc1M4U1O7m16rN2\\\n",
              "PrPys2YmA1c+09mTldyXGxgASQIGQJKAAZAkYAAkCRgASQIGQJIx+puqLrHdfZnvSmcupF35bnew\\\n",
              "yzvka9zAAEgSMACSBAyAJAEDIEnAAEgau08L8bExxtOX6P3C530wjWl0cTNuYAAkCRgASQIGQJKA\\\n",
              "AZAkYAAkCRgASZb53pRlvmvPHJ3zTPNnjs7NPhMdbmAAJAkYAEkCBkCSgAGQJGAAJAkYAEm20V+A\\\n",
              "bfTfGZvmq2yjb3EDAyBJwABIEjAAkgQMgCQBAyDJMt+buuLC1xln/w4zdlhiu/u7tcyX97iBAZAk\\\n",
              "YAAkCRgASQIGQJKAAZAkYAAkGaO/qZkx4tnR41WftfOZWbs/087f7+jMX9++/fTfYz9uYAAkCRgA\\\n",
              "SQIGQJKAAZAkYAAkmUK8uLMXzwLswg0MgCQBAyBJwABIEjAAkgQMgCQBAyBprFxMCgBncQMDIEnA\\\n",
              "AEgSMACSBAyAJAEDIEnAAEgSMACSBAyAJAEDIEnAAEgSMACSBAyAJAEDIEnAAEgSMACSBAyAJAED\\\n",
              "IEnAAEgSMACSBAyAJAEDIEnAAEgSMACSBAyAJAEDIEnAAEgSMACSBAyAJAEDIEnAAEgSMACSBAyA\\\n",
              "JAEDIEnAAEgSMACS/gUbvY4VJfKB2QAAAABJRU5ErkJggg==\\\n",
              "\"\n",
              "  frames[7] = \"data:image/png;base64,iVBORw0KGgoAAAANSUhEUgAAAbAAAAEgCAYAAADVKCZpAAAAOXRFWHRTb2Z0d2FyZQBNYXRwbG90\\\n",
              "bGliIHZlcnNpb24zLjUuMSwgaHR0cHM6Ly9tYXRwbG90bGliLm9yZy/YYfK9AAAACXBIWXMAAAsT\\\n",
              "AAALEwEAmpwYAAAG90lEQVR4nO3cwZEcRRBAUTWhE/gAPiAHMAMTwQsswAfwAa7DQScCbe+qtqmp\\\n",
              "X/3eEUXtTE8fflREksfj8fgAADXfPPsLAMAIAQMgScAASBIwAJIEDIAkAQMgScAASBIwAJIEDIAk\\\n",
              "AQMgScAASBIwAJIEDIAkAQMgScAASBIwAJIEDIAkAQMgScAASBIwAJIEDIAkAQMgScAASBIwAJIE\\\n",
              "DIAkAQMgScAASBIwAJIEDIAkAQMgScAASBIwAJIEDIAkAQMg6eOzvwDvdxzH49nfAXb3eDyOZ38H\\\n",
              "/s0NDIAkAQMgScAASBIwAJIEDIAkU4ib+/GXn77433//+bcXzzwezx9qPI4vD3yt/N0+fFjj+43Y\\\n",
              "8ZlGnP0OrMcNDIAkAQMgScAASBIwAJIEDICk404TRrs624X4/bdf/qc///76qbPRSbWRicIrz5yd\\\n",
              "m3Xm7JxnGj9zdu7qiUK7ENfjBgZAkoABkCRgACQJGABJAgZAkoABkGSMfgNnY/Te7yt++O7lf/vj\\\n",
              "r3nfgyW8Mq5vjH4xbmAAJAkYAEkCBkCSgAGQJGAAJJlC3MDIFKKFr3PPnJ3zTO8z8XcwhbgYNzAA\\\n",
              "kgQMgCQBAyBJwABIEjAAkgQMgCRj9BuwzHdfo+PtjDFG3+IGBkCSgAGQJGAAJAkYAEkCBkCSgAGQ\\\n",
              "9PHZX4DnqG4sv9vm9hGrP9MK75Y9uIEBkCRgACQJGABJAgZAkoABkGSZ7wYs84VrWObb4gYGQJKA\\\n",
              "AZAkYAAkCRgASQIGQJKAAZBkme9NWfg698zZOc80fubs3Ogz0eEGBkCSgAGQJGAAJAkYAEkCBkCS\\\n",
              "Zb4bWH2Z78jU2cpmTuwxl2W+LW5gACQJGABJAgZAkoABkCRgACQJGABJlvne1ArLUc/+3sjnrPBM\\\n",
              "V7PM9/zM2bnV3y3v5wYGQJKAAZAkYAAkCRgASQIGQJKAAZBkG/0GRrbRGzGezzb69dlG3+IGBkCS\\\n",
              "gAGQJGAAJAkYAEkCBkCSZb682QoLX0etsPh2hGW+52fOzpm03Z8bGABJAgZAkoABkCRgACQJGABJ\\\n",
              "AgZAkmW+GxhZ5kvDrFFwI+efWebb4gYGQJKAAZAkYAAkCRgASQIGQJJlvje1wsLXESssfJ25+HbE\\\n",
              "1YuQRz7LMl9mcAMDIEnAAEgSMACSBAyAJAEDIEnAAEgyRs+bXT16vMLfm3Vm5metPiLud+AqbmAA\\\n",
              "JAkYAEkCBkCSgAGQJGAAJAkYAEnG6Hmzmdu9r96oXt1GP3Oz/EtmvVvb6PlabmAAJAkYAEkCBkCS\\\n",
              "gAGQJGAAJB2mcfqO43jxJXq/vIWJvc9e+R2ePxLKv7iBAZAkYAAkCRgASQIGQJKAAZAkYAAkWeZ7\\\n",
              "U9UltissfF3hdzg7d/VI/MhC4R1/B9bjBgZAkoABkCRgACQJGABJAgZAkoABkGQb/QZso+dZRkbi\\\n",
              "V2YbfYsbGABJAgZAkoABkCRgACQJGABJlvneVHWJ7QoLX1f4Hc7Orb74duXfgRY3MACSBAyAJAED\\\n",
              "IEnAAEgSMACSBAyAJMt8N2CZL/zX/zB6b5nvYtzAAEgSMACSBAyAJAEDIEnAAEiyzPemqktsV1j4\\\n",
              "enZmxOrPVH237M8NDIAkAQMgScAASBIwAJIEDIAkAQMgyTLfDVjmy+5mjdFb5tviBgZAkoABkCRg\\\n",
              "ACQJGABJAgZAkoABkGQb/U3ZWD73zNm50WcaMeuZRlz9v3zYYL8/NzAAkgQMgCQBAyBJwABIEjAA\\\n",
              "kkwh3tTIFNbo5Nasz1r5zMzPGpkMnPlMV09Wcl9uYAAkCRgASQIGQJKAAZAkYAAkCRgAScbob6q6\\\n",
              "xHb1Zb4zXbmQdua7XcEq75D3cQMDIEnAAEgSMACSBAyAJAEDIOlYfVqI1x3H8eJL9H7h7V6ZxjS6\\\n",
              "uBg3MACSBAyAJAEDIEnAAEgSMACSBAyAJMt8b8oy37lnzs55pvEzZ+dGn4kONzAAkgQMgCQBAyBJ\\\n",
              "wABIEjAAkgQMgCTb6DdgG/1nxqZ5L9voW9zAAEgSMACSBAyAJAEDIEnAAEiyzPemdlz4OuLq32HE\\\n",
              "CktsV3+3lvnyJW5gACQJGABJAgZAkoABkCRgACQJGABJxuhvamSMeHT0eNZnrXxm1OrPtPL3Ozvz\\\n",
              "66dPX/33WI8bGABJAgZAkoABkCRgACQJGABJphA3d/XiWYBVuIEBkCRgACQJGABJAgZAkoABkCRg\\\n",
              "ACQdMxeTAsBV3MAASBIwAJIEDIAkAQMgScAASBIwAJIEDIAkAQMgScAASBIwAJIEDIAkAQMgScAA\\\n",
              "SBIwAJIEDIAkAQMgScAASBIwAJIEDIAkAQMgScAASBIwAJIEDIAkAQMgScAASBIwAJIEDIAkAQMg\\\n",
              "ScAASBIwAJIEDIAkAQMgScAASBIwAJIEDICkfwB6Z3cJ095+4gAAAABJRU5ErkJggg==\\\n",
              "\"\n",
              "  frames[8] = \"data:image/png;base64,iVBORw0KGgoAAAANSUhEUgAAAbAAAAEgCAYAAADVKCZpAAAAOXRFWHRTb2Z0d2FyZQBNYXRwbG90\\\n",
              "bGliIHZlcnNpb24zLjUuMSwgaHR0cHM6Ly9tYXRwbG90bGliLm9yZy/YYfK9AAAACXBIWXMAAAsT\\\n",
              "AAALEwEAmpwYAAAG6ElEQVR4nO3cMXIjNxBAUcHlyL6DfYg9ta/lQzilg422LI600BjEn3kvh8jh\\\n",
              "BL9Q1erxeDzeAKDml1d/AQCYIWAAJAkYAEkCBkCSgAGQJGAAJAkYAEkCBkCSgAGQJGAAJAkYAEkC\\\n",
              "BkCSgAGQJGAAJAkYAEkCBkCSgAGQJGAAJAkYAEkCBkCSgAGQJGAAJAkYAEkCBkCSgAGQJGAAJAkY\\\n",
              "AEkCBkCSgAGQJGAAJAkYAEkCBkCSgAGQJGAAJP366i/A140xHq/+DnB1j8djvPo78CM3MACSBAyA\\\n",
              "JAEDIEnAAEgSMACSTCFe3B+/vT+g+Pc/zweqHo/XDzWO8f732/m7vb3t8f1mXPGZZhz9DuzHDQyA\\\n",
              "JAEDIEnAAEgSMACSBAyApHGnCaOrOtqF+Oz9zkydzU6qzUwUnnnm6Fz1dzg6V32mlb/DDLsQ9+MG\\\n",
              "BkCSgAGQJGAAJAkYAEkCBkCSgAGQZJnvTc38+8Tsv1ys+qzDM3/+vuZzTj6385mVn7XqjGW+LW5g\\\n",
              "ACQJGABJAgZAkoABkCRgACSZQrwpC1/Xnjk655m+5uxnosMNDIAkAQMgScAASBIwAJIEDIAkAQMg\\\n",
              "aRgn7RtjPH2J3m+bUfC1Pvi9bfrdjBsYAEkCBkCSgAGQJGAAJAkYAEkCBkCSbfQ3Vd1YfrfN7TN2\\\n",
              "f6Yd3i3X4AYGQJKAAZAkYAAkCRgASQIGQJJlvhdgmS+cwzLfFjcwAJIEDIAkAQMgScAASBIwAJIE\\\n",
              "DIAky3xvysLXtWeOznmm+TNH52afiQ43MACSBAyAJAEDIEnAAEgSMACSLPO9gN2X+c5Mne1s5cQe\\\n",
              "a1nm2+IGBkCSgAGQJGAAJAkYAEkCBkCSgAGQZJnvTe2wHPXo7818zg7PdDbLfI/PHJ3b/d3ydW5g\\\n",
              "ACQJGABJAgZAkoABkCRgACQJGABJttFfwMw2eiPG69lGvz/b6FvcwABIEjAAkgQMgCQBAyBJwABI\\\n",
              "ssyXT9th4eusHRbfzrDM9/jM0TmTttfnBgZAkoABkCRgACQJGABJAgZAkoABkGSZ7wXMLPOlYdUo\\\n",
              "uJHz7yzzbXEDAyBJwABIEjAAkgQMgCQBAyDJMt+b2mHh64wdFr6uXHw74+xFyDOfZZkvK7iBAZAk\\\n",
              "YAAkCRgASQIGQJKAAZAkYAAkGaPn084ePd7h7606s/Kzdh8R9ztwFjcwAJIEDIAkAQMgScAASBIw\\\n",
              "AJIEDIAkY/R82srt3mdvVK9uo1+5Wf6ZVe/WNnp+lhsYAEkCBkCSgAGQJGAAJAkYAEnDNE7fGOPp\\\n",
              "S/R++QwTe9998Du8fiSUH7iBAZAkYAAkCRgASQIGQJKAAZAkYAAkWeZ7U9UltjssfN3hdzg6d/ZI\\\n",
              "/MxC4Sv+DuzHDQyAJAEDIEnAAEgSMACSBAyAJAEDIMk2+guwjZ5XmRmJ35lt9C1uYAAkCRgASQIG\\\n",
              "QJKAAZAkYAAkWeZ7U9UltjssfN3hdzg6t/vi251/B1rcwABIEjAAkgQMgCQBAyBJwABIEjAAkizz\\\n",
              "vQDLfOG//ofRe8t8N+MGBkCSgAGQJGAAJAkYAEkCBkCSZb43VV1iu8PC16MzM3Z/puq75frcwABI\\\n",
              "EjAAkgQMgCQBAyBJwABIEjAAkizzvQDLfLm6VWP0lvm2uIEBkCRgACQJGABJAgZAkoABkCRgACTZ\\\n",
              "Rn9TNpavPXN0bvaZZqx6phln/8uHDfbX5wYGQJKAAZAkYAAkCRgASQIGQJIpxJuamcKandxa9Vk7\\\n",
              "n1n5WTOTgSuf6ezJSu7LDQyAJAEDIEnAAEgSMACSBAyAJAEDIMkY/U1Vl9juvsx3pTMX0q58tzvY\\\n",
              "5R3yNW5gACQJGABJAgZAkoABkCRgACSN3aeF+NgY4+lL9H7h8z6YxjS6uBk3MACSBAyAJAEDIEnA\\\n",
              "AEgSMACSBAyAJMt8b8oy37Vnjs55pvkzR+dmn4kONzAAkgQMgCQBAyBJwABIEjAAkgQMgCTb6C/A\\\n",
              "NvrvjE3zVbbRt7iBAZAkYAAkCRgASQIGQJKAAZBkme9NXXHh64yzf4cZOyyx3f3dWubLe9zAAEgS\\\n",
              "MACSBAyAJAEDIEnAAEgSMACSjNHf1MwY8ezo8arP2vnMrN2faefvd3Tmr2/ffvrvsR83MACSBAyA\\\n",
              "JAEDIEnAAEgSMACSTCFe3NmLZwF24QYGQJKAAZAkYAAkCRgASQIGQJKAAZA0Vi4mBYCzuIEBkCRg\\\n",
              "ACQJGABJAgZAkoABkCRgACQJGABJAgZAkoABkCRgACQJGABJAgZAkoABkCRgACQJGABJAgZAkoAB\\\n",
              "kCRgACQJGABJAgZAkoABkCRgACQJGABJAgZAkoABkCRgACQJGABJAgZAkoABkCRgACQJGABJAgZA\\\n",
              "koABkCRgACQJGABJ/wIkRY4VloGz7wAAAABJRU5ErkJggg==\\\n",
              "\"\n",
              "  frames[9] = \"data:image/png;base64,iVBORw0KGgoAAAANSUhEUgAAAbAAAAEgCAYAAADVKCZpAAAAOXRFWHRTb2Z0d2FyZQBNYXRwbG90\\\n",
              "bGliIHZlcnNpb24zLjUuMSwgaHR0cHM6Ly9tYXRwbG90bGliLm9yZy/YYfK9AAAACXBIWXMAAAsT\\\n",
              "AAALEwEAmpwYAAAG9klEQVR4nO3cwZEcRRBAUTWhE/gAPiAHMAMTwQsswAfwAa7DQSeC3daqtqmp\\\n",
              "X/3eEUXtTE8fflREksfj8fgAADXfPPsLAMAIAQMgScAASBIwAJIEDIAkAQMgScAASBIwAJIEDIAk\\\n",
              "AQMgScAASBIwAJIEDIAkAQMgScAASBIwAJIEDIAkAQMgScAASBIwAJIEDIAkAQMgScAASBIwAJIE\\\n",
              "DIAkAQMgScAASBIwAJIEDIAkAQMgScAASBIwAJIEDIAkAQMg6eOzvwDvdxzH49nfAXb3eDyOZ38H\\\n",
              "/s0NDIAkAQMgScAASBIwAJIEDIAkU4ib+/GXn17877///NurZx6P5w81HsfLA18rf7cPH9b4fiN2\\\n",
              "fKYRZ78D63EDAyBJwABIEjAAkgQMgCQBAyDpuNOE0a7OdiF+/+3L//Tn318/dTY6qTYyUXjlmbNz\\\n",
              "s86cnfNM42fOzl09UWgX4nrcwABIEjAAkgQMgCQBAyBJwABIEjAAkozRb+BsjP5W7/eH717/tz/+\\\n",
              "mvc9yPrCuL4x+sW4gQGQJGAAJAkYAEkCBkCSgAGQZApxAyNTiBa+zj1zds4zvc/E38EU4mLcwABI\\\n",
              "EjAAkgQMgCQBAyBJwABIEjAAkozRb8Ay332Njrczxhh9ixsYAEkCBkCSgAGQJGAAJAkYAEkCBkDS\\\n",
              "x2d/AZ6jurH8bpvbR6z+TCu8W/bgBgZAkoABkCRgACQJGABJAgZAkmW+G7DMF65hmW+LGxgASQIG\\\n",
              "QJKAAZAkYAAkCRgASQIGQJJlvjdl4evcM2fnPNP4mbNzo89EhxsYAEkCBkCSgAGQJGAAJAkYAEmW\\\n",
              "+W5g9WW+I1NnK5s5scdclvm2uIEBkCRgACQJGABJAgZAkoABkCRgACRZ5ntTKyxHPft7I5+zwjNd\\\n",
              "zTLf8zNn51Z/t7yfGxgASQIGQJKAAZAkYAAkCRgASQIGQJJt9BsY2UZvxHg+2+jXZxt9ixsYAEkC\\\n",
              "BkCSgAGQJGAAJAkYAEmW+fJmKyx8HbXC4tsRlvmenzk7Z9J2f25gACQJGABJAgZAkoABkCRgACQJ\\\n",
              "GABJlvluYGSZLw2zRsGNnH9mmW+LGxgASQIGQJKAAZAkYAAkCRgASZb53tQKC19HrLDwdebi2xFX\\\n",
              "L0Ie+SzLfJnBDQyAJAEDIEnAAEgSMACSBAyAJAEDIMkYPW929ejxCn9v1pmZn7X6iLjfgau4gQGQ\\\n",
              "JGAAJAkYAEkCBkCSgAGQJGAAJBmj581mbve+eqN6dRv9zM3yr5n1bm2j52u5gQGQJGAAJAkYAEkC\\\n",
              "BkCSgAGQdJjG6TuO49WX6P3yFib2PvvC7/D8kVD+xQ0MgCQBAyBJwABIEjAAkgQMgCQBAyDJMt+b\\\n",
              "qi6xXWHh6wq/w9m5q0fiRxYK7/g7sB43MACSBAyAJAEDIEnAAEgSMACSBAyAJNvoN2AbPc8yMhK/\\\n",
              "MtvoW9zAAEgSMACSBAyAJAEDIEnAAEiyzPemqktsV1j4usLvcHZu9cW3K/8OtLiBAZAkYAAkCRgA\\\n",
              "SQIGQJKAAZAkYAAkWea7Act84b/+h9F7y3wX4wYGQJKAAZAkYAAkCRgASQIGQJJlvjdVXWK7wsLX\\\n",
              "szMjVn+m6rtlf25gACQJGABJAgZAkoABkCRgACQJGABJlvluwDJfdjdrjN4y3xY3MACSBAyAJAED\\\n",
              "IEnAAEgSMACSBAyAJNvob8rG8rlnzs6NPtOIWc804ur/5cMG+/25gQGQJGAAJAkYAEkCBkCSgAGQ\\\n",
              "ZArxpkamsEYnt2Z91spnZn7WyGTgzGe6erKS+3IDAyBJwABIEjAAkgQMgCQBAyBJwABIMkZ/U9Ul\\\n",
              "tqsv853pyoW0M9/tClZ5h7yPGxgASQIGQJKAAZAkYAAkCRgAScfq00J82XEcr75E7xfe7gvTmEYX\\\n",
              "F+MGBkCSgAGQJGAAJAkYAEkCBkCSgAGQZJnvTVnmO/fM2TnPNH7m7NzoM9HhBgZAkoABkCRgACQJ\\\n",
              "GABJAgZAkoABkGQb/QZso//M2DTvZRt9ixsYAEkCBkCSgAGQJGAAJAkYAEmW+d7UjgtfR1z9O4xY\\\n",
              "YYnt6u/WMl9e4gYGQJKAAZAkYAAkCRgASQIGQJKAAZBkjP6mRsaIR0ePZ33WymdGrf5MK3+/szO/\\\n",
              "fvr01X+P9biBAZAkYAAkCRgASQIGQJKAAZBkCnFzVy+eBViFGxgASQIGQJKAAZAkYAAkCRgASQIG\\\n",
              "QNIxczEpAFzFDQyAJAEDIEnAAEgSMACSBAyAJAEDIEnAAEgSMACSBAyAJAEDIEnAAEgSMACSBAyA\\\n",
              "JAEDIEnAAEgSMACSBAyAJAEDIEnAAEgSMACSBAyAJAEDIEnAAEgSMACSBAyAJAEDIEnAAEgSMACS\\\n",
              "BAyAJAEDIEnAAEgSMACSBAyAJAEDIEnAAEj6B+Jndwk0Md0ZAAAAAElFTkSuQmCC\\\n",
              "\"\n",
              "  frames[10] = \"data:image/png;base64,iVBORw0KGgoAAAANSUhEUgAAAbAAAAEgCAYAAADVKCZpAAAAOXRFWHRTb2Z0d2FyZQBNYXRwbG90\\\n",
              "bGliIHZlcnNpb24zLjUuMSwgaHR0cHM6Ly9tYXRwbG90bGliLm9yZy/YYfK9AAAACXBIWXMAAAsT\\\n",
              "AAALEwEAmpwYAAAG5UlEQVR4nO3cMXIjNxBAUcHlyL6DfYg9ta/lQzilg422LI600BjEn3kvh8jh\\\n",
              "BL9Q1erxeDzeAKDml1d/AQCYIWAAJAkYAEkCBkCSgAGQJGAAJAkYAEkCBkCSgAGQJGAAJAkYAEkC\\\n",
              "BkCSgAGQJGAAJAkYAEkCBkCSgAGQJGAAJAkYAEkCBkCSgAGQJGAAJAkYAEkCBkCSgAGQJGAAJAkY\\\n",
              "AEkCBkCSgAGQJGAAJAkYAEkCBkCSgAGQJGAAJP366i/A140xHq/+DnB1j8djvPo78CM3MACSBAyA\\\n",
              "JAEDIEnAAEgSMACSTCFe3B+/vT+g+Pc/zweqHo/XDzWO8f732/m7vb3t8f1mXPGZZhz9DuzHDQyA\\\n",
              "JAEDIEnAAEgSMACSBAyApHGnCaOrOtqF+Oz9zkydzU6qzUwUnnnm6Fz1dzg6V32mlb/DDLsQ9+MG\\\n",
              "BkCSgAGQJGAAJAkYAEkCBkCSgAGQZJnvTc38+8Tsv1yc+ll//r7mc04+s/KzPNP8Gct8W9zAAEgS\\\n",
              "MACSBAyAJAEDIEnAAEgyhXhTFr6uPXN0zjN9zdnPRIcbGABJAgZAkoABkCRgACQJGABJAgZA0jBO\\\n",
              "2jfGePoSvd82o+BrffB72/S7GTcwAJIEDIAkAQMgScAASBIwAJIEDIAk2+hvqrqx/G6b22fs/kw7\\\n",
              "vFuuwQ0MgCQBAyBJwABIEjAAkgQMgCTLfC/AMl84h2W+LW5gACQJGABJAgZAkoABkCRgACQJGABJ\\\n",
              "lvnelIWva88cnfNM82eOzs0+Ex1uYAAkCRgASQIGQJKAAZAkYAAkWeZ7Absv852ZOtvZyok91rLM\\\n",
              "t8UNDIAkAQMgScAASBIwAJIEDIAkAQMgyTLfm9phOerR35v5nB2e6WyW+R6fOTq3+7vl69zAAEgS\\\n",
              "MACSBAyAJAEDIEnAAEgSMACSbKO/gJlt9EaM17ONfn+20be4gQGQJGAAJAkYAEkCBkCSgAGQZJkv\\\n",
              "n7bDwtdZOyy+nWGZ7/GZo3Mmba/PDQyAJAEDIEnAAEgSMACSBAyAJAEDIMky3wuYWeZLw6pRcCPn\\\n",
              "31nm2+IGBkCSgAGQJGAAJAkYAEkCBkCSZb43tcPC1xk7LHxdufh2xtmLkGc+yzJfVnADAyBJwABI\\\n",
              "EjAAkgQMgCQBAyBJwABIMkbPp509erzD31t1ZuVn7T4i7nfgLG5gACQJGABJAgZAkoABkCRgACQJ\\\n",
              "GABJxuj5tJXbvc/eqF7dRr9ys/wzq96tbfT8LDcwAJIEDIAkAQMgScAASBIwAJKGaZy+McbTl+j9\\\n",
              "8hkm9r774Hd4/UgoP3ADAyBJwABIEjAAkgQMgCQBAyBJwABIssz3pqpLbHdY+LrD73B07uyR+JmF\\\n",
              "wlf8HdiPGxgASQIGQJKAAZAkYAAkCRgASQIGQJJt9BdgGz2vMjMSvzPb6FvcwABIEjAAkgQMgCQB\\\n",
              "AyBJwABIssz3pqpLbHdY+LrD73B0bvfFtzv/DrS4gQGQJGAAJAkYAEkCBkCSgAGQJGAAJFnmewGW\\\n",
              "+cJ//Q+j95b5bsYNDIAkAQMgScAASBIwAJIEDIAky3xvqrrEdoeFr0dnZuz+TNV3y/W5gQGQJGAA\\\n",
              "JAkYAEkCBkCSgAGQJGAAJFnmewGW+XJ1q8boLfNtcQMDIEnAAEgSMACSBAyAJAEDIEnAAEiyjf6m\\\n",
              "bCxfe+bo3OwzzVj1TDPO/pcPG+yvzw0MgCQBAyBJwABIEjAAkgQMgCRTiDc1M4U1O7m16rN2PrPy\\\n",
              "s2YmA1c+09mTldyXGxgASQIGQJKAAZAkYAAkCRgASQIGQJIx+puqLrHdfZnvSmcupF35bnewyzvk\\\n",
              "a9zAAEgSMACSBAyAJAEDIEnAAEgau08L8bExxtOX6P3C530wjWl0cTNuYAAkCRgASQIGQJKAAZAk\\\n",
              "YAAkCRgASZb53pRlvmvPHJ3zTPNnjs7NPhMdbmAAJAkYAEkCBkCSgAGQJGAAJAkYAEm20V+AbfTf\\\n",
              "GZvmq2yjb3EDAyBJwABIEjAAkgQMgCQBAyDJMt+buuLC1xln/w4zdlhiu/u7tcyX97iBAZAkYAAk\\\n",
              "CRgASQIGQJKAAZAkYAAkGaO/qZkx4tnR41WftfOZWbs/087f7+jMX9++/fTfYz9uYAAkCRgASQIG\\\n",
              "QJKAAZAkYAAkmUK8uLMXzwLswg0MgCQBAyBJwABIEjAAkgQMgCQBAyBprFxMCgBncQMDIEnAAEgS\\\n",
              "MACSBAyAJAEDIEnAAEgSMACSBAyAJAEDIEnAAEgSMACSBAyAJAEDIEnAAEgSMACSBAyAJAEDIEnA\\\n",
              "AEgSMACSBAyAJAEDIEnAAEgSMACSBAyAJAEDIEnAAEgSMACSBAyAJAEDIEnAAEgSMACSBAyAJAED\\\n",
              "IEnAAEgSMACS/gUtdY4VDtNAUQAAAABJRU5ErkJggg==\\\n",
              "\"\n",
              "  frames[11] = \"data:image/png;base64,iVBORw0KGgoAAAANSUhEUgAAAbAAAAEgCAYAAADVKCZpAAAAOXRFWHRTb2Z0d2FyZQBNYXRwbG90\\\n",
              "bGliIHZlcnNpb24zLjUuMSwgaHR0cHM6Ly9tYXRwbG90bGliLm9yZy/YYfK9AAAACXBIWXMAAAsT\\\n",
              "AAALEwEAmpwYAAAG+klEQVR4nO3cwXEcRRSA4R3KJ8gBcrATIAxChCyIwDlADua6HHRyIY2k1tDb\\\n",
              "/8z3HU21dmfn8FdXPd52v99vAFDzw6O/AACMEDAAkgQMgCQBAyBJwABIEjAAkgQMgCQBAyBJwABI\\\n",
              "EjAAkgQMgCQBAyBJwABIEjAAkgQMgCQBAyBJwABIEjAAkgQMgCQBAyBJwABIEjAAkgQMgCQBAyBJ\\\n",
              "wABIEjAAkgQMgCQBAyBJwABIEjAAkgQMgCQBAyBJwABIEjAAkj49+gvwcdu23R/9HeDs7vf79ujv\\\n",
              "wPfcwABIEjAAkgQMgCQBAyBJwABIMoV4cp9///XZf//6258vnrnfHz/UuG3PD3yt/N1utzW+34gz\\\n",
              "PtOIvd+B9biBAZAkYAAkCRgASQIGQJKAAZC0XWnC6Kz2diH+/OPz/+nvf94/dTY6qTYyUXjkmb1z\\\n",
              "s87snfNM42f2zh09UWgX4nrcwABIEjAAkgQMgCQBAyBJwABIEjAAkozRn8DeGH32/f7y0/P//te3\\\n",
              "ud+DS3llXN8Y/WLcwABIEjAAkgQMgCQBAyBJwABIMoV4AiNTiBa+zj2zd84zfczE38EU4mLcwABI\\\n",
              "EjAAkgQMgCQBAyBJwABIEjAAkozRn8Apl/lyu93Gx9sZY4y+xQ0MgCQBAyBJwABIEjAAkgQMgCQB\\\n",
              "AyDp06O/AI9R3Vh+tc3tI1Z/phXeLefgBgZAkoABkCRgACQJGABJAgZAkmW+J2CZLxzDMt8WNzAA\\\n",
              "kgQMgCQBAyBJwABIEjAAkgQMgCTLfC/Kwte5Z/bOeabxM3vnRp+JDjcwAJIEDIAkAQMgScAASBIw\\\n",
              "AJIs8z2B1Zf5jkydrWzmxB5zWebb4gYGQJKAAZAkYAAkCRgASQIGQJKAAZBkme9FrbAcde/vjXzO\\\n",
              "Cs90NMt898/snVv93fJxbmAAJAkYAEkCBkCSgAGQJGAAJAkYAEm20Z/AyDZ6I8bz2Ua/PtvoW9zA\\\n",
              "AEgSMACSBAyAJAEDIEnAAEiyzJc3W2Hh66gVFt+OsMx3/8zeOZO25+cGBkCSgAGQJGAAJAkYAEkC\\\n",
              "BkCSgAGQZJnvCYws86Vh1ii4kfMnlvm2uIEBkCRgACQJGABJAgZAkoABkGSZ70WtsPB1xAoLX2cu\\\n",
              "vh1x9CLkkc+yzJcZ3MAASBIwAJIEDIAkAQMgScAASBIwAJKM0fNmR48er/D3Zp2Z+Vmrj4j7HTiK\\\n",
              "GxgASQIGQJKAAZAkYAAkCRgASQIGQJIxet5s5nbvozeqV7fRz9ws/5JZ79Y2et7LDQyAJAEDIEnA\\\n",
              "AEgSMACSBAyApM00Tt+2bS++RO+XtzCx9+SV3+HxI6F8xw0MgCQBAyBJwABIEjAAkgQMgCQBAyDJ\\\n",
              "Mt+Lqi6xXWHh6wq/w965o0fiRxYKn/F3YD1uYAAkCRgASQIGQJKAAZAkYAAkCRgASbbRn4Bt9DzK\\\n",
              "yEj8ymyjb3EDAyBJwABIEjAAkgQMgCQBAyDJMt+Lqi6xXWHh6wq/w9651Rffrvw70OIGBkCSgAGQ\\\n",
              "JGAAJAkYAEkCBkCSgAGQZJnvCVjmC//1P4zeW+a7GDcwAJIEDIAkAQMgScAASBIwAJIs872o6hLb\\\n",
              "FRa+7p0ZsfozVd8t5+cGBkCSgAGQJGAAJAkYAEkCBkCSgAGQZJnvCVjmy9nNGqO3zLfFDQyAJAED\\\n",
              "IEnAAEgSMACSBAyAJAEDIMk2+ouysXzumb1zo880YtYzjTj6f/mwwf783MAASBIwAJIEDIAkAQMg\\\n",
              "ScAASDKFeFEjU1ijk1uzPmvlMzM/a2QycOYzHT1ZyXW5gQGQJGAAJAkYAEkCBkCSgAGQJGAAJBmj\\\n",
              "v6jqEtvVl/nOdORC2pnvdgWrvEM+xg0MgCQBAyBJwABIEjAAkgQMgKRt9WkhXrdt24sv0fuFt3tl\\\n",
              "GtPo4mLcwABIEjAAkgQMgCQBAyBJwABIEjAAkizzvSjLfOee2TvnmcbP7J0bfSY63MAASBIwAJIE\\\n",
              "DIAkAQMgScAASBIwAJJsoz8B2+ifGJvmo2yjb3EDAyBJwABIEjAAkgQMgCQBAyDJMt+LOuPC1xFH\\\n",
              "/w4jVlhiu/q7tcyX57iBAZAkYAAkCRgASQIGQJKAAZAkYAAkGaO/qJEx4tHR41mftfKZUas/08rf\\\n",
              "b+/MH1++vPvvsR43MACSBAyAJAEDIEnAAEgSMACSTCGe3NGLZwFW4QYGQJKAAZAkYAAkCRgASQIG\\\n",
              "QJKAAZC0zVxMCgBHcQMDIEnAAEgSMACSBAyAJAEDIEnAAEgSMACSBAyAJAEDIEnAAEgSMACSBAyA\\\n",
              "JAEDIEnAAEgSMACSBAyAJAEDIEnAAEgSMACSBAyAJAEDIEnAAEgSMACSBAyAJAEDIEnAAEgSMACS\\\n",
              "BAyAJAEDIEnAAEgSMACSBAyAJAEDIEnAAEgSMACS/gVRzncJoTxY5AAAAABJRU5ErkJggg==\\\n",
              "\"\n",
              "  frames[12] = \"data:image/png;base64,iVBORw0KGgoAAAANSUhEUgAAAbAAAAEgCAYAAADVKCZpAAAAOXRFWHRTb2Z0d2FyZQBNYXRwbG90\\\n",
              "bGliIHZlcnNpb24zLjUuMSwgaHR0cHM6Ly9tYXRwbG90bGliLm9yZy/YYfK9AAAACXBIWXMAAAsT\\\n",
              "AAALEwEAmpwYAAAG5ElEQVR4nO3cMXIjNxBAUcHlyL6DfYg9ta/lQzilg422LI600BjEn3kvh8jh\\\n",
              "BL9Q1erxeDzeAKDml1d/AQCYIWAAJAkYAEkCBkCSgAGQJGAAJAkYAEkCBkCSgAGQJGAAJAkYAEkC\\\n",
              "BkCSgAGQJGAAJAkYAEkCBkCSgAGQJGAAJAkYAEkCBkCSgAGQJGAAJAkYAEkCBkCSgAGQJGAAJAkY\\\n",
              "AEkCBkCSgAGQJGAAJAkYAEkCBkCSgAGQJGAAJP366i/A140xHq/+DnB1j8djvPo78CM3MACSBAyA\\\n",
              "JAEDIEnAAEgSMACSTCFe3B+/vT+g+Pc/zweqHo/XDzWO8f732/m7vb3t8f1mXPGZZhz9DuzHDQyA\\\n",
              "JAEDIEnAAEgSMACSBAyApHGnCaOrOtqF+Oz9zkydzU6qzUwUnnnm6Fz1dzg6V32mlb/DDLsQ9+MG\\\n",
              "BkCSgAGQJGAAJAkYAEkCBkCSgAGQZJnvTc38+8Tsv1w8Pffn76d+1s5nVn6WZ5o/Y5lvixsYAEkC\\\n",
              "BkCSgAGQJGAAJAkYAEmmEG/Kwte1Z47OeaavOfuZ6HADAyBJwABIEjAAkgQMgCQBAyBJwABIGsZJ\\\n",
              "+8YYT1+i99tmFHytD35vm3434wYGQJKAAZAkYAAkCRgASQIGQJKAAZBkG/1NVTeW321z+4zdn2mH\\\n",
              "d8s1uIEBkCRgACQJGABJAgZAkoABkGSZ7wVY5gvnsMy3xQ0MgCQBAyBJwABIEjAAkgQMgCQBAyDJ\\\n",
              "Mt+bsvB17Zmjc55p/szRudlnosMNDIAkAQMgScAASBIwAJIEDIAky3wvYPdlvjNTZztbObHHWpb5\\\n",
              "triBAZAkYAAkCRgASQIGQJKAAZAkYAAkWeZ7UzssRz36ezOfs8Mznc0y3+MzR+d2f7d8nRsYAEkC\\\n",
              "BkCSgAGQJGAAJAkYAEkCBkCSbfQXMLON3ojxerbR7882+hY3MACSBAyAJAEDIEnAAEgSMACSLPPl\\\n",
              "03ZY+Dprh8W3MyzzPT5zdM6k7fW5gQGQJGAAJAkYAEkCBkCSgAGQJGAAJFnmewEzy3xpWDUKbuT8\\\n",
              "O8t8W9zAAEgSMACSBAyAJAEDIEnAAEiyzPemdlj4OmOHha8rF9/OOHsR8sxnWebLCm5gACQJGABJ\\\n",
              "AgZAkoABkCRgACQJGABJxuj5tLNHj3f4e6vOrPys3UfE/Q6cxQ0MgCQBAyBJwABIEjAAkgQMgCQB\\\n",
              "AyDJGD2ftnK799kb1avb6Fduln9m1bu1jZ6f5QYGQJKAAZAkYAAkCRgASQIGQNIwjdM3xnj6Er1f\\\n",
              "PsPE3ncf/A6vHwnlB25gACQJGABJAgZAkoABkCRgACQJGABJlvneVHWJ7Q4LX3f4HY7OnT0SP7NQ\\\n",
              "+Iq/A/txAwMgScAASBIwAJIEDIAkAQMgScAASLKN/gJso+dVZkbid2YbfYsbGABJAgZAkoABkCRg\\\n",
              "ACQJGABJlvneVHWJ7Q4LX3f4HY7O7b74duffgRY3MACSBAyAJAEDIEnAAEgSMACSBAyAJMt8L8Ay\\\n",
              "X/iv/2H03jLfzbiBAZAkYAAkCRgASQIGQJKAAZBkme9NVZfY7rDw9ejMjN2fqfpuuT43MACSBAyA\\\n",
              "JAEDIEnAAEgSMACSBAyAJMt8L8AyX65u1Ri9Zb4tbmAAJAkYAEkCBkCSgAGQJGAAJAkYAEm20d+U\\\n",
              "jeVrzxydm32mGaueacbZ//Jhg/31uYEBkCRgACQJGABJAgZAkoABkGQK8aZmprBmJ7dWfdbOZ1Z+\\\n",
              "1sxk4MpnOnuykvtyAwMgScAASBIwAJIEDIAkAQMgScAASDJGf1PVJba7L/Nd6cyFtCvf7Q52eYd8\\\n",
              "jRsYAEkCBkCSgAGQJGAAJAkYAElj92khPjbGePoSvV/4vA+mMY0ubsYNDIAkAQMgScAASBIwAJIE\\\n",
              "DIAkAQMgyTLfm7LMd+2Zo3Oeaf7M0bnZZ6LDDQyAJAEDIEnAAEgSMACSBAyAJAEDIMk2+guwjf47\\\n",
              "Y9N8lW30LW5gACQJGABJAgZAkoABkCRgACRZ5ntTV1z4OuPs32HGDktsd3+3lvnyHjcwAJIEDIAk\\\n",
              "AQMgScAASBIwAJIEDIAkY/Q3NTNGPDt6vOqzdj4za/dn2vn7HZ3569u3n/577McNDIAkAQMgScAA\\\n",
              "SBIwAJIEDIAkU4gXd/biWYBduIEBkCRgACQJGABJAgZAkoABkCRgACSNlYtJAeAsbmAAJAkYAEkC\\\n",
              "BkCSgAGQJGAAJAkYAEkCBkCSgAGQJGAAJAkYAEkCBkCSgAGQJGAAJAkYAEkCBkCSgAGQJGAAJAkY\\\n",
              "AEkCBkCSgAGQJGAAJAkYAEkCBkCSgAGQJGAAJAkYAEkCBkCSgAGQJGAAJAkYAEkCBkCSgAGQJGAA\\\n",
              "JAkYAEkCBkDSvzX9jhUoveDVAAAAAElFTkSuQmCC\\\n",
              "\"\n",
              "  frames[13] = \"data:image/png;base64,iVBORw0KGgoAAAANSUhEUgAAAbAAAAEgCAYAAADVKCZpAAAAOXRFWHRTb2Z0d2FyZQBNYXRwbG90\\\n",
              "bGliIHZlcnNpb24zLjUuMSwgaHR0cHM6Ly9tYXRwbG90bGliLm9yZy/YYfK9AAAACXBIWXMAAAsT\\\n",
              "AAALEwEAmpwYAAAG+ElEQVR4nO3cwXEcRRSAYQ3lE+QAOdgJEAYhQhZE4BwgB3NdDjq5kEZS79Db\\\n",
              "/8z3HU21dmfn8FdXPd52u92eAKDmh0d/AQAYIWAAJAkYAEkCBkCSgAGQJGAAJAkYAEkCBkCSgAGQ\\\n",
              "JGAAJAkYAEkCBkCSgAGQJGAAJAkYAEkCBkCSgAGQJGAAJAkYAEkCBkCSgAGQJGAAJAkYAEkCBkCS\\\n",
              "gAGQJGAAJAkYAEkCBkCSgAGQJGAAJAkYAEkCBkCSgAGQJGAAJH169Bfgftu23R79HeDsbrfb9ujv\\\n",
              "wPfcwABIEjAAkgQMgCQBAyBJwABIMoV4cp9///XFf//625+vnrndHj/UuG0vD3yt/N2entb4fiPO\\\n",
              "+Ewj9n4H1uMGBkCSgAGQJGAAJAkYAEkCBkDSdqUJo7Pa24X4848v/6e///n41NnopNrIROGRZ/bO\\\n",
              "zTqzd84zjZ/ZO3f0RKFdiOtxAwMgScAASBIwAJIEDIAkAQMgScAASDJGfwJ7Y/RLvN9ffnr53//6\\\n",
              "Nvd7wBveGNc3Rr8YNzAAkgQMgCQBAyBJwABIEjAAkkwhnsDIFKKFr3PP7J3zTPeZ+DuYQlyMGxgA\\\n",
              "SQIGQJKAAZAkYAAkCRgASQIGQJIx+hNYfpkvw0bH2xljjL7FDQyAJAEDIEnAAEgSMACSBAyAJAED\\\n",
              "IOnTo78Aj1HdWH61ze0jVn+mFd4t5+AGBkCSgAGQJGAAJAkYAEkCBkCSZb4nYJkvHMMy3xY3MACS\\\n",
              "BAyAJAEDIEnAAEgSMACSBAyAJMt8L8rC17ln9s55pvEze+dGn4kONzAAkgQMgCQBAyBJwABIEjAA\\\n",
              "kizzPYHVl/mOTJ2tbObEHnNZ5tviBgZAkoABkCRgACQJGABJAgZAkoABkGSZ70WtsBx17++NfM4K\\\n",
              "z3Q0y3z3z+ydW/3dcj83MACSBAyAJAEDIEnAAEgSMACSBAyAJNvoT2BkG70R4/lso1+fbfQtbmAA\\\n",
              "JAkYAEkCBkCSgAGQJGAAJFnmy7utsPB11AqLb0dY5rt/Zu+cSdvzcwMDIEnAAEgSMACSBAyAJAED\\\n",
              "IEnAAEiyzPcERpb50jBrFNzI+TPLfFvcwABIEjAAkgQMgCQBAyBJwABIssz3olZY+DpihYWvMxff\\\n",
              "jjh6EfLIZ1nmywxuYAAkCRgASQIGQJKAAZAkYAAkCRgAScboebejR49X+Huzzsz8rNVHxP0OHMUN\\\n",
              "DIAkAQMgScAASBIwAJIEDIAkAQMgyRg97zZzu/fRG9Wr2+hnbpZ/zax3axs9H+UGBkCSgAGQJGAA\\\n",
              "JAkYAEkCBkDSZhqnb9u2V1+i98t7mNh79sbv8PiRUL7jBgZAkoABkCRgACQJGABJAgZAkoABkGSZ\\\n",
              "70VVl9iusPB1hd9h79zRI/EjC4XP+DuwHjcwAJIEDIAkAQMgScAASBIwAJIEDIAk2+hPwDZ6HmVk\\\n",
              "JH5lttG3uIEBkCRgACQJGABJAgZAkoABkGSZ70VVl9iusPB1hd9h79zqi29X/h1ocQMDIEnAAEgS\\\n",
              "MACSBAyAJAEDIEnAAEiyzPcELPOF//ofRu8t812MGxgASQIGQJKAAZAkYAAkCRgASZb5XlR1ie0K\\\n",
              "C1/3zoxY/Zmq75bzcwMDIEnAAEgSMACSBAyAJAEDIEnAAEiyzPcELPPl7GaN0Vvm2+IGBkCSgAGQ\\\n",
              "JGAAJAkYAEkCBkCSgAGQZBv9RdlYPvfM3rnRZxox65lGHP2/fNhgf35uYAAkCRgASQIGQJKAAZAk\\\n",
              "YAAkmUK8qJEprNHJrVmftfKZmZ81Mhk485mOnqzkutzAAEgSMACSBAyAJAEDIEnAAEgSMACSjNFf\\\n",
              "VHWJ7erLfGc6ciHtzHe7glXeIfdxAwMgScAASBIwAJIEDIAkAQMgaVt9Woi3bdv26kv0fuH93pjG\\\n",
              "NLq4GDcwAJIEDIAkAQMgScAASBIwAJIEDIAky3wvyjLfuWf2znmm8TN750afiQ43MACSBAyAJAED\\\n",
              "IEnAAEgSMACSBAyAJNvoT8A2+mfGprmXbfQtbmAAJAkYAEkCBkCSgAGQJGAAJFnme1FnXPg64ujf\\\n",
              "YcQKS2xXf7eW+fISNzAAkgQMgCQBAyBJwABIEjAAkgQMgCRj9Bc1MkY8Ono867NWPjNq9Wda+fvt\\\n",
              "nfnjy5cP/z3W4wYGQJKAAZAkYAAkCRgASQIGQJIpxJM7evEswCrcwABIEjAAkgQMgCQBAyBJwABI\\\n",
              "EjAAkraZi0kB4ChuYAAkCRgASQIGQJKAAZAkYAAkCRgASQIGQJKAAZAkYAAkCRgASQIGQJKAAZAk\\\n",
              "YAAkCRgASQIGQJKAAZAkYAAkCRgASQIGQJKAAZAkYAAkCRgASQIGQJKAAZAkYAAkCRgASQIGQJKA\\\n",
              "AZAkYAAkCRgASQIGQJKAAZAkYAAkCRgASQIGQNK/uc53CaDss64AAAAASUVORK5CYII=\\\n",
              "\"\n",
              "  frames[14] = \"data:image/png;base64,iVBORw0KGgoAAAANSUhEUgAAAbAAAAEgCAYAAADVKCZpAAAAOXRFWHRTb2Z0d2FyZQBNYXRwbG90\\\n",
              "bGliIHZlcnNpb24zLjUuMSwgaHR0cHM6Ly9tYXRwbG90bGliLm9yZy/YYfK9AAAACXBIWXMAAAsT\\\n",
              "AAALEwEAmpwYAAAG4ElEQVR4nO3cMXIjNxBAUcHlyL6DfYg9ta/lQzilg422LI600BjEn3kvh8jh\\\n",
              "BL9Q1erxeDzeAKDml1d/AQCYIWAAJAkYAEkCBkCSgAGQJGAAJAkYAEkCBkCSgAGQJGAAJAkYAEkC\\\n",
              "BkCSgAGQJGAAJAkYAEkCBkCSgAGQJGAAJAkYAEkCBkCSgAGQJGAAJAkYAEkCBkCSgAGQJGAAJAkY\\\n",
              "AEkCBkCSgAGQJGAAJAkYAEkCBkCSgAGQJGAAJP366i/A140xHq/+DnB1j8djvPo78CM3MACSBAyA\\\n",
              "JAEDIEnAAEgSMACSTCFe3B+/vT+g+Pc/zweqHo/XDzWO8f732/m7vb3t8f1mXPGZZhz9DuzHDQyA\\\n",
              "JAEDIEnAAEgSMACSBAyApHGnCaOrOtqF+Oz9zkydzU6qzUwUnnnm6Fz1dzg6V32mlb/DDLsQ9+MG\\\n",
              "BkCSgAGQJGAAJAkYAEkCBkCSgAGQZJnvTc38+8ThmT9/X/dZwTMrP8szzZ+xzLfFDQyAJAEDIEnA\\\n",
              "AEgSMACSBAyAJFOIN2Xh69ozR+c809ec/Ux0uIEBkCRgACQJGABJAgZAkoABkCRgACQN46R9Y4yn\\\n",
              "L9H7bTMKvtYHv7dNv5txAwMgScAASBIwAJIEDIAkAQMgScAASLKN/qaqG8vvtrl9xu7PtMO75Rrc\\\n",
              "wABIEjAAkgQMgCQBAyBJwABIssz3AizzhXNY5tviBgZAkoABkCRgACQJGABJAgZAkoABkGSZ701Z\\\n",
              "+Lr2zNE5zzR/5ujc7DPR4QYGQJKAAZAkYAAkCRgASQIGQJJlvhew+zLfmamzna2c2GMty3xb3MAA\\\n",
              "SBIwAJIEDIAkAQMgScAASBIwAJIs872pHZajHv29mc/Z4ZnOZpnv8Zmjc7u/W77ODQyAJAEDIEnA\\\n",
              "AEgSMACSBAyAJAEDIMk2+guY2UZvxHg92+j3Zxt9ixsYAEkCBkCSgAGQJGAAJAkYAEmW+fJpOyx8\\\n",
              "nbXD4tsZlvkenzk6Z9L2+tzAAEgSMACSBAyAJAEDIEnAAEgSMACSLPO9gJllvjSsGgU3cv6dZb4t\\\n",
              "bmAAJAkYAEkCBkCSgAGQJGAAJFnme1M7LHydscPC15WLb2ecvQh55rMs82UFNzAAkgQMgCQBAyBJ\\\n",
              "wABIEjAAkgQMgCRj9Hza2aPHO/y9VWdWftbuI+J+B87iBgZAkoABkCRgACQJGABJAgZAkoABkGSM\\\n",
              "nk9bud377I3q1W30KzfLP7Pq3dpGz89yAwMgScAASBIwAJIEDIAkAQMgaZjG6RtjPH2J3i+fYWLv\\\n",
              "uw9+h9ePhPIDNzAAkgQMgCQBAyBJwABIEjAAkgQMgCTLfG+qusR2h4WvO/wOR+fOHomfWSh8xd+B\\\n",
              "/biBAZAkYAAkCRgASQIGQJKAAZAkYAAk2UZ/AbbR8yozI/E7s42+xQ0MgCQBAyBJwABIEjAAkgQM\\\n",
              "gCTLfG+qusR2h4WvO/wOR+d2X3y78+9AixsYAEkCBkCSgAGQJGAAJAkYAEkCBkCSZb4XYJkv/Nf/\\\n",
              "MHpvme9m3MAASBIwAJIEDIAkAQMgScAASLLM96aqS2x3WPh6dGbG7s9UfbdcnxsYAEkCBkCSgAGQ\\\n",
              "JGAAJAkYAEkCBkCSZb4XYJkvV7dqjN4y3xY3MACSBAyAJAEDIEnAAEgSMACSBAyAJNvob8rG8rVn\\\n",
              "js7NPtOMVc804+x/+bDB/vrcwABIEjAAkgQMgCQBAyBJwABIMoV4UzNTWLOTW6s+a+czKz9rZjJw\\\n",
              "5TOdPVnJfbmBAZAkYAAkCRgASQIGQJKAAZAkYAAkGaO/qeoS292X+a505kLale92B7u8Q77GDQyA\\\n",
              "JAEDIEnAAEgSMACSBAyApLH7tBAfG2M8fYneL3zeB9OYRhc34wYGQJKAAZAkYAAkCRgASQIGQJKA\\\n",
              "AZBkme9NWea79szROc80f+bo3Owz0eEGBkCSgAGQJGAAJAkYAEkCBkCSgAGQZBv9BdhG/52xab7K\\\n",
              "NvoWNzAAkgQMgCQBAyBJwABIEjAAkizzvakrLnydcfbvMGOHJba7v1vLfHmPGxgASQIGQJKAAZAk\\\n",
              "YAAkCRgASQIGQJIx+puaGSOeHT1e9Vk7n5m1+zPt/P2Ozvz17dtP/z324wYGQJKAAZAkYAAkCRgA\\\n",
              "SQIGQJIpxIs7e/EswC7cwABIEjAAkgQMgCQBAyBJwABIEjAAksbKxaQAcBY3MACSBAyAJAEDIEnA\\\n",
              "AEgSMACSBAyAJAEDIEnAAEgSMACSBAyAJAEDIEnAAEgSMACSBAyAJAEDIEnAAEgSMACSBAyAJAED\\\n",
              "IEnAAEgSMACSBAyAJAEDIEnAAEgSMACSBAyAJAEDIEnAAEgSMACSBAyAJAEDIEnAAEgSMACSBAyA\\\n",
              "JAEDIOlfPoWOFeouhX4AAAAASUVORK5CYII=\\\n",
              "\"\n",
              "  frames[15] = \"data:image/png;base64,iVBORw0KGgoAAAANSUhEUgAAAbAAAAEgCAYAAADVKCZpAAAAOXRFWHRTb2Z0d2FyZQBNYXRwbG90\\\n",
              "bGliIHZlcnNpb24zLjUuMSwgaHR0cHM6Ly9tYXRwbG90bGliLm9yZy/YYfK9AAAACXBIWXMAAAsT\\\n",
              "AAALEwEAmpwYAAAG+UlEQVR4nO3cwXEcRRSAYQ3lE+QAOdgJEAYhQhZE4BwgB3NdDjq5kEZS79Db\\\n",
              "/8z3HXG1dmfn8FdXPd52u92eAKDmh0d/AQAYIWAAJAkYAEkCBkCSgAGQJGAAJAkYAEkCBkCSgAGQ\\\n",
              "JGAAJAkYAEkCBkCSgAGQJGAAJAkYAEkCBkCSgAGQJGAAJAkYAEkCBkCSgAGQJGAAJAkYAEkCBkCS\\\n",
              "gAGQJGAAJAkYAEkCBkCSgAGQJGAAJAkYAEkCBkCSgAGQJGAAJH169Bfgftu23R79HeDsbrfb9ujv\\\n",
              "wPfcwABIEjAAkgQMgCQBAyBJwABIMoV4cp9///XF//71tz9fPXO7PX6ocdteHvha+bs9Pa3x/Uac\\\n",
              "8ZlG7P0OrMcNDIAkAQMgScAASBIwAJIEDICk7UoTRme1twvx5x9f/qe///n41NnopNrIROGRZ/bO\\\n",
              "zTqzd84zjZ/ZO3f0RKFdiOtxAwMgScAASBIwAJIEDIAkAQMgScAASDJGfwJ7Y/SHvt9ffnr93/76\\\n",
              "dtznwIO8Ma5vjH4xbmAAJAkYAEkCBkCSgAGQJGAAJJlCPIGRKUQLX+ee2Tvnme4z8XcwhbgYNzAA\\\n",
              "kgQMgCQBAyBJwABIEjAAkgQMgCRj9CcwbZkv042OtzPGGH2LGxgASQIGQJKAAZAkYAAkCRgASQIG\\\n",
              "QNKnR38BHqO6sfxqm9tHrP5MK7xbzsENDIAkAQMgScAASBIwAJIEDIAky3xPwDJfOIZlvi1uYAAk\\\n",
              "CRgASQIGQJKAAZAkYAAkCRgASZb5XpSFr3PP7J3zTONn9s6NPhMdbmAAJAkYAEkCBkCSgAGQJGAA\\\n",
              "JFnmewKrL/MdmTpb2cyJPeayzLfFDQyAJAEDIEnAAEgSMACSBAyAJAEDIMky34taYTnq3t8b+ZwV\\\n",
              "nulolvnun9k7t/q75X5uYAAkCRgASQIGQJKAAZAkYAAkCRgASbbRn8DINnojxvPZRr8+2+hb3MAA\\\n",
              "SBIwAJIEDIAkAQMgScAASLLMl3dbYeHrqBUW346wzHf/zN45k7bn5wYGQJKAAZAkYAAkCRgASQIG\\\n",
              "QJKAAZBkme8JjCzzpWHWKLiR82eW+ba4gQGQJGAAJAkYAEkCBkCSgAGQZJnvRa2w8HXECgtfZy6+\\\n",
              "HXH0IuSRz7LMlxncwABIEjAAkgQMgCQBAyBJwABIEjAAkozR825Hjx6v8PdmnZn5WauPiPsdOIob\\\n",
              "GABJAgZAkoABkCRgACQJGABJAgZAkjF63m3mdu+jN6pXt9HP3Cz/mlnv1jZ6PsoNDIAkAQMgScAA\\\n",
              "SBIwAJIEDICkzTRO37Ztr75E75f3MLH37I3f4fEjoXzHDQyAJAEDIEnAAEgSMACSBAyAJAEDIMky\\\n",
              "34uqLrFdYeHrCr/D3rmjR+JHFgqf8XdgPW5gACQJGABJAgZAkoABkCRgACQJGABJttGfgG30PMrI\\\n",
              "SPzKbKNvcQMDIEnAAEgSMACSBAyAJAEDIMky34uqLrFdYeHrCr/D3rnVF9+u/DvQ4gYGQJKAAZAk\\\n",
              "YAAkCRgASQIGQJKAAZBkme8JWOYL//U/jN5b5rsYNzAAkgQMgCQBAyBJwABIEjAAkizzvajqEtsV\\\n",
              "Fr7unRmx+jNV3y3n5wYGQJKAAZAkYAAkCRgASQIGQJKAAZBkme8JWObL2c0ao7fMt8UNDIAkAQMg\\\n",
              "ScAASBIwAJIEDIAkAQMgyTb6i7KxfO6ZvXOjzzRi1jONOPp/+bDB/vzcwABIEjAAkgQMgCQBAyBJ\\\n",
              "wABIMoV4USNTWKOTW7M+a+UzMz9rZDJw5jMdPVnJdbmBAZAkYAAkCRgASQIGQJKAAZAkYAAkGaO/\\\n",
              "qOoS29WX+c505ELame92Bau8Q+7jBgZAkoABkCRgACQJGABJAgZA0rb6tBBv27bt1Zfo/cL7vTGN\\\n",
              "aXRxMW5gACQJGABJAgZAkoABkCRgACQJGABJlvlelGW+c8/snfNM42f2zo0+Ex1uYAAkCRgASQIG\\\n",
              "QJKAAZAkYAAkCRgASbbRn4Bt9M+MTXMv2+hb3MAASBIwAJIEDIAkAQMgScAASLLM96LOuPB1xNG/\\\n",
              "w4gVltiu/m4t8+UlbmAAJAkYAEkCBkCSgAGQJGAAJAkYAEnG6C9qZIx4dPR41metfGbU6s+08vfb\\\n",
              "O/PHly8f/nusxw0MgCQBAyBJwABIEjAAkgQMgCRTiCd39OJZgFW4gQGQJGAAJAkYAEkCBkCSgAGQ\\\n",
              "JGAAJG0zF5MCwFHcwABIEjAAkgQMgCQBAyBJwABIEjAAkgQMgCQBAyBJwABIEjAAkgQMgCQBAyBJ\\\n",
              "wABIEjAAkgQMgCQBAyBJwABIEjAAkgQMgCQBAyBJwABIEjAAkgQMgCQBAyBJwABIEjAAkgQMgCQB\\\n",
              "AyBJwABIEjAAkgQMgCQBAyBJwABIEjAAkgQMgKR/ASKFdwm59RKGAAAAAElFTkSuQmCC\\\n",
              "\"\n",
              "  frames[16] = \"data:image/png;base64,iVBORw0KGgoAAAANSUhEUgAAAbAAAAEgCAYAAADVKCZpAAAAOXRFWHRTb2Z0d2FyZQBNYXRwbG90\\\n",
              "bGliIHZlcnNpb24zLjUuMSwgaHR0cHM6Ly9tYXRwbG90bGliLm9yZy/YYfK9AAAACXBIWXMAAAsT\\\n",
              "AAALEwEAmpwYAAAG4UlEQVR4nO3cMXIsNRRAUYsigj3AIv6q2RaLIB0CR7+w27bcaHS7z8nlmZ4O\\\n",
              "bqnq+Y3H4/ECADW/PPsLAMAMAQMgScAASBIwAJIEDIAkAQMgScAASBIwAJIEDIAkAQMgScAASBIw\\\n",
              "AJIEDIAkAQMgScAASBIwAJIEDIAkAQMgScAASBIwAJIEDIAkAQMgScAASBIwAJIEDIAkAQMgScAA\\\n",
              "SBIwAJIEDIAkAQMgScAASBIwAJIEDIAkAQMg6ddnfwG+b4zxePZ3gKt7PB7j2d+Bn7mBAZAkYAAk\\\n",
              "CRgASQIGQJKAAZBkCvHi/vjt7QHFv/95f6Dq8Xj+UOMYb3+/nb/by8se32/GFZ9pxtHvwH7cwABI\\\n",
              "EjAAkgQMgCQBAyBJwABIGneaMLqqo12I773fmamz2Um1mYnCM88cnav+Dkfnqs+08neYYRfiftzA\\\n",
              "AEgSMACSBAyAJAEDIEnAAEgSMACSLPO9qcN/n/jz96+fmf2sm5xZ+Vmeaf6MZb4tbmAAJAkYAEkC\\\n",
              "BkCSgAGQJGAAJJlCvCkLX9eeOTrnmb7n7Geiww0MgCQBAyBJwABIEjAAkgQMgCQBAyBpGCftG2O8\\\n",
              "+xK93zaj4Gt98Hvb9LsZNzAAkgQMgCQBAyBJwABIEjAAkgQMgCTb6G+qurH8bpvbZ+z+TDu8W67B\\\n",
              "DQyAJAEDIEnAAEgSMACSBAyAJMt8L8AyXziHZb4tbmAAJAkYAEkCBkCSgAGQJGAAJAkYAEmW+d6U\\\n",
              "ha9rzxyd80zzZ47OzT4THW5gACQJGABJAgZAkoABkCRgACRZ5nsBuy/znZk629nKiT3Wssy3xQ0M\\\n",
              "gCQBAyBJwABIEjAAkgQMgCQBAyDJMt+b2mE56tHfm/mcHZ7pbJb5Hp85Orf7u+X73MAASBIwAJIE\\\n",
              "DIAkAQMgScAASBIwAJJso7+AmW30RozXs41+f7bRt7iBAZAkYAAkCRgASQIGQJKAAZBkmS+ftsPC\\\n",
              "11k7LL6dYZnv8ZmjcyZtr88NDIAkAQMgScAASBIwAJIEDIAkAQMgyTLfC5hZ5kvDqlFwI+evLPNt\\\n",
              "cQMDIEnAAEgSMACSBAyAJAEDIMky35vaYeHrjB0Wvq5cfDvj7EXIM59lmS8ruIEBkCRgACQJGABJ\\\n",
              "AgZAkoABkCRgACQZo+fTzh493uHvrTqz8rN2HxH3O3AWNzAAkgQMgCQBAyBJwABIEjAAkgQMgCRj\\\n",
              "9Hzayu3eZ29Ur26jX7lZ/j2r3q1t9HyVGxgASQIGQJKAAZAkYAAkCRgAScM0Tt8Y492X6P3yGSb2\\\n",
              "Xn3wOzx/JJSfuIEBkCRgACQJGABJAgZAkoABkCRgACRZ5ntT1SW2Oyx83eF3ODp39kj8zELhK/4O\\\n",
              "7McNDIAkAQMgScAASBIwAJIEDIAkAQMgyTb6C7CNnmeZGYnfmW30LW5gACQJGABJAgZAkoABkCRg\\\n",
              "ACRZ5ntT1SW2Oyx83eF3ODq3++LbnX8HWtzAAEgSMACSBAyAJAEDIEnAAEgSMACSLPO9AMt84b/+\\\n",
              "h9F7y3w34wYGQJKAAZAkYAAkCRgASQIGQJJlvjdVXWK7w8LXozMzdn+m6rvl+tzAAEgSMACSBAyA\\\n",
              "JAEDIEnAAEgSMACSLPO9AMt8ubpVY/SW+ba4gQGQJGAAJAkYAEkCBkCSgAGQJGAAJNlGf1M2lq89\\\n",
              "c3Ru9plmrHqmGWf/y4cN9tfnBgZAkoABkCRgACQJGABJAgZAkinEm5qZwpqd3Fr1WTufWflZM5OB\\\n",
              "K5/p7MlK7ssNDIAkAQMgScAASBIwAJIEDIAkAQMgyRj9TVWX2O6+zHelMxfSrny3O9jlHfI9bmAA\\\n",
              "JAkYAEkCBkCSgAGQJGAAJI3dp4X42Bjj3Zfo/cLnfTCNaXRxM25gACQJGABJAgZAkoABkCRgACQJ\\\n",
              "GABJlvnelGW+a88cnfNM82eOzs0+Ex1uYAAkCRgASQIGQJKAAZAkYAAkCRgASbbRX4Bt9K+MTfNd\\\n",
              "ttG3uIEBkCRgACQJGABJAgZAkoABkGSZ701dceHrjLN/hxk7LLHd/d1a5stb3MAASBIwAJIEDIAk\\\n",
              "AQMgScAASBIwAJKM0d/UzBjx7Ojxqs/a+cys3Z9p5+93dOavHz++/PfYjxsYAEkCBkCSgAGQJGAA\\\n",
              "JAkYAEmmEC/u7MWzALtwAwMgScAASBIwAJIEDIAkAQMgScAASBorF5MCwFncwABIEjAAkgQMgCQB\\\n",
              "AyBJwABIEjAAkgQMgCQBAyBJwABIEjAAkgQMgCQBAyBJwABIEjAAkgQMgCQBAyBJwABIEjAAkgQM\\\n",
              "gCQBAyBJwABIEjAAkgQMgCQBAyBJwABIEjAAkgQMgCQBAyBJwABIEjAAkgQMgCQBAyBJwABIEjAA\\\n",
              "kgQMgKR/AUcNjhX/EhzRAAAAAElFTkSuQmCC\\\n",
              "\"\n",
              "  frames[17] = \"data:image/png;base64,iVBORw0KGgoAAAANSUhEUgAAAbAAAAEgCAYAAADVKCZpAAAAOXRFWHRTb2Z0d2FyZQBNYXRwbG90\\\n",
              "bGliIHZlcnNpb24zLjUuMSwgaHR0cHM6Ly9tYXRwbG90bGliLm9yZy/YYfK9AAAACXBIWXMAAAsT\\\n",
              "AAALEwEAmpwYAAAG90lEQVR4nO3cwZHjRBSA4RW1J8gBcmATIAxChCyIYHOAHOBqDnPaYqyZaYt2\\\n",
              "/9L3HZfqsWUd/uqqx9tut9snAKj57tlfAABGCBgASQIGQJKAAZAkYAAkCRgASQIGQJKAAZAkYAAk\\\n",
              "CRgASQIGQJKAAZAkYAAkCRgASQIGQJKAAZAkYAAkCRgASQIGQJKAAZAkYAAkCRgASQIGQJKAAZAk\\\n",
              "YAAkCRgASQIGQJKAAZAkYAAkCRgASQIGQJKAAZAkYAAkCRgASZ+f/QV43LZtt2d/Bzi72+22Pfs7\\\n",
              "8C03MACSBAyAJAEDIEnAAEgSMACSTCGe3M+//fLqv3/99Y+7Z2635w81btvrA18rf7dPn9b4fiPO\\\n",
              "+Ewj9n4H1uMGBkCSgAGQJGAAJAkYAEkCBkDSdqUJo7Pa24X44/ev/6e//vn41NnopNrIROGRZ/bO\\\n",
              "zTqzd84zjZ/ZO3f0RKFdiOtxAwMgScAASBIwAJIEDIAkAQMgScAASDJGfwJ7Y/R33+9PP9z/g3/+\\\n",
              "/ehXgqQ3xvWN0S/GDQyAJAEDIEnAAEgSMACSBAyAJFOIJzAyhWjh69wze+c802Mm/g6mEBfjBgZA\\\n",
              "koABkCRgACQJGABJAgZAkoABkGSM/gSGlvmSMDrezhhj9C1uYAAkCRgASQIGQJKAAZAkYAAkCRgA\\\n",
              "SZ+f/QV4jurG8qttbh+x+jOt8G45BzcwAJIEDIAkAQMgScAASBIwAJIs8z0By3zhGJb5triBAZAk\\\n",
              "YAAkCRgASQIGQJKAAZAkYAAkWeZ7URa+zj2zd84zjZ/ZOzf6THS4gQGQJGAAJAkYAEkCBkCSgAGQ\\\n",
              "ZJnvCay+zHdk6mxlMyf2mMsy3xY3MACSBAyAJAEDIEnAAEgSMACSBAyAJMt8L2qF5ah7f2/kc1Z4\\\n",
              "pqNZ5rt/Zu/c6u+Wx7mBAZAkYAAkCRgASQIGQJKAAZAkYAAk2UZ/AiPb6I0Yz2cb/fpso29xAwMg\\\n",
              "ScAASBIwAJIEDIAkAQMgyTJf3m2Fha+jVlh8O8Iy3/0ze+dM2p6fGxgASQIGQJKAAZAkYAAkCRgA\\\n",
              "SQIGQJJlvicwssyXhlmj4EbOX1jm2+IGBkCSgAGQJGAAJAkYAEkCBkCSZb4XtcLC1xErLHydufh2\\\n",
              "xNGLkEc+yzJfZnADAyBJwABIEjAAkgQMgCQBAyBJwABIMkbPux09erzC35t1ZuZnrT4i7nfgKG5g\\\n",
              "ACQJGABJAgZAkoABkCRgACQJGABJxuh5t5nbvY/eqF7dRj9zs/w9s96tbfR8lBsYAEkCBkCSgAGQ\\\n",
              "JGAAJAkYAEmbaZy+bdvuvkTvl/cwsffijd/h+SOhfMMNDIAkAQMgScAASBIwAJIEDIAkAQMgyTLf\\\n",
              "i6ousV1h4esKv8PeuaNH4kcWCp/xd2A9bmAAJAkYAEkCBkCSgAGQJGAAJAkYAEm20Z+AbfQ8y8hI\\\n",
              "/Mpso29xAwMgScAASBIwAJIEDIAkAQMgyTLfi6ousV1h4esKv8PeudUX3678O9DiBgZAkoABkCRg\\\n",
              "ACQJGABJAgZAkoABkGSZ7wlY5gv/9T+M3lvmuxg3MACSBAyAJAEDIEnAAEgSMACSLPO9qOoS2xUW\\\n",
              "vu6dGbH6M1XfLefnBgZAkoABkCRgACQJGABJAgZAkoABkGSZ7wlY5svZzRqjt8y3xQ0MgCQBAyBJ\\\n",
              "wABIEjAAkgQMgCQBAyDJNvqLsrF87pm9c6PPNGLWM404+n/5sMH+/NzAAEgSMACSBAyAJAEDIEnA\\\n",
              "AEgyhXhRI1NYo5Nbsz5r5TMzP2tkMnDmMx09Wcl1uYEBkCRgACQJGABJAgZAkoABkCRgACQZo7+o\\\n",
              "6hLb1Zf5znTkQtqZ73YFq7xDHuMGBkCSgAGQJGAAJAkYAEkCBkDStvq0EG/btu3uS/R+4f3emMY0\\\n",
              "urgYNzAAkgQMgCQBAyBJwABIEjAAkgQMgCTLfC/KMt+5Z/bOeabxM3vnRp+JDjcwAJIEDIAkAQMg\\\n",
              "ScAASBIwAJIEDIAk2+hPwDb6F8ameZRt9C1uYAAkCRgASQIGQJKAAZAkYAAkWeZ7UWdc+Dri6N9h\\\n",
              "xApLbFd/t5b58ho3MACSBAyAJAEDIEnAAEgSMACSBAyAJGP0FzUyRjw6ejzrs1Y+M2r1Z1r5++2d\\\n",
              "+f3Llw//PdbjBgZAkoABkCRgACQJGABJAgZAkinEkzt68SzAKtzAAEgSMACSBAyAJAEDIEnAAEgS\\\n",
              "MACStpmLSQHgKG5gACQJGABJAgZAkoABkCRgACQJGABJAgZAkoABkCRgACQJGABJAgZAkoABkCRg\\\n",
              "ACQJGABJAgZAkoABkCRgACQJGABJAgZAkoABkCRgACQJGABJAgZAkoABkCRgACQJGABJAgZAkoAB\\\n",
              "kCRgACQJGABJAgZAkoABkCRgACQJGABJAgZA0r+KhXcJ67m97AAAAABJRU5ErkJggg==\\\n",
              "\"\n",
              "  frames[18] = \"data:image/png;base64,iVBORw0KGgoAAAANSUhEUgAAAbAAAAEgCAYAAADVKCZpAAAAOXRFWHRTb2Z0d2FyZQBNYXRwbG90\\\n",
              "bGliIHZlcnNpb24zLjUuMSwgaHR0cHM6Ly9tYXRwbG90bGliLm9yZy/YYfK9AAAACXBIWXMAAAsT\\\n",
              "AAALEwEAmpwYAAAG6klEQVR4nO3cQW7cRhBAUTHwKrlDcgifOtfKIbKdLLQyLFFyi+np33xvaaA1\\\n",
              "Q87io4FyHY/H4wUAan579hcAgBECBkCSgAGQJGAAJAkYAEkCBkCSgAGQJGAAJAkYAEkCBkCSgAGQ\\\n",
              "JGAAJAkYAEkCBkCSgAGQJGAAJAkYAEkCBkCSgAGQJGAAJAkYAEkCBkCSgAGQJGAAJAkYAEkCBkCS\\\n",
              "gAGQJGAAJAkYAEkCBkCSgAGQJGAAJAkYAEkCBkDSt2d/Ab7uOI7Hs78D7O7xeBzP/g78yA0MgCQB\\\n",
              "AyBJwABIEjAAkgQMgCRTiJv78/e3BxT/+ff9garH4/lDjcfx9vdb+bu9vKzx/Ubs+Ewjzt4D63ED\\\n",
              "AyBJwABIEjAAkgQMgCQBAyDpuNOE0a7OdiG+9/uOTJ2NTqqNTBReeebsXPU9nJ2rPtPM9zDCLsT1\\\n",
              "uIEBkCRgACQJGABJAgZAkoABkCRgACRZ5ru7v/54859H/vvE6H+5mPVZK5+Z+VmeafyMZb4tbmAA\\\n",
              "JAkYAEkCBkCSgAGQJGAAJFnmuwHLfM/PnJ2rvoezc+VnGjHxPRhRXIwbGABJAgZAkoABkCRgACQJ\\\n",
              "GABJAgZAkjH6DYyM0dMwOt7OGGP0LW5gACQJGABJAgZAkoABkCRgACQJGABJ3579BXiO6sbyu21u\\\n",
              "H7H6M63w27IHNzAAkgQMgCQBAyBJwABIEjAAkizz3YBlvnANy3xb3MAASBIwAJIEDIAkAQMgScAA\\\n",
              "SBIwAJIs870pC1/nnjk755nGz5ydG30mOtzAAEgSMACSBAyAJAEDIEnAAEiyzHcDqy/zHZk6W9nM\\\n",
              "iT3mssy3xQ0MgCQBAyBJwABIEjAAkgQMgCQBAyDJMt+bWmE56tnfG/mcFZ7papb5np85O7f6b8vX\\\n",
              "uYEBkCRgACQJGABJAgZAkoABkCRgACTZRr+BkW30Rozns41+fbbRt7iBAZAkYAAkCRgASQIGQJKA\\\n",
              "AZBkmS+ftsLC11ErLL4dYZnv+ZmzcyZt9+cGBkCSgAGQJGAAJAkYAEkCBkCSgAGQZJnvBkaW+dIw\\\n",
              "axTcyPkry3xb3MAASBIwAJIEDIAkAQMgScAASLLM96ZWWPg6YoWFrzMX3464ehHyyGdZ5ssMbmAA\\\n",
              "JAkYAEkCBkCSgAGQJGAAJAkYAEnG6Pm0q0ePV/h7s87M/KzVR8S9B67iBgZAkoABkCRgACQJGABJ\\\n",
              "AgZAkoABkGSMnk+bud376o3q1W30MzfLv2fWb2sbPb/KDQyAJAEDIEnAAEgSMACSBAyApMM0Tt9x\\\n",
              "HO/+iH5fPsPE3qsP3sPzR0L5gRsYAEkCBkCSgAGQJGAAJAkYAEkCBkCSZb43VV1iu8LC1xXew9m5\\\n",
              "q0fiRxYK7/geWI8bGABJAgZAkoABkCRgACQJGABJAgZAkm30G7CNnmcZGYlfmW30LW5gACQJGABJ\\\n",
              "AgZAkoABkCRgACRZ5ntT1SW2Kyx8XeE9nJ1bffHtyu+BFjcwAJIEDIAkAQMgScAASBIwAJIEDIAk\\\n",
              "y3w3YJkv/Ox/GL23zHcxbmAAJAkYAEkCBkCSgAGQJGAAJFnme1PVJbYrLHw9OzNi9Weq/rbszw0M\\\n",
              "gCQBAyBJwABIEjAAkgQMgCQBAyDJMt8NWObL7maN0Vvm2+IGBkCSgAGQJGAAJAkYAEkCBkCSgAGQ\\\n",
              "ZBv9TdlYPvfM2bnRZxox65lGXP1fPmyw358bGABJAgZAkoABkCRgACQJGABJphBvamQKa3Rya9Zn\\\n",
              "rXxm5meNTAbOfKarJyu5LzcwAJIEDIAkAQMgScAASBIwAJIEDIAkY/Q3VV1iu/oy35muXEg787dd\\\n",
              "wSq/IV/jBgZAkoABkCRgACQJGABJAgZA0rH6tBAfO47j3R/R7wuf98E0ptHFxbiBAZAkYAAkCRgA\\\n",
              "SQIGQJKAAZAkYAAkWeZ7U5b5zj1zds4zjZ85Ozf6THS4gQGQJGAAJAkYAEkCBkCSgAGQJGAAJNlG\\\n",
              "vwHb6F8Zm+arbKNvcQMDIEnAAEgSMACSBAyAJAEDIMky35vaceHriKvfw4gVltiu/tta5stb3MAA\\\n",
              "SBIwAJIEDIAkAQMgScAASBIwAJKM0d/UyBjx6OjxrM9a+cyo1Z9p5e93dubv799/+e+xHjcwAJIE\\\n",
              "DIAkAQMgScAASBIwAJJMIW7u6sWzAKtwAwMgScAASBIwAJIEDIAkAQMgScAASDpmLiYFgKu4gQGQ\\\n",
              "JGAAJAkYAEkCBkCSgAGQJGAAJAkYAEkCBkCSgAGQJGAAJAkYAEkCBkCSgAGQJGAAJAkYAEkCBkCS\\\n",
              "gAGQJGAAJAkYAEkCBkCSgAGQJGAAJAkYAEkCBkCSgAGQJGAAJAkYAEkCBkCSgAGQJGAAJAkYAEkC\\\n",
              "BkCSgAGQJGAAJAkYAEn/AaKEmA8lu8dQAAAAAElFTkSuQmCC\\\n",
              "\"\n",
              "  frames[19] = \"data:image/png;base64,iVBORw0KGgoAAAANSUhEUgAAAbAAAAEgCAYAAADVKCZpAAAAOXRFWHRTb2Z0d2FyZQBNYXRwbG90\\\n",
              "bGliIHZlcnNpb24zLjUuMSwgaHR0cHM6Ly9tYXRwbG90bGliLm9yZy/YYfK9AAAACXBIWXMAAAsT\\\n",
              "AAALEwEAmpwYAAAG5ElEQVR4nO3cwZEcRRBAUTWhE0ZgBHIAMzARvMACjMAIXYeDTgp2e1e1TU39\\\n",
              "6veOImpnevrwoyKSPB6PxycAqPnp2V8AAEYIGABJAgZAkoABkCRgACQJGABJAgZAkoABkCRgACQJ\\\n",
              "GABJAgZAkoABkCRgACQJGABJAgZAkoABkCRgACQJGABJAgZAkoABkCRgACQJGABJAgZAkoABkCRg\\\n",
              "ACQJGABJAgZAkoABkCRgACQJGABJAgZAkoABkCRgACQJGABJn5/9Bfi44zgez/4OsLvH43E8+zvw\\\n",
              "PTcwAJIEDIAkAQMgScAASBIwAJJMIW7u1z9+e/Hf//79r1fPPB7PH2o8jpcHvlb+bp8+rfH9Ruz4\\\n",
              "TCPOfgfW4wYGQJKAAZAkYAAkCRgASQIGQNJxpwmjXZ3tQvzl55f/0z9ff3zqbHRSbWSi8MozZ+dm\\\n",
              "nTk755nGz5ydu3qi0C7E9biBAZAkYAAkCRgASQIGQJKAAZAkYAAkGaPfwNkYvfcL7/fGuL4x+sW4\\\n",
              "gQGQJGAAJAkYAEkCBkCSgAGQ9PnZX4DnsPB17pmzc57pY65+JjrcwABIEjAAkgQMgCQBAyBJwABI\\\n",
              "EjAAkizz3YBlvvsyCj6XZb4tbmAAJAkYAEkCBkCSgAGQJGAAJAkYAEm20d9UdWP53Ta3j1j9mVZ4\\\n",
              "t+zBDQyAJAEDIEnAAEgSMACSBAyAJMt8N2CZL1zDMt8WNzAAkgQMgCQBAyBJwABIEjAAkgQMgCTL\\\n",
              "fG/Kwte5Z87OeabxM2fnRp+JDjcwAJIEDIAkAQMgScAASBIwAJIs893A6st8R6bOVjZzYo+5LPNt\\\n",
              "cQMDIEnAAEgSMACSBAyAJAEDIEnAAEiyzPemVliOevb3Rj5nhWe6mmW+52fOzq3+bvk4NzAAkgQM\\\n",
              "gCQBAyBJwABIEjAAkgQMgCTb6Dcwso3eiPF8ttGvzzb6FjcwAJIEDIAkAQMgScAASBIwAJIs8+Xd\\\n",
              "Vlj4OmqFxbcjLPM9P3N2zqTt/tzAAEgSMACSBAyAJAEDIEnAAEgSMACSLPPdwMgyXxpmjYIbOf/G\\\n",
              "Mt8WNzAAkgQMgCQBAyBJwABIEjAAkizzvakVFr6OWGHh68zFtyOuXoQ88lmW+TKDGxgASQIGQJKA\\\n",
              "AZAkYAAkCRgASQIGQJIxet7t6tHjFf7erDMzP2v1EXG/A1dxAwMgScAASBIwAJIEDIAkAQMgScAA\\\n",
              "SDJGz7vN3O599Ub16jb6mZvlXzPr3dpGz49yAwMgScAASBIwAJIEDIAkAQMg6TCN03ccx6sv0fvl\\\n",
              "PUzsffPG7/D8kVC+4wYGQJKAAZAkYAAkCRgASQIGQJKAAZBkme9NVZfYrrDwdYXf4ezc1SPxIwuF\\\n",
              "d/wdWI8bGABJAgZAkoABkCRgACQJGABJAgZAkm30G7CNnmcZGYlfmW30LW5gACQJGABJAgZAkoAB\\\n",
              "kCRgACRZ5ntT1SW2Kyx8XeF3ODu3+uLblX8HWtzAAEgSMACSBAyAJAEDIEnAAEgSMACSLPPdgGW+\\\n",
              "8F//w+i9Zb6LcQMDIEnAAEgSMACSBAyAJAEDIMky35uqLrFdYeHr2ZkRqz9T9d2yPzcwAJIEDIAk\\\n",
              "AQMgScAASBIwAJIEDIAky3w3YJkvu5s1Rm+Zb4sbGABJAgZAkoABkCRgACQJGABJAgZAkm30N2Vj\\\n",
              "+dwzZ+dGn2nErGcacfX/8mGD/f7cwABIEjAAkgQMgCQBAyBJwABIMoV4UyNTWKOTW7M+a+UzMz9r\\\n",
              "ZDJw5jNdPVnJfbmBAZAkYAAkCRgASQIGQJKAAZAkYAAkGaO/qeoS29WX+c505ULame92Bau8Qz7G\\\n",
              "DQyAJAEDIEnAAEgSMACSBAyApGP1aSHedhzHqy/R+4X3e2Ma0+jiYtzAAEgSMACSBAyAJAEDIEnA\\\n",
              "AEgSMACSLPO9Kct85545O+eZxs+cnRt9JjrcwABIEjAAkgQMgCQBAyBJwABIEjAAkmyj34Bt9N8Y\\\n",
              "m+ajbKNvcQMDIEnAAEgSMACSBAyAJAEDIMky35vaceHriKt/hxErLLFd/d1a5stL3MAASBIwAJIE\\\n",
              "DIAkAQMgScAASBIwAJKM0d/UyBjx6OjxrM9a+cyo1Z9p5e93dubPL19++O+xHjcwAJIEDIAkAQMg\\\n",
              "ScAASBIwAJJMIW7u6sWzAKtwAwMgScAASBIwAJIEDIAkAQMgScAASDpmLiYFgKu4gQGQJGAAJAkY\\\n",
              "AEkCBkCSgAGQJGAAJAkYAEkCBkCSgAGQJGAAJAkYAEkCBkCSgAGQJGAAJAkYAEkCBkCSgAGQJGAA\\\n",
              "JAkYAEkCBkCSgAGQJGAAJAkYAEkCBkCSgAGQJGAAJAkYAEkCBkCSgAGQJGAAJAkYAEkCBkCSgAGQ\\\n",
              "JGAAJAkYAEn/AtL0aw+rSx0LAAAAAElFTkSuQmCC\\\n",
              "\"\n",
              "\n",
              "\n",
              "    /* set a timeout to make sure all the above elements are created before\n",
              "       the object is initialized. */\n",
              "    setTimeout(function() {\n",
              "        anim86a3311f8a364a8f9f73802a262ffdf8 = new Animation(frames, img_id, slider_id, 32.0,\n",
              "                                 loop_select_id);\n",
              "    }, 0);\n",
              "  })()\n",
              "</script>\n"
            ],
            "text/plain": [
              "<IPython.core.display.HTML object>"
            ]
          },
          "execution_count": 22,
          "metadata": {},
          "output_type": "execute_result"
        }
      ],
      "source": [
        "vis.create_gif(fps=1)\n",
        "vis.show_gif()"
      ]
    },
    {
      "cell_type": "markdown",
      "metadata": {
        "id": "8o3F5sGT1YNm"
      },
      "source": [
        "## Μέρος 5: Bonus\n",
        "\n",
        "Υπενθυμίζεται ότι το output των κελιών που σχηματίζετε διατηρείται για περιορισμένο χρονικό διάστημα στο notebook, γι αυτό καλείστε να αποθηκεύσετε τη φωτογραφία (το πραγματοποιεί η συνάρτηση draw()) και να τη μεταφέρετε στο ανάλογο markdown."
      ]
    },
    {
      "cell_type": "code",
      "execution_count": null,
      "metadata": {
        "colab": {
          "base_uri": "https://localhost:8080/",
          "height": 398
        },
        "id": "k58iY7EPSa_m",
        "outputId": "5f0bd25f-61bf-456d-a0d4-6d986e745af7"
      },
      "outputs": [],
      "source": [
        "from IPython.display import HTML, Image\n",
        "from google.colab.output import eval_js\n",
        "from base64 import b64decode\n",
        "import PIL\n",
        "\n",
        "\n",
        "canvas_html = \"\"\"\n",
        "<canvas width=301 height=301></canvas>\n",
        "<br>\n",
        "\n",
        "<button id = \"start\" style=\"background-color: #008000\">Start</button>\n",
        "<button id = \"end\" style=\"background-color: #800000\">End</button>\n",
        "<button id = \"finish\">Finish</button>\n",
        "<script>\n",
        "\n",
        "var canvas = document.querySelector('canvas')\n",
        "var ctx = canvas.getContext('2d')\n",
        "\n",
        "for (var x = 0.5; x < 301; x += 20) {\n",
        "  ctx.moveTo(x, 0);\n",
        "  ctx.lineTo(x, 300);\n",
        "}\n",
        "\n",
        "for (var y = 0.5; y < 301; y += 20) {\n",
        "  ctx.moveTo(0, y);\n",
        "  ctx.lineTo(300, y);\n",
        "}\n",
        "\n",
        "ctx.strokeStyle = \"#000\";\n",
        "ctx.stroke();\n",
        "\n",
        "var button = document.getElementById('finish')\n",
        "var start_button = document.getElementById('start')\n",
        "var end_button = document.getElementById('end')\n",
        "\n",
        "\n",
        "start_button.onclick = ()=>{\n",
        "    ctx.fillStyle=\"#008000\";\n",
        "  }\n",
        "\n",
        "end_button.onclick = ()=>{\n",
        "    ctx.fillStyle=\"#800000\";\n",
        "  }\n",
        "   \n",
        "\n",
        "var mouse = {x: 0, y: 0}\n",
        "canvas.addEventListener('mousemove', function(e) {\n",
        "  mouse.x = e.pageX - this.offsetLeft\n",
        "  mouse.y = e.pageY - this.offsetTop\n",
        "})\n",
        "\n",
        "function getMousePos(canvas, evt) {\n",
        "        var rect = canvas.getBoundingClientRect();\n",
        "        return {\n",
        "          x: evt.x - rect.left,\n",
        "          y: evt.y - rect.top\n",
        "        };\n",
        "      }\n",
        "\n",
        "function getNearestSquare(position) {\n",
        "    var x = position.x;\n",
        "    var y = position.y;\n",
        "\n",
        "    if (x < 0 || y < 0) return null;\n",
        "    x = (Math.floor(x / 20) * 20) + 0.5\n",
        "    y = (Math.floor(y / 20) * 20) + 0.5\n",
        "    return {x: x, y: y};\n",
        "}\n",
        "\n",
        "function containsObject(obj, list) {\n",
        "    var i;\n",
        "    for (i = 0; i < list.length; i++) {\n",
        "        if (list[i].x === obj.x && list[i].y == obj.y) {\n",
        "            return i;\n",
        "        }\n",
        "    }\n",
        "    return -1;\n",
        "}\n",
        "\n",
        "borders = []\n",
        "\n",
        "canvas.onmousedown = ()=>{\n",
        "    var pos = getNearestSquare(getMousePos(canvas, mouse));\n",
        "    if (pos != null) {\n",
        "        index = containsObject(pos, borders)\n",
        "        if (index != -1){\n",
        "            borders.splice(index, 1)\n",
        "            ctx.clearRect(pos.x + 1, pos.y, 19, 19)\n",
        "        }\n",
        "        else{\n",
        "            ctx.fillRect(pos.x+1,pos.y+1,18,18);\n",
        "            borders.push(pos)\n",
        "        }\n",
        "        ctx.fillStyle=\"#000000\";\n",
        "    }\n",
        "}\n",
        "var data = new Promise(resolve=>{\n",
        "  button.onclick = ()=>{\n",
        "    resolve(canvas.toDataURL('image/png'))\n",
        "  }\n",
        "})\n",
        "</script>\n",
        "\"\"\"\n",
        "\n",
        "def draw(filename='drawing.png'):\n",
        "  display(HTML(canvas_html))\n",
        "  data = eval_js(\"data\")\n",
        "  print (data)\n",
        "  binary = b64decode(data.split(',')[1])\n",
        "  with open(filename, 'wb') as f:\n",
        "    f.write(binary)\n",
        "  return len(binary)\n",
        "\n",
        "\n",
        "draw()"
      ]
    },
    {
      "cell_type": "code",
      "execution_count": null,
      "metadata": {
        "id": "D8fS2Z9Xg4fS"
      },
      "outputs": [],
      "source": [
        "def find_points(image_array, pixels):\n",
        "    points = []\n",
        "    for grid_i, i in enumerate(range (10, image_array.shape[0]-10, 20)):\n",
        "        for grid_j, j in enumerate(range (10, image_array.shape[1]-10, 20)):\n",
        "            if np.array_equal(image_array[i][j], pixels):\n",
        "                points.append([grid_i+1, grid_j+1])\n",
        "    return points\n",
        "\n",
        "def draw_grid(fname='/content/drawing.png'):\n",
        "    N = 17\n",
        "    image = PIL.Image.open(fname)\n",
        "    image_array = np.round(np.array(image)/255)\n",
        "\n",
        "    start_x, start_y = find_points(image_array, [0,1,0,1])[0]\n",
        "    end_x, end_y = find_points(image_array, [1, 0, 0, 1])[0]\n",
        "    walls = find_points(image_array, [0, 0, 0, 1])\n",
        "    new_grid = Maze(N, (start_x, start_y), (end_x, end_y))\n",
        "\n",
        "    for i in range(N):\n",
        "        for j in range(N):\n",
        "            if [i, j] in walls:\n",
        "                new_grid.grid[i,j] = 0\n",
        "            else:\n",
        "                new_grid.grid[i, j] = 1\n",
        "\n",
        "    g = new_grid\n",
        "    g.draw_map()\n",
        "    return g\n",
        "\n",
        "g = draw_grid()"
      ]
    },
    {
      "cell_type": "code",
      "execution_count": null,
      "metadata": {
        "id": "O41WKWFvzXk7"
      },
      "outputs": [],
      "source": [
        "pf = pathfinder(g.S, g.F, g, lambda x, y: 1, lambda x, y: 0)\n",
        "g.draw_map(pf.get_path())"
      ]
    },
    {
      "cell_type": "code",
      "execution_count": null,
      "metadata": {
        "id": "WY8URi132WP2"
      },
      "outputs": [],
      "source": [
        "pf.vis.show_gif()"
      ]
    },
    {
      "cell_type": "markdown",
      "metadata": {
        "id": "tprNeqaPIdlW"
      },
      "source": [
        "### 5.1.  "
      ]
    },
    {
      "cell_type": "code",
      "execution_count": null,
      "metadata": {
        "id": "vF3u1cCeIo9H"
      },
      "outputs": [],
      "source": [
        "draw(filename='5.1.png')"
      ]
    },
    {
      "cell_type": "markdown",
      "metadata": {
        "id": "QjwsOf63Ir7V"
      },
      "source": [
        "#### Εισάγετε εδώ την φωτογραφία όπως αυτή προέκυψε από την εκτέλεση και αλληλεπίδραση με το παραπάνω κελί.  \n",
        "\n",
        "\n",
        "#### Εισάγετε εδώ το σχολιασμό σας    \n",
        "\n",
        "\n",
        "\n",
        "(Υπενθύμιση: για τον Hill Climbing δε χρειάζετει να τρέξετε το χάρτη που σχηματίσατε)"
      ]
    },
    {
      "cell_type": "markdown",
      "metadata": {
        "id": "0VrKUeZKK26d"
      },
      "source": []
    },
    {
      "cell_type": "markdown",
      "metadata": {
        "id": "CxyUgnTaIhHa"
      },
      "source": [
        "### 5.2.  "
      ]
    },
    {
      "cell_type": "code",
      "execution_count": null,
      "metadata": {
        "id": "ZT1RxaUJJBok"
      },
      "outputs": [],
      "source": [
        "draw(filename='5.2.png')"
      ]
    },
    {
      "cell_type": "markdown",
      "metadata": {
        "id": "2whQnhT7JGbR"
      },
      "source": [
        "#### Εισάγετε εδώ την φωτογραφία όπως αυτή προέκυψε από την εκτέλεση και αλληλεπίδραση με το παραπάνω κελί.  \n",
        "\n",
        "\n",
        "#### Εισάγετε εδώ το σχολιασμό σας "
      ]
    },
    {
      "cell_type": "code",
      "execution_count": null,
      "metadata": {
        "id": "mSCwE_MZ9Ewa"
      },
      "outputs": [],
      "source": [
        "g = draw_grid()"
      ]
    },
    {
      "cell_type": "code",
      "execution_count": null,
      "metadata": {
        "id": "a-M664IJ9GR-"
      },
      "outputs": [],
      "source": [
        "pf = pathfinder(g.S, g.F, g, c, h)   # change arguments to choose the appropriate pathfinding algorithm and cost/heuristic (if applicable)\n",
        "g.draw_map(pf.get_path())"
      ]
    },
    {
      "cell_type": "code",
      "execution_count": null,
      "metadata": {
        "id": "ZCb5j2Ul_uCo"
      },
      "outputs": [],
      "source": [
        "pf.vis.show_gif()"
      ]
    },
    {
      "cell_type": "markdown",
      "metadata": {
        "id": "rqqmkt3U_9q1"
      },
      "source": [
        "### 5.3."
      ]
    },
    {
      "cell_type": "code",
      "execution_count": null,
      "metadata": {
        "id": "UwqILZmBJjJ-"
      },
      "outputs": [],
      "source": [
        "draw(filename='5.3.png')"
      ]
    },
    {
      "cell_type": "markdown",
      "metadata": {
        "id": "-A3mBvHiJoQq"
      },
      "source": [
        "#### Εισάγετε εδώ την φωτογραφία όπως αυτή προέκυψε από την εκτέλεση και αλληλεπίδραση με το παραπάνω κελί.  \n",
        "\n",
        "\n",
        "#### Εισάγετε εδώ το σχολιασμό σας "
      ]
    },
    {
      "cell_type": "code",
      "execution_count": null,
      "metadata": {
        "id": "apabzO95ACov"
      },
      "outputs": [],
      "source": [
        "g = draw_grid()"
      ]
    },
    {
      "cell_type": "code",
      "execution_count": null,
      "metadata": {
        "id": "V1s5kFo5ADsb"
      },
      "outputs": [],
      "source": [
        "pf = pathfinder(g.S, g.F, g, c, h)   # change arguments to choose the appropriate pathfinding algorithm and cost/heuristic (if applicable)\n",
        "g.draw_map(pf.get_path())"
      ]
    },
    {
      "cell_type": "code",
      "execution_count": null,
      "metadata": {
        "id": "gdTJbRpmAD0X"
      },
      "outputs": [],
      "source": [
        "pf.vis.show_gif()"
      ]
    },
    {
      "cell_type": "markdown",
      "metadata": {
        "id": "x41xMK-VAGHp"
      },
      "source": [
        "### 5.4.  "
      ]
    },
    {
      "cell_type": "code",
      "execution_count": null,
      "metadata": {
        "id": "ndh3zuH4Jjyo"
      },
      "outputs": [],
      "source": [
        "draw(filename='5.4.png')"
      ]
    },
    {
      "cell_type": "markdown",
      "metadata": {
        "id": "UOEI0BCCJqFz"
      },
      "source": [
        "#### Εισάγετε εδώ την φωτογραφία όπως αυτή προέκυψε από την εκτέλεση και αλληλεπίδραση με το παραπάνω κελί.  \n",
        "\n",
        "\n",
        "#### Εισάγετε εδώ το σχολιασμό σας "
      ]
    },
    {
      "cell_type": "code",
      "execution_count": null,
      "metadata": {
        "id": "ixRxVVOwAK8K"
      },
      "outputs": [],
      "source": [
        "g = draw_grid()"
      ]
    },
    {
      "cell_type": "code",
      "execution_count": null,
      "metadata": {
        "id": "3Qrz7mawALUY"
      },
      "outputs": [],
      "source": [
        "pf = pathfinder(g.S, g.F, g, c, h)   # change arguments to choose the appropriate pathfinding algorithm and cost/heuristic (if applicable)\n",
        "g.draw_map(pf.get_path())"
      ]
    },
    {
      "cell_type": "code",
      "execution_count": null,
      "metadata": {
        "id": "5ze26bEaALcm"
      },
      "outputs": [],
      "source": [
        "pf.vis.show_gif()"
      ]
    },
    {
      "cell_type": "markdown",
      "metadata": {
        "id": "KcKfD8ylAOpb"
      },
      "source": [
        "### 5.5  "
      ]
    },
    {
      "cell_type": "code",
      "execution_count": null,
      "metadata": {
        "id": "tzK7U4PfJkIC"
      },
      "outputs": [],
      "source": [
        "draw(filename='5.5.png')"
      ]
    },
    {
      "cell_type": "markdown",
      "metadata": {
        "id": "gudt2lGiJrW0"
      },
      "source": [
        "#### Εισάγετε εδώ την φωτογραφία όπως αυτή προέκυψε από την εκτέλεση και αλληλεπίδραση με το παραπάνω κελί.  \n",
        "\n",
        "\n",
        "#### Εισάγετε εδώ το σχολιασμό σας "
      ]
    },
    {
      "cell_type": "code",
      "execution_count": null,
      "metadata": {
        "id": "zT3sxMjVARhy"
      },
      "outputs": [],
      "source": [
        "g = draw_grid()"
      ]
    },
    {
      "cell_type": "code",
      "execution_count": null,
      "metadata": {
        "id": "CVET3yUWATTB"
      },
      "outputs": [],
      "source": [
        "pf = pathfinder(g.S, g.F, g, c, h)   # change arguments to choose the appropriate pathfinding algorithm and cost/heuristic (if applicable)\n",
        "g.draw_map(pf.get_path())"
      ]
    },
    {
      "cell_type": "code",
      "execution_count": null,
      "metadata": {
        "id": "I6uV-Co-_qj4"
      },
      "outputs": [],
      "source": [
        "pf.vis.show_gif()"
      ]
    },
    {
      "cell_type": "code",
      "execution_count": null,
      "metadata": {},
      "outputs": [],
      "source": []
    },
    {
      "cell_type": "code",
      "execution_count": null,
      "metadata": {},
      "outputs": [],
      "source": []
    }
  ],
  "metadata": {
    "colab": {
      "provenance": []
    },
    "kernelspec": {
      "display_name": "Python 3",
      "language": "python",
      "name": "python3"
    },
    "language_info": {
      "codemirror_mode": {
        "name": "ipython",
        "version": 3
      },
      "file_extension": ".py",
      "mimetype": "text/x-python",
      "name": "python",
      "nbconvert_exporter": "python",
      "pygments_lexer": "ipython3",
      "version": "3.10.6"
    },
    "vscode": {
      "interpreter": {
        "hash": "916dbcbb3f70747c44a77c7bcd40155683ae19c65e1c03b4aa3499c5328201f1"
      }
    }
  },
  "nbformat": 4,
  "nbformat_minor": 0
}
